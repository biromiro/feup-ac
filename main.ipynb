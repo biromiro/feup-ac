{
 "cells": [
  {
   "cell_type": "markdown",
   "metadata": {},
   "source": [
    "# Business Understanding\n",
    "\n",
    "- [ ] analysis of requirements with the end user\n",
    "- [ ] definition of business goals\n",
    "- [ ] translation of business goals into data mining goals\n",
    "- [ ] Tools and project management\n",
    "\n",
    "## Business Objectives\n",
    "\n",
    "**Descriptive problem**: TODO\n",
    "\n",
    "**Predictive problem**: Predict whether a loan will end successfully.\n",
    "\n",
    "- Classification problem\n",
    "- Target: *status* column of *loan_dev.csv* file (-1 = bad, 1 = good)\n",
    "- Minority (positive) class: Loan not paid (*status* = -1)\n",
    "- Evaluation metric: AUC\n",
    "- Reduce defaulting (minimize FPR), for example FPR < 0.25\n",
    "- Don't reduce credit card approval (maximize FNR), for example FNR > 0.95\n",
    "\n",
    "\n",
    "## ~~Assess Situation~~\n",
    "\n",
    "## Data Mining Goals (TODO)\n",
    "\n",
    "Parte disto deve estar em Business Objectives, mas não sei o que é o quê\n",
    "\n",
    "## Project Plan (TODO)\n",
    "\n",
    "- Methodology: CRISP-DM\n",
    "- plan: TODO ?????????\n",
    "- Project Management tools: ??????\n",
    "- collaboration tools: Github? (idk if this is what they mean)\n",
    "- Analytics Tools: ?????\n",
    "- Database Tools: ?????\n",
    "- other tools (e.g. data cleaning, visualization): ????\n",
    "\n",
    "\n",
    "    "
   ]
  },
  {
   "cell_type": "markdown",
   "metadata": {},
   "source": [
    "# Data Understanding\n",
    "    \n",
    "- [ ] diversity of statistical methods\n",
    "- [ ] complexity of statistical methods\n",
    "- [ ] interpretation of results of statistical methods\n",
    "- [ ] knowledge extraction from results of statistical methods\n",
    "- [ ] diversity of plots\n",
    "- [ ] complexity of plots\n",
    "- [ ] presentation\n",
    "- [ ] interpretation of plots\n",
    "- [ ] visual knowledge extraction\n",
    "\n",
    "## Collected Data\n",
    "\n",
    "- account.csv - relation account (4500 objects) \n",
    "- client.csv - relation client (5369 objects)\n",
    "- disp.csv - relation disposition (5369 objects) \n",
    "- district.csv - relation demographic data (77 objects)\n",
    "- ~~relation permanent order (0/6471 objects)~~\n",
    "- trans_dev.csv - relation transaction (396685/1056320 objects)\n",
    "- card_dev.csv - relation credit card (177/892 objects)\n",
    "- loan_dev.csv - relation loan (328/682 objects)\n",
    "\n"
   ]
  },
  {
   "cell_type": "code",
   "execution_count": 3,
   "metadata": {},
   "outputs": [],
   "source": [
    "import os\n",
    "import uuid\n",
    "import numpy as np \n",
    "import pandas as pd\n",
    "#import tensorflow as tf\n",
    "import matplotlib.pyplot as plt\n",
    "import seaborn as sns\n",
    "# This is used in order to show the plotted figures within this notebook\n",
    "%matplotlib inline \n",
    "# This is used in order to show the tensorboard within this notebook             \n",
    "#%load_ext tensorboard  \n",
    "from sklearn.preprocessing import OneHotEncoder, LabelEncoder\n",
    "from sklearn.neighbors import KNeighborsClassifier\n",
    "\n",
    "from sklearn.metrics import accuracy_score\n",
    "from sklearn.preprocessing import LabelEncoder, StandardScaler\n",
    "from collections import Counter\n",
    "import missingno as msno\n"
   ]
  },
  {
   "cell_type": "code",
   "execution_count": 4,
   "metadata": {},
   "outputs": [
    {
     "name": "stderr",
     "output_type": "stream",
     "text": [
      "C:\\Users\\PedroGoncaloCorreia\\AppData\\Local\\Temp\\ipykernel_2032\\1239521831.py:7: DtypeWarning: Columns (8) have mixed types. Specify dtype option on import or set low_memory=False.\n",
      "  trans_dev = pd.read_csv('data/trans_dev.csv', sep=';')\n"
     ]
    }
   ],
   "source": [
    "accounts = pd.read_csv('data/account.csv', sep=';')\n",
    "cards_dev = pd.read_csv('data/card_dev.csv', sep=';')\n",
    "clients = pd.read_csv('data/client.csv', sep=';')\n",
    "disp = pd.read_csv('data/disp.csv', sep=';')\n",
    "districts = pd.read_csv('data/district.csv', sep=';')\n",
    "loans_dev = pd.read_csv('data/loan_dev.csv', sep=';')\n",
    "trans_dev = pd.read_csv('data/trans_dev.csv', sep=';')"
   ]
  },
  {
   "cell_type": "code",
   "execution_count": 13,
   "metadata": {},
   "outputs": [
    {
     "name": "stdout",
     "output_type": "stream",
     "text": [
      "==============\n",
      "accounts\n",
      "--------------\n",
      "<class 'pandas.core.frame.DataFrame'>\n",
      "RangeIndex: 4500 entries, 0 to 4499\n",
      "Data columns (total 4 columns):\n",
      " #   Column       Non-Null Count  Dtype \n",
      "---  ------       --------------  ----- \n",
      " 0   account_id   4500 non-null   int64 \n",
      " 1   district_id  4500 non-null   int64 \n",
      " 2   frequency    4500 non-null   object\n",
      " 3   date         4500 non-null   int64 \n",
      "dtypes: int64(3), object(1)None\n",
      "==============\n",
      "cards_dev\n",
      "--------------\n",
      "<class 'pandas.core.frame.DataFrame'>\n",
      "RangeIndex: 177 entries, 0 to 176\n",
      "Data columns (total 4 columns):\n",
      " #   Column   Non-Null Count  Dtype \n",
      "---  ------   --------------  ----- \n",
      " 0   card_id  177 non-null    int64 \n",
      " 1   disp_id  177 non-null    int64 \n",
      " 2   type     177 non-null    object\n",
      " 3   issued   177 non-null    int64 \n",
      "dtypes: int64(3), object(1)None\n",
      "==============\n",
      "clients\n",
      "--------------\n",
      "<class 'pandas.core.frame.DataFrame'>\n",
      "RangeIndex: 5369 entries, 0 to 5368\n",
      "Data columns (total 3 columns):\n",
      " #   Column        Non-Null Count  Dtype\n",
      "---  ------        --------------  -----\n",
      " 0   client_id     5369 non-null   int64\n",
      " 1   birth_number  5369 non-null   int64\n",
      " 2   district_id   5369 non-null   int64\n",
      "dtypes: int64(3)None\n",
      "==============\n",
      "disp\n",
      "--------------\n",
      "<class 'pandas.core.frame.DataFrame'>\n",
      "RangeIndex: 5369 entries, 0 to 5368\n",
      "Data columns (total 4 columns):\n",
      " #   Column      Non-Null Count  Dtype \n",
      "---  ------      --------------  ----- \n",
      " 0   disp_id     5369 non-null   int64 \n",
      " 1   client_id   5369 non-null   int64 \n",
      " 2   account_id  5369 non-null   int64 \n",
      " 3   type        5369 non-null   object\n",
      "dtypes: int64(3), object(1)None\n",
      "==============\n",
      "districts\n",
      "--------------\n",
      "<class 'pandas.core.frame.DataFrame'>\n",
      "RangeIndex: 77 entries, 0 to 76\n",
      "Data columns (total 16 columns):\n",
      " #   Column                                             Non-Null Count  Dtype  \n",
      "---  ------                                             --------------  -----  \n",
      " 0   code                                               77 non-null     int64  \n",
      " 1   name                                               77 non-null     object \n",
      " 2   region                                             77 non-null     object \n",
      " 3   no. of inhabitants                                 77 non-null     int64  \n",
      " 4   no. of municipalities with inhabitants < 499       77 non-null     int64  \n",
      " 5   no. of municipalities with inhabitants 500-1999    77 non-null     int64  \n",
      " 6   no. of municipalities with inhabitants 2000-9999   77 non-null     int64  \n",
      " 7   no. of municipalities with inhabitants >10000      77 non-null     int64  \n",
      " 8   no. of cities                                      77 non-null     int64  \n",
      " 9   ratio of urban inhabitants                         77 non-null     float64\n",
      " 10  average salary                                     77 non-null     int64  \n",
      " 11  unemploymant rate '95                              77 non-null     object \n",
      " 12  unemploymant rate '96                              77 non-null     float64\n",
      " 13  no. of enterpreneurs per 1000 inhabitants          77 non-null     int64  \n",
      " 14  no. of commited crimes '95                         77 non-null     object \n",
      " 15  no. of commited crimes '96                         77 non-null     int64  \n",
      "dtypes: float64(2), int64(10), object(4)None\n",
      "==============\n",
      "loans_dev\n",
      "--------------\n",
      "<class 'pandas.core.frame.DataFrame'>\n",
      "RangeIndex: 328 entries, 0 to 327\n",
      "Data columns (total 7 columns):\n",
      " #   Column      Non-Null Count  Dtype\n",
      "---  ------      --------------  -----\n",
      " 0   loan_id     328 non-null    int64\n",
      " 1   account_id  328 non-null    int64\n",
      " 2   date        328 non-null    int64\n",
      " 3   amount      328 non-null    int64\n",
      " 4   duration    328 non-null    int64\n",
      " 5   payments    328 non-null    int64\n",
      " 6   status      328 non-null    int64\n",
      "dtypes: int64(7)None\n",
      "==============\n",
      "transactions_dev\n",
      "--------------\n",
      "<class 'pandas.core.frame.DataFrame'>\n",
      "RangeIndex: 396685 entries, 0 to 396684\n",
      "Data columns (total 10 columns):\n",
      " #   Column      Non-Null Count   Dtype  \n",
      "---  ------      --------------   -----  \n",
      " 0   trans_id    396685 non-null  int64  \n",
      " 1   account_id  396685 non-null  int64  \n",
      " 2   date        396685 non-null  int64  \n",
      " 3   type        396685 non-null  object \n",
      " 4   operation   325924 non-null  object \n",
      " 5   amount      396685 non-null  float64\n",
      " 6   balance     396685 non-null  float64\n",
      " 7   k_symbol    211441 non-null  object \n",
      " 8   bank        97242 non-null   object \n",
      " 9   account     102229 non-null  float64\n",
      "dtypes: float64(3), int64(3), object(4)None\n"
     ]
    }
   ],
   "source": [
    "def info(table, name):\n",
    "    print(\"==============\")\n",
    "    print(name)\n",
    "    print(\"--------------\")\n",
    "    print(table.info(verbose=True, max_cols=1000, memory_usage=False, show_counts=True))\n",
    "\n",
    "info(accounts, \"accounts\")\n",
    "info(cards_dev, \"cards_dev\")\n",
    "info(clients, \"clients\")\n",
    "info(disp, \"disp\")\n",
    "info(districts, \"districts\")\n",
    "info(loans_dev, \"loans_dev\")\n",
    "info(trans_dev, \"transactions_dev\")\n"
   ]
  },
  {
   "cell_type": "markdown",
   "metadata": {},
   "source": [
    "Only transactions_dev has null values: operation, k_symbol, bank, account"
   ]
  },
  {
   "cell_type": "markdown",
   "metadata": {},
   "source": [
    "accounts : 4500 objects\n",
    " #  | Column    |   Non-Null Count | type \n",
    "--- | ------     |  -------------- | ----- \n",
    " 0 |  account_id  | 4500 non-null |  PRIMARY KEY \n",
    " 1  | district_id|  4500 non-null |  FOREIGN KEY \n",
    " 2  | frequency  |  4500 non-null |  enum('monthly issuance', 'issuance after transaction', 'weekly issuance')\n",
    " 3  | date       |  4500 non-null |  YYMMDD\n",
    "\n",
    "- categorize/encode frequency, no order (TODO: why no order? there seems to be a order: after < weekly < monthly)\n",
    "- parse date\n",
    "- join on acc_id and distr_id\n",
    "\n",
    "clients : 5369 objects\n",
    " #  | Column        |Non-Null Count|  type\n",
    "--- | ------        |--------------|  -----\n",
    " 0  | client_id     |5369 non-null |  PRIMARY KEY\n",
    " 1  | birth_number | 5369 non-null |  YYMMDD + 5000 if woman\n",
    " 2   |district_id |  5369 non-null |  FOREIGN KEY\n",
    "\n",
    "- parse birth date\n",
    "- retrieve sex and birth_date from birth_number\n",
    "\n",
    "disp : 5369 objects\n",
    " #  | Column     | Non-Null Count | type \n",
    "--- | ------     | -------------- | ----- \n",
    " 0  | disp_id    | 5369 non-null  | PRIMARY KEY \n",
    " 1  | client_id  | 5369 non-null  | FOREIGN KEY \n",
    " 2  | account_id | 5369 non-null  | FOREIGN KEY \n",
    " 3  | type       | 5369 non-null  | enum('OWNER', 'DISPONENT')\n",
    "\n",
    "- categorize/encode frequency, (0 = disponent, 1 = owner)\n",
    "\n",
    "districts : 77 objects\n",
    " #  | Column                                            | Non-Null Count | type  \n",
    "--- | ------                                            | -------------- | -----  \n",
    " 0  | code                                              | 77 non-null    | PRIMARY KEY  \n",
    " 1  | name                                              | 77 non-null    | object \n",
    " 2  | region                                            | 77 non-null    | object \n",
    " 3  | no. of inhabitants                                | 77 non-null    | int64  \n",
    " 4  | no. of municipalities with inhabitants < 499      | 77 non-null    | int64  \n",
    " 5  | no. of municipalities with inhabitants 500-1999   | 77 non-null    | int64  \n",
    " 6  | no. of municipalities with inhabitants 2000-9999  | 77 non-null    | int64  \n",
    " 7  | no. of municipalities with inhabitants >10000     | 77 non-null    | int64  \n",
    " 8  | no. of cities                                     | 77 non-null    | int64  \n",
    " 9  | ratio of urban inhabitants                       |  77 non-null    | float64\n",
    " 10 | average salary                                  |   77 non-null    | int64  \n",
    " 11 | unemploymant rate '95                          |    77 non-null    | object \n",
    " 12 | unemploymant rate '96                         |     77 non-null    | float64\n",
    " 13 | no. of enterpreneurs per 1000 inhabitants    |      77 non-null    | int64  \n",
    " 14 | no. of commited crimes '95                  |       77 non-null    | object \n",
    " 15 | no. of commited crimes '96                 |        77 non-null    | int64  \n",
    "\n",
    "transactions_dev : 396685/1056320 objects\n",
    " #  | Column    |  Non-Null Count |  type  \n",
    "--- | ------    |  -------------- |  -----  \n",
    " 0  | trans_id  |  396685 non-null|  PRIMARY KEY  \n",
    " 1  | account_id|  396685 non-null|  FOREIGN KEY  \n",
    " 2  | date      |  396685 non-null|  YYMMDD\n",
    " 3  | type      |  396685 non-null|  enum('credit', 'withdrawal', 'withdrawal in cash') \n",
    " 4  | operation |  325924 non-null|  enum('credit in cash', 'collection from another bank', 'withdrawal in cash', 'remittance to another bank', 'credit card withdrawal')\n",
    " 5  | amount    |  396685 non-null|  float64 (currency unit)\n",
    " 6  | balance   |  396685 non-null|  float64 (currency unit)\n",
    " 7  | k_symbol  |  211441 non-null|  enum('interest credited', ' ', 'household', 'payment for statement', 'insurrance payment', 'sanction interest if negative balance', 'old-age pension')\n",
    " 8  | bank      |  97242 non-null |  string (other bank ID)\n",
    " 9  | account   |  102229 non-null|  account (other bank's account ID)\n",
    "\n",
    "- type=\"withdrawal in cash\" is redundant with operation=\"withdrawal in cash\"\n",
    "- parse date\n",
    "- encode type, operation, bank\n",
    "- handle nulls on operation, k_symbol, bank and account\n",
    "\n",
    "cards_dev : 177/892 objects\n",
    " #  | Column  | Non-Null Count | type \n",
    "--- | ------  | -------------- | ----- \n",
    " 0  | card_id | 177 non-null   | PRIMARY KEY \n",
    " 1  | disp_id | 177 non-null   | FOREIGN KEY \n",
    " 2  | type    | 177 non-null   | object\n",
    " 3  | issued  | 177 non-null   | int64 \n",
    "\n",
    "\n",
    "loans_dev : 328/682 objects\n",
    " #  | Column     | Non-Null Count | type\n",
    "--- | ------     | -------------- | -----\n",
    " 0  | loan_id    | 328 non-null   | PRIMARY KEY\n",
    " 1  | account_id | 328 non-null   | FOREIGN KEY\n",
    " 2  | date       | 328 non-null   | int64\n",
    " 3  | amount     | 328 non-null   | int64\n",
    " 4  | duration   | 328 non-null   | int64\n",
    " 5  | payments   | 328 non-null   | int64\n",
    " 6  | **status** |     328 non-null  |  int64\n"
   ]
  },
  {
   "cell_type": "code",
   "execution_count": 14,
   "metadata": {},
   "outputs": [
    {
     "data": {
      "text/plain": [
       "<AxesSubplot:>"
      ]
     },
     "execution_count": 14,
     "metadata": {},
     "output_type": "execute_result"
    },
    {
     "data": {
      "image/png": "[encoded data removed]",
      "text/plain": [
       "<Figure size 432x288 with 1 Axes>"
      ]
     },
     "metadata": {
      "needs_background": "light"
     },
     "output_type": "display_data"
    }
   ],
   "source": [
    "accounts['frequency'].hist()"
   ]
  },
  {
   "cell_type": "code",
   "execution_count": 15,
   "metadata": {},
   "outputs": [
    {
     "data": {
      "text/plain": [
       "<AxesSubplot:>"
      ]
     },
     "execution_count": 15,
     "metadata": {},
     "output_type": "execute_result"
    },
    {
     "data": {
      "image/png": "[encoded data removed]",
      "text/plain": [
       "<Figure size 432x288 with 1 Axes>"
      ]
     },
     "metadata": {
      "needs_background": "light"
     },
     "output_type": "display_data"
    }
   ],
   "source": [
    "disp['type'].hist()"
   ]
  },
  {
   "cell_type": "code",
   "execution_count": null,
   "metadata": {},
   "outputs": [],
   "source": [
    "msno.heatmap(trans_dev)"
   ]
  }
 ],
 "metadata": {
  "kernelspec": {
   "display_name": "Python 3.10.7 64-bit",
   "language": "python",
   "name": "python3"
  },
  "language_info": {
   "codemirror_mode": {
    "name": "ipython",
    "version": 3
   },
   "file_extension": ".py",
   "mimetype": "text/x-python",
   "name": "python",
   "nbconvert_exporter": "python",
   "pygments_lexer": "ipython3",
   "version": "3.10.7"
  },
  "orig_nbformat": 4,
  "vscode": {
   "interpreter": {
    "hash": "26de051ba29f2982a8de78e945f0abaf191376122a1563185a90213a26c5da77"
   }
  }
 },
 "nbformat": 4,
 "nbformat_minor": 2
}
