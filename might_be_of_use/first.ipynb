{
 "cells": [
  {
   "cell_type": "code",
   "execution_count": 1,
   "metadata": {},
   "outputs": [],
   "source": [
    "DATA_ROOT_FOLDER = \"data/\"\n",
    "ACCOUNT_FILENAME = DATA_ROOT_FOLDER + \"account.csv\"\n",
    "CLIENT_FILENAME = DATA_ROOT_FOLDER + \"client.csv\"\n",
    "DISP_FILENAME = DATA_ROOT_FOLDER + \"disp.csv\"\n",
    "DISTRICT_FILENAME = DATA_ROOT_FOLDER + \"district.csv\"\n",
    "\n",
    "CARD_FILENAME = DATA_ROOT_FOLDER + \"card_dev.csv\"\n",
    "TRANSACTION_FILENAME = DATA_ROOT_FOLDER + \"trans_dev.csv\"\n",
    "LOAN_FILENAME = DATA_ROOT_FOLDER + \"loan_dev.csv\"\n",
    "\n",
    "AMOUNT_ACCOUNTS = 4500\n",
    "AMOUNT_CLIENTS = 5369\n",
    "AMOUNT_DISPOSITIONS = 5369\n",
    "AMOUNT_DISTRICTS = 77\n",
    "\n",
    "AMOUNT_CARDS = 892\n",
    "AMOUNT_TRANSACTIONS = 1056320\n",
    "AMOUNT_LOANS = 682\n",
    "\n",
    "AMOUNT_ORDERS = 6471\n"
   ]
  },
  {
   "cell_type": "code",
   "execution_count": 6,
   "metadata": {},
   "outputs": [
    {
     "name": "stderr",
     "output_type": "stream",
     "text": [
      "C:\\Users\\PedroGoncaloCorreia\\AppData\\Local\\Temp\\ipykernel_14240\\2696729588.py:6: DtypeWarning: Columns (8) have mixed types. Specify dtype option on import or set low_memory=False.\n",
      "  tables = [pd.read_csv(filename, sep=\";\") for filename in table_filenames]\n"
     ]
    }
   ],
   "source": [
    "import pandas as pd\n",
    "\n",
    "table_filenames = [ACCOUNT_FILENAME, CLIENT_FILENAME, DISP_FILENAME, DISTRICT_FILENAME, CARD_FILENAME, TRANSACTION_FILENAME, LOAN_FILENAME]\n",
    "table_amounts = [AMOUNT_ACCOUNTS, AMOUNT_CLIENTS, AMOUNT_DISPOSITIONS, AMOUNT_DISTRICTS, AMOUNT_CARDS, AMOUNT_TRANSACTIONS, AMOUNT_LOANS]\n",
    "table_names = [\"account\", \"client\", \"disp\", \"district\", \"card\", \"transaction\", \"loan\"]\n",
    "tables = [pd.read_csv(filename, sep=\";\") for filename in table_filenames]"
   ]
  },
  {
   "cell_type": "code",
   "execution_count": 16,
   "metadata": {},
   "outputs": [
    {
     "name": "stdout",
     "output_type": "stream",
     "text": [
      "account has 4500/4500 objects (missing 0.00%)\n",
      "client has 5369/5369 objects (missing 0.00%)\n",
      "disp has 5369/5369 objects (missing 0.00%)\n",
      "district has 77/77 objects (missing 0.00%)\n",
      "card has 177/892 objects (missing 80.16%)\n",
      "transaction has 396685/1056320 objects (missing 62.45%)\n",
      "loan has 328/682 objects (missing 51.91%)\n",
      "orders file doesn't exist\n"
     ]
    }
   ],
   "source": [
    "for table, amount, name in zip(tables, table_amounts, table_names):\n",
    "    found = len(table)\n",
    "    fraction_missing = (amount-found) / amount\n",
    "    print(f\"{name} has {found}/{amount} objects (missing {fraction_missing*100:.2f}%)\")\n",
    "print(f\"orders file doesn't exist\")"
   ]
  },
  {
   "cell_type": "code",
   "execution_count": 26,
   "metadata": {},
   "outputs": [
    {
     "name": "stdout",
     "output_type": "stream",
     "text": [
      "Table account has columns ['account_id', 'district_id', 'frequency', 'date']\n",
      "\tColumn frequency can have values ['monthly issuance' 'issuance after transaction' 'weekly issuance']\n",
      "====================\n",
      "Table client has columns ['client_id', 'birth_number', 'district_id']\n",
      "====================\n",
      "Table disp has columns ['disp_id', 'client_id', 'account_id', 'type']\n",
      "\tColumn type can have values ['OWNER' 'DISPONENT']\n",
      "====================\n",
      "Table district has columns ['code ', 'name ', 'region', 'no. of inhabitants', 'no. of municipalities with inhabitants < 499 ', 'no. of municipalities with inhabitants 500-1999', 'no. of municipalities with inhabitants 2000-9999 ', 'no. of municipalities with inhabitants >10000 ', 'no. of cities ', 'ratio of urban inhabitants ', 'average salary ', \"unemploymant rate '95 \", \"unemploymant rate '96 \", 'no. of enterpreneurs per 1000 inhabitants ', \"no. of commited crimes '95 \", \"no. of commited crimes '96 \"]\n",
      "\tColumn region can have values ['Prague' 'central Bohemia' 'south Bohemia' 'west Bohemia' 'north Bohemia'\n",
      " 'east Bohemia' 'south Moravia' 'north Moravia']\n",
      "\tColumn no. of municipalities with inhabitants >10000  can have values [1 2 3 0 4 5]\n",
      "====================\n",
      "Table card has columns ['card_id', 'disp_id', 'type', 'issued']\n",
      "\tColumn type can have values ['classic' 'junior' 'gold']\n",
      "====================\n",
      "Table transaction has columns ['trans_id', 'account_id', 'date', 'type', 'operation', 'amount', 'balance', 'k_symbol', 'bank', 'account']\n",
      "\tColumn type can have values ['credit' 'withdrawal' 'withdrawal in cash']\n",
      "\tColumn operation can have values ['credit in cash' 'collection from another bank' nan 'withdrawal in cash'\n",
      " 'remittance to another bank' 'credit card withdrawal']\n",
      "\tColumn k_symbol can have values [nan 'interest credited' ' ' 'household' 'payment for statement'\n",
      " 'insurrance payment' 'sanction interest if negative balance'\n",
      " 'old-age pension']\n",
      "====================\n",
      "Table loan has columns ['loan_id', 'account_id', 'date', 'amount', 'duration', 'payments', 'status']\n",
      "\tColumn duration can have values [12 36 60 24 48]\n",
      "\tColumn status can have values [-1  1]\n",
      "====================\n"
     ]
    }
   ],
   "source": []
  },
  {
   "cell_type": "code",
   "execution_count": 33,
   "metadata": {},
   "outputs": [
    {
     "name": "stdout",
     "output_type": "stream",
     "text": [
      "amount = duration * payments:\n"
     ]
    },
    {
     "data": {
      "text/plain": [
       "True"
      ]
     },
     "execution_count": 33,
     "metadata": {},
     "output_type": "execute_result"
    }
   ],
   "source": [
    "print(\"amount = duration * payments:\")\n",
    "(tables[6]['amount'] == tables[6]['duration']*tables[6]['payments']).all()"
   ]
  },
  {
   "cell_type": "code",
   "execution_count": 38,
   "metadata": {},
   "outputs": [
    {
     "data": {
      "text/html": [
       "<div>\n",
       "<style scoped>\n",
       "    .dataframe tbody tr th:only-of-type {\n",
       "        vertical-align: middle;\n",
       "    }\n",
       "\n",
       "    .dataframe tbody tr th {\n",
       "        vertical-align: top;\n",
       "    }\n",
       "\n",
       "    .dataframe thead th {\n",
       "        text-align: right;\n",
       "    }\n",
       "</style>\n",
       "<table border=\"1\" class=\"dataframe\">\n",
       "  <thead>\n",
       "    <tr style=\"text-align: right;\">\n",
       "      <th></th>\n",
       "      <th>disp_id</th>\n",
       "      <th>client_id</th>\n",
       "      <th>account_id</th>\n",
       "      <th>type</th>\n",
       "    </tr>\n",
       "  </thead>\n",
       "  <tbody>\n",
       "    <tr>\n",
       "      <th>4987</th>\n",
       "      <td>8865</td>\n",
       "      <td>9173</td>\n",
       "      <td>7401</td>\n",
       "      <td>OWNER</td>\n",
       "    </tr>\n",
       "    <tr>\n",
       "      <th>4988</th>\n",
       "      <td>8866</td>\n",
       "      <td>9174</td>\n",
       "      <td>7401</td>\n",
       "      <td>DISPONENT</td>\n",
       "    </tr>\n",
       "    <tr>\n",
       "      <th>4989</th>\n",
       "      <td>8888</td>\n",
       "      <td>9196</td>\n",
       "      <td>7418</td>\n",
       "      <td>OWNER</td>\n",
       "    </tr>\n",
       "    <tr>\n",
       "      <th>4990</th>\n",
       "      <td>8894</td>\n",
       "      <td>9202</td>\n",
       "      <td>7424</td>\n",
       "      <td>OWNER</td>\n",
       "    </tr>\n",
       "    <tr>\n",
       "      <th>4991</th>\n",
       "      <td>8909</td>\n",
       "      <td>9217</td>\n",
       "      <td>7437</td>\n",
       "      <td>OWNER</td>\n",
       "    </tr>\n",
       "    <tr>\n",
       "      <th>...</th>\n",
       "      <td>...</td>\n",
       "      <td>...</td>\n",
       "      <td>...</td>\n",
       "      <td>...</td>\n",
       "    </tr>\n",
       "    <tr>\n",
       "      <th>5364</th>\n",
       "      <td>13647</td>\n",
       "      <td>13955</td>\n",
       "      <td>11349</td>\n",
       "      <td>OWNER</td>\n",
       "    </tr>\n",
       "    <tr>\n",
       "      <th>5365</th>\n",
       "      <td>13648</td>\n",
       "      <td>13956</td>\n",
       "      <td>11349</td>\n",
       "      <td>DISPONENT</td>\n",
       "    </tr>\n",
       "    <tr>\n",
       "      <th>5366</th>\n",
       "      <td>13660</td>\n",
       "      <td>13968</td>\n",
       "      <td>11359</td>\n",
       "      <td>OWNER</td>\n",
       "    </tr>\n",
       "    <tr>\n",
       "      <th>5367</th>\n",
       "      <td>13663</td>\n",
       "      <td>13971</td>\n",
       "      <td>11362</td>\n",
       "      <td>OWNER</td>\n",
       "    </tr>\n",
       "    <tr>\n",
       "      <th>5368</th>\n",
       "      <td>13690</td>\n",
       "      <td>13998</td>\n",
       "      <td>11382</td>\n",
       "      <td>OWNER</td>\n",
       "    </tr>\n",
       "  </tbody>\n",
       "</table>\n",
       "<p>382 rows × 4 columns</p>\n",
       "</div>"
      ],
      "text/plain": [
       "      disp_id  client_id  account_id       type\n",
       "4987     8865       9173        7401      OWNER\n",
       "4988     8866       9174        7401  DISPONENT\n",
       "4989     8888       9196        7418      OWNER\n",
       "4990     8894       9202        7424      OWNER\n",
       "4991     8909       9217        7437      OWNER\n",
       "...       ...        ...         ...        ...\n",
       "5364    13647      13955       11349      OWNER\n",
       "5365    13648      13956       11349  DISPONENT\n",
       "5366    13660      13968       11359      OWNER\n",
       "5367    13663      13971       11362      OWNER\n",
       "5368    13690      13998       11382      OWNER\n",
       "\n",
       "[382 rows x 4 columns]"
      ]
     },
     "execution_count": 38,
     "metadata": {},
     "output_type": "execute_result"
    }
   ],
   "source": [
    "tables[2][tables[2]['disp_id'] - tables[2]['client_id'] != 0]"
   ]
  }
 ],
 "metadata": {
  "kernelspec": {
   "display_name": "Python 3.9.9 64-bit (windows store)",
   "language": "python",
   "name": "python3"
  },
  "language_info": {
   "codemirror_mode": {
    "name": "ipython",
    "version": 3
   },
   "file_extension": ".py",
   "mimetype": "text/x-python",
   "name": "python",
   "nbconvert_exporter": "python",
   "pygments_lexer": "ipython3",
   "version": "3.9.9"
  },
  "orig_nbformat": 4,
  "vscode": {
   "interpreter": {
    "hash": "adc3355e91baf0461ad8b3c623c29ed42566f3b300c2ab2eb824f5a66bdc7259"
   }
  }
 },
 "nbformat": 4,
 "nbformat_minor": 2
}
