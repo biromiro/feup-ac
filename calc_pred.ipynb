{
 "cells": [
  {
   "cell_type": "code",
   "execution_count": 1,
   "metadata": {},
   "outputs": [],
   "source": [
    "import pandas as pd\n",
    "from sklearn.tree import DecisionTreeClassifier\n",
    "\n",
    "from process_data import ProcessData, DataframeLabelEncoder"
   ]
  },
  {
   "cell_type": "code",
   "execution_count": 2,
   "metadata": {},
   "outputs": [
    {
     "name": "stderr",
     "output_type": "stream",
     "text": [
      "C:\\Users\\nrtc\\AppData\\Local\\Temp\\ipykernel_32740\\2334429315.py:3: DtypeWarning: Columns (8) have mixed types. Specify dtype option on import or set low_memory=False.\n",
      "  trans_dev = pd.read_csv('data/trans_dev.csv', sep=';')\n"
     ]
    }
   ],
   "source": [
    "card_dev = pd.read_csv('data/card_dev.csv', sep=';')\n",
    "loan_dev = pd.read_csv('data/loan_dev.csv', sep=';')\n",
    "trans_dev = pd.read_csv('data/trans_dev.csv', sep=';')\n",
    "\n",
    "card_comp = pd.read_csv('data/card_comp.csv', sep=';')\n",
    "loan_comp = pd.read_csv('data/loan_comp.csv', sep=';')\n",
    "trans_comp = pd.read_csv('data/trans_comp.csv', sep=';')"
   ]
  },
  {
   "cell_type": "code",
   "execution_count": 3,
   "metadata": {},
   "outputs": [],
   "source": [
    "train_pd = ProcessData(card_dev, loan_dev, trans_dev)\n",
    "train_df = train_pd.transform()\n"
   ]
  },
  {
   "cell_type": "code",
   "execution_count": 4,
   "metadata": {},
   "outputs": [],
   "source": [
    "test_pd = ProcessData(card_comp, loan_comp, trans_comp)\n",
    "test_df = test_pd.transform()"
   ]
  },
  {
   "cell_type": "code",
   "execution_count": 5,
   "metadata": {},
   "outputs": [
    {
     "data": {
      "text/plain": [
       "Index(['loan_id', 'date_loan', 'duration_loan', 'payments_loan', 'status',\n",
       "       'account_district', 'account_frequency', 'account_date',\n",
       "       'owner_district', 'owner_card_type', 'owner_card_issued',\n",
       "       'disponent_district', 'disponent_card_type', 'disponent_card_issued',\n",
       "       'count_trans_credits', 'count_trans_withdrawals',\n",
       "       'count_trans_credit_cash', 'count_trans_withdrawal_cash',\n",
       "       'count_trans_withdrawal_card', 'count_trans_collection_other_bank',\n",
       "       'count_trans_remittance_other_bank',\n",
       "       'count_trans_ksymbol_interest_credited',\n",
       "       'count_trans_ksymbol_household',\n",
       "       'count_trans_ksymbol_payment_for_statement',\n",
       "       'count_trans_ksymbol_insurance_payment',\n",
       "       'count_trans_ksymbol_sanction_interest_if_negative_balance',\n",
       "       'count_trans_ksymbol_oldage_pension', 'last_trans_balance',\n",
       "       'mean_trans_balance', 'mean_trans_amount_absolute',\n",
       "       'mean_trans_amount_credit', 'mean_trans_amount_withdrawal',\n",
       "       'mean_trans_amount_signed', 'owner_male', 'owner_birthdate',\n",
       "       'disponent_male', 'disponent_birthdate'],\n",
       "      dtype='object')"
      ]
     },
     "execution_count": 5,
     "metadata": {},
     "output_type": "execute_result"
    }
   ],
   "source": [
    "train_df.columns"
   ]
  },
  {
   "cell_type": "code",
   "execution_count": 6,
   "metadata": {},
   "outputs": [],
   "source": [
    "labelEncoder = DataframeLabelEncoder(train_df)\n",
    "labelEncoder.fit()"
   ]
  },
  {
   "cell_type": "code",
   "execution_count": 7,
   "metadata": {},
   "outputs": [],
   "source": [
    "train_df = labelEncoder.transform(train_df)\n",
    "test_df = labelEncoder.transform(test_df)"
   ]
  },
  {
   "cell_type": "code",
   "execution_count": 8,
   "metadata": {},
   "outputs": [],
   "source": [
    "# These columns will be used as the inputs of the models\n",
    "input_cols = [\n",
    "    'duration_loan', \n",
    "    'payments_loan', \n",
    "    'account_district', \n",
    "    'account_frequency', \n",
    "    'account_date', \n",
    "    'owner_male',\n",
    "    'owner_birthdate',\n",
    "    'owner_district', \n",
    "    'owner_card_type', \n",
    "    #'owner_card_issued',\n",
    "    #'disponent_male',\n",
    "    #'disponent_birthdate',\n",
    "    #'disponent_district',\n",
    "    #'disponent_card_type', \n",
    "    #'disponent_card_issued', \n",
    "    'count_trans_credits',\n",
    "    'count_trans_withdrawals', \n",
    "    'count_trans_credit_cash',\n",
    "    'count_trans_withdrawal_cash', \n",
    "    'count_trans_withdrawal_card',\n",
    "    'count_trans_collection_other_bank',\n",
    "    'count_trans_remittance_other_bank',\n",
    "    'count_trans_ksymbol_interest_credited',\n",
    "    'count_trans_ksymbol_household',\n",
    "    'count_trans_ksymbol_payment_for_statement',\n",
    "    'count_trans_ksymbol_insurance_payment',\n",
    "    'count_trans_ksymbol_sanction_interest_if_negative_balance',\n",
    "    'count_trans_ksymbol_oldage_pension', \n",
    "    #'last_trans_balance',\n",
    "    #'mean_trans_balance', \n",
    "    #'mean_trans_amount_absolute',\n",
    "    #'mean_trans_amount_credit', \n",
    "    #'mean_trans_amount_withdrawal',\n",
    "    #'mean_trans_amount_signed'\n",
    "    ]\n",
    "\n",
    "# The output columns are the genres\n",
    "output_cols = ['status']"
   ]
  },
  {
   "cell_type": "code",
   "execution_count": 9,
   "metadata": {},
   "outputs": [
    {
     "data": {
      "text/plain": [
       "Index(['loan_id', 'date_loan', 'duration_loan', 'payments_loan', 'status',\n",
       "       'account_district', 'account_frequency', 'account_date',\n",
       "       'owner_district', 'owner_card_type', 'owner_card_issued',\n",
       "       'disponent_district', 'disponent_card_type', 'disponent_card_issued',\n",
       "       'count_trans_credits', 'count_trans_withdrawals',\n",
       "       'count_trans_credit_cash', 'count_trans_withdrawal_cash',\n",
       "       'count_trans_withdrawal_card', 'count_trans_collection_other_bank',\n",
       "       'count_trans_remittance_other_bank',\n",
       "       'count_trans_ksymbol_interest_credited',\n",
       "       'count_trans_ksymbol_household',\n",
       "       'count_trans_ksymbol_payment_for_statement',\n",
       "       'count_trans_ksymbol_insurance_payment',\n",
       "       'count_trans_ksymbol_sanction_interest_if_negative_balance',\n",
       "       'count_trans_ksymbol_oldage_pension', 'last_trans_balance',\n",
       "       'mean_trans_balance', 'mean_trans_amount_absolute',\n",
       "       'mean_trans_amount_credit', 'mean_trans_amount_withdrawal',\n",
       "       'mean_trans_amount_signed', 'owner_male', 'owner_birthdate',\n",
       "       'disponent_male', 'disponent_birthdate'],\n",
       "      dtype='object')"
      ]
     },
     "execution_count": 9,
     "metadata": {},
     "output_type": "execute_result"
    }
   ],
   "source": [
    "train_df.columns"
   ]
  },
  {
   "cell_type": "code",
   "execution_count": 10,
   "metadata": {},
   "outputs": [
    {
     "data": {
      "text/html": [
       "<div>\n",
       "<style scoped>\n",
       "    .dataframe tbody tr th:only-of-type {\n",
       "        vertical-align: middle;\n",
       "    }\n",
       "\n",
       "    .dataframe tbody tr th {\n",
       "        vertical-align: top;\n",
       "    }\n",
       "\n",
       "    .dataframe thead th {\n",
       "        text-align: right;\n",
       "    }\n",
       "</style>\n",
       "<table border=\"1\" class=\"dataframe\">\n",
       "  <thead>\n",
       "    <tr style=\"text-align: right;\">\n",
       "      <th></th>\n",
       "      <th>loan_id</th>\n",
       "      <th>date_loan</th>\n",
       "      <th>duration_loan</th>\n",
       "      <th>payments_loan</th>\n",
       "      <th>status</th>\n",
       "      <th>account_district</th>\n",
       "      <th>account_frequency</th>\n",
       "      <th>account_date</th>\n",
       "      <th>owner_district</th>\n",
       "      <th>owner_card_type</th>\n",
       "      <th>...</th>\n",
       "      <th>last_trans_balance</th>\n",
       "      <th>mean_trans_balance</th>\n",
       "      <th>mean_trans_amount_absolute</th>\n",
       "      <th>mean_trans_amount_credit</th>\n",
       "      <th>mean_trans_amount_withdrawal</th>\n",
       "      <th>mean_trans_amount_signed</th>\n",
       "      <th>owner_male</th>\n",
       "      <th>owner_birthdate</th>\n",
       "      <th>disponent_male</th>\n",
       "      <th>disponent_birthdate</th>\n",
       "    </tr>\n",
       "  </thead>\n",
       "  <tbody>\n",
       "    <tr>\n",
       "      <th>0</th>\n",
       "      <td>5314</td>\n",
       "      <td>930705</td>\n",
       "      <td>12</td>\n",
       "      <td>8033</td>\n",
       "      <td>1</td>\n",
       "      <td>30</td>\n",
       "      <td>2</td>\n",
       "      <td>930322</td>\n",
       "      <td>30</td>\n",
       "      <td>3</td>\n",
       "      <td>...</td>\n",
       "      <td>20100.0</td>\n",
       "      <td>12250.000000</td>\n",
       "      <td>5025.000000</td>\n",
       "      <td>5025.000000</td>\n",
       "      <td>NaN</td>\n",
       "      <td>5025.000000</td>\n",
       "      <td>0</td>\n",
       "      <td>470722</td>\n",
       "      <td>NaN</td>\n",
       "      <td>NaN</td>\n",
       "    </tr>\n",
       "    <tr>\n",
       "      <th>1</th>\n",
       "      <td>5316</td>\n",
       "      <td>930711</td>\n",
       "      <td>36</td>\n",
       "      <td>4610</td>\n",
       "      <td>0</td>\n",
       "      <td>46</td>\n",
       "      <td>1</td>\n",
       "      <td>930213</td>\n",
       "      <td>46</td>\n",
       "      <td>3</td>\n",
       "      <td>...</td>\n",
       "      <td>52208.9</td>\n",
       "      <td>52083.859459</td>\n",
       "      <td>11015.635135</td>\n",
       "      <td>13523.158824</td>\n",
       "      <td>8884.24</td>\n",
       "      <td>1411.051351</td>\n",
       "      <td>1</td>\n",
       "      <td>680722</td>\n",
       "      <td>NaN</td>\n",
       "      <td>NaN</td>\n",
       "    </tr>\n",
       "    <tr>\n",
       "      <th>2</th>\n",
       "      <td>6863</td>\n",
       "      <td>930728</td>\n",
       "      <td>60</td>\n",
       "      <td>2118</td>\n",
       "      <td>0</td>\n",
       "      <td>45</td>\n",
       "      <td>1</td>\n",
       "      <td>930208</td>\n",
       "      <td>45</td>\n",
       "      <td>3</td>\n",
       "      <td>...</td>\n",
       "      <td>20272.8</td>\n",
       "      <td>30060.954167</td>\n",
       "      <td>5417.458333</td>\n",
       "      <td>5009.733333</td>\n",
       "      <td>6097.00</td>\n",
       "      <td>844.708333</td>\n",
       "      <td>1</td>\n",
       "      <td>360602</td>\n",
       "      <td>NaN</td>\n",
       "      <td>NaN</td>\n",
       "    </tr>\n",
       "    <tr>\n",
       "      <th>3</th>\n",
       "      <td>5325</td>\n",
       "      <td>930803</td>\n",
       "      <td>36</td>\n",
       "      <td>2939</td>\n",
       "      <td>0</td>\n",
       "      <td>12</td>\n",
       "      <td>1</td>\n",
       "      <td>930130</td>\n",
       "      <td>14</td>\n",
       "      <td>3</td>\n",
       "      <td>...</td>\n",
       "      <td>34307.3</td>\n",
       "      <td>41297.480000</td>\n",
       "      <td>8253.080000</td>\n",
       "      <td>9254.600000</td>\n",
       "      <td>7168.10</td>\n",
       "      <td>1371.704000</td>\n",
       "      <td>0</td>\n",
       "      <td>400420</td>\n",
       "      <td>NaN</td>\n",
       "      <td>NaN</td>\n",
       "    </tr>\n",
       "    <tr>\n",
       "      <th>4</th>\n",
       "      <td>7240</td>\n",
       "      <td>930906</td>\n",
       "      <td>60</td>\n",
       "      <td>4579</td>\n",
       "      <td>0</td>\n",
       "      <td>1</td>\n",
       "      <td>2</td>\n",
       "      <td>930214</td>\n",
       "      <td>63</td>\n",
       "      <td>3</td>\n",
       "      <td>...</td>\n",
       "      <td>41112.9</td>\n",
       "      <td>57188.211111</td>\n",
       "      <td>18945.966667</td>\n",
       "      <td>21255.930769</td>\n",
       "      <td>16801.00</td>\n",
       "      <td>1522.707407</td>\n",
       "      <td>1</td>\n",
       "      <td>780907</td>\n",
       "      <td>NaN</td>\n",
       "      <td>NaN</td>\n",
       "    </tr>\n",
       "  </tbody>\n",
       "</table>\n",
       "<p>5 rows × 37 columns</p>\n",
       "</div>"
      ],
      "text/plain": [
       "   loan_id  date_loan  duration_loan  payments_loan  status  account_district  \\\n",
       "0     5314     930705             12           8033       1                30   \n",
       "1     5316     930711             36           4610       0                46   \n",
       "2     6863     930728             60           2118       0                45   \n",
       "3     5325     930803             36           2939       0                12   \n",
       "4     7240     930906             60           4579       0                 1   \n",
       "\n",
       "   account_frequency  account_date  owner_district  owner_card_type  ...  \\\n",
       "0                  2        930322              30                3  ...   \n",
       "1                  1        930213              46                3  ...   \n",
       "2                  1        930208              45                3  ...   \n",
       "3                  1        930130              14                3  ...   \n",
       "4                  2        930214              63                3  ...   \n",
       "\n",
       "   last_trans_balance  mean_trans_balance  mean_trans_amount_absolute  \\\n",
       "0             20100.0        12250.000000                 5025.000000   \n",
       "1             52208.9        52083.859459                11015.635135   \n",
       "2             20272.8        30060.954167                 5417.458333   \n",
       "3             34307.3        41297.480000                 8253.080000   \n",
       "4             41112.9        57188.211111                18945.966667   \n",
       "\n",
       "   mean_trans_amount_credit  mean_trans_amount_withdrawal  \\\n",
       "0               5025.000000                           NaN   \n",
       "1              13523.158824                       8884.24   \n",
       "2               5009.733333                       6097.00   \n",
       "3               9254.600000                       7168.10   \n",
       "4              21255.930769                      16801.00   \n",
       "\n",
       "   mean_trans_amount_signed  owner_male  owner_birthdate  disponent_male  \\\n",
       "0               5025.000000           0           470722             NaN   \n",
       "1               1411.051351           1           680722             NaN   \n",
       "2                844.708333           1           360602             NaN   \n",
       "3               1371.704000           0           400420             NaN   \n",
       "4               1522.707407           1           780907             NaN   \n",
       "\n",
       "   disponent_birthdate  \n",
       "0                  NaN  \n",
       "1                  NaN  \n",
       "2                  NaN  \n",
       "3                  NaN  \n",
       "4                  NaN  \n",
       "\n",
       "[5 rows x 37 columns]"
      ]
     },
     "execution_count": 10,
     "metadata": {},
     "output_type": "execute_result"
    }
   ],
   "source": [
    "train_df.head()"
   ]
  },
  {
   "cell_type": "code",
   "execution_count": 11,
   "metadata": {},
   "outputs": [],
   "source": [
    "def calc_pred(model):\n",
    "    print(input_cols)\n",
    "    print(train_df.columns)\n",
    "    inputs = train_df[input_cols].values\n",
    "    classes = train_df[output_cols].values\n",
    "    resclf = model.fit(inputs, classes)\n",
    "    return resclf.predict(test_df[input_cols].values)"
   ]
  },
  {
   "cell_type": "code",
   "execution_count": 33,
   "metadata": {},
   "outputs": [],
   "source": [
    "def save_model_results(name, results):\n",
    "    pred = pd.DataFrame(results, columns=['status'])\n",
    "    sub = pd.concat([test_df.loan_id,pred],axis=1)\n",
    "    sub.rename(columns={\"loan_id\": \"Id\", \"status\": \"Predicted\"}, inplace=True)\n",
    "    sub.set_index('Id',inplace=True)\n",
    "    sub.to_csv(f'{name}.csv')"
   ]
  },
  {
   "cell_type": "markdown",
   "metadata": {},
   "source": [
    "### Decision Tree\n",
    "\n",
    "Best params for DecisionTreeClassifier: \n",
    "```json\n",
    "{\n",
    "    'splitter': 'best',\n",
    "    'min_samples_split': 6,\n",
    "    'min_samples_leaf': 5,\n",
    "    'max_features': 6,\n",
    "    'max_depth': 41,\n",
    "    'criterion': 'gini'\n",
    "}\n",
    "```"
   ]
  },
  {
   "cell_type": "code",
   "execution_count": 12,
   "metadata": {},
   "outputs": [],
   "source": [
    "model = DecisionTreeClassifier(splitter='best', min_samples_split=6, min_samples_leaf=5, max_features=6, max_depth=41, criterion='gini')"
   ]
  },
  {
   "cell_type": "code",
   "execution_count": 13,
   "metadata": {},
   "outputs": [
    {
     "name": "stdout",
     "output_type": "stream",
     "text": [
      "['duration_loan', 'payments_loan', 'account_district', 'account_frequency', 'account_date', 'owner_male', 'owner_birthdate', 'owner_district', 'owner_card_type', 'count_trans_credits', 'count_trans_withdrawals', 'count_trans_credit_cash', 'count_trans_withdrawal_cash', 'count_trans_withdrawal_card', 'count_trans_collection_other_bank', 'count_trans_remittance_other_bank', 'count_trans_ksymbol_interest_credited', 'count_trans_ksymbol_household', 'count_trans_ksymbol_payment_for_statement', 'count_trans_ksymbol_insurance_payment', 'count_trans_ksymbol_sanction_interest_if_negative_balance', 'count_trans_ksymbol_oldage_pension']\n",
      "Index(['loan_id', 'date_loan', 'duration_loan', 'payments_loan', 'status',\n",
      "       'account_district', 'account_frequency', 'account_date',\n",
      "       'owner_district', 'owner_card_type', 'owner_card_issued',\n",
      "       'disponent_district', 'disponent_card_type', 'disponent_card_issued',\n",
      "       'count_trans_credits', 'count_trans_withdrawals',\n",
      "       'count_trans_credit_cash', 'count_trans_withdrawal_cash',\n",
      "       'count_trans_withdrawal_card', 'count_trans_collection_other_bank',\n",
      "       'count_trans_remittance_other_bank',\n",
      "       'count_trans_ksymbol_interest_credited',\n",
      "       'count_trans_ksymbol_household',\n",
      "       'count_trans_ksymbol_payment_for_statement',\n",
      "       'count_trans_ksymbol_insurance_payment',\n",
      "       'count_trans_ksymbol_sanction_interest_if_negative_balance',\n",
      "       'count_trans_ksymbol_oldage_pension', 'last_trans_balance',\n",
      "       'mean_trans_balance', 'mean_trans_amount_absolute',\n",
      "       'mean_trans_amount_credit', 'mean_trans_amount_withdrawal',\n",
      "       'mean_trans_amount_signed', 'owner_male', 'owner_birthdate',\n",
      "       'disponent_male', 'disponent_birthdate'],\n",
      "      dtype='object')\n"
     ]
    }
   ],
   "source": [
    "res = calc_pred(model)\n"
   ]
  },
  {
   "cell_type": "code",
   "execution_count": 34,
   "metadata": {},
   "outputs": [],
   "source": [
    "save_model_results('decision_tree_pred', res)"
   ]
  }
 ],
 "metadata": {
  "kernelspec": {
   "display_name": "Python 3.11.0 64-bit",
   "language": "python",
   "name": "python3"
  },
  "language_info": {
   "codemirror_mode": {
    "name": "ipython",
    "version": 3
   },
   "file_extension": ".py",
   "mimetype": "text/x-python",
   "name": "python",
   "nbconvert_exporter": "python",
   "pygments_lexer": "ipython3",
   "version": "3.11.0"
  },
  "orig_nbformat": 4,
  "vscode": {
   "interpreter": {
    "hash": "70ed614c5bea7b2b9d9651bc06acb6fe772f41b2677a5ba6176aecf0d612d118"
   }
  }
 },
 "nbformat": 4,
 "nbformat_minor": 2
}
