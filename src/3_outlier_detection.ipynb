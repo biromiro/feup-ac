{
 "cells": [
  {
   "cell_type": "markdown",
   "metadata": {},
   "source": [
    "# Load imports and data"
   ]
  },
  {
   "cell_type": "code",
   "execution_count": null,
   "metadata": {},
   "outputs": [],
   "source": [
    "import numpy as np \n",
    "import pandas as pd"
   ]
  },
  {
   "cell_type": "code",
   "execution_count": null,
   "metadata": {},
   "outputs": [],
   "source": [
    "# data = pd.read_csv('output/loan_dev.csv')\n",
    "data = pd.read_csv('output/loan_dev_transformed.csv')\n",
    "data"
   ]
  },
  {
   "cell_type": "markdown",
   "metadata": {},
   "source": [
    "# Outlier Detection\n",
    "\n",
    "- Standard Deviation\n",
    "- Z-Score\n",
    "- Interquartile Range (IQR)\n",
    "- Percentile"
   ]
  },
  {
   "cell_type": "code",
   "execution_count": null,
   "metadata": {},
   "outputs": [],
   "source": [
    "for col in data.columns:\n",
    "    print(\"-\"*50)\n",
    "    print(f\"Statistics of {col}\")\n",
    "    print(\"-\"*50)\n",
    "    #data[col].plot.box();\n",
    "\n",
    "    q3, q1 = np.percentile(data[col], [75 ,25])\n",
    "\n",
    "    print(\"Min: \", end=\"\");                 print(data[col].min())\n",
    "    print(\"Max: \", end=\"\");                 print(data[col].max())\n",
    "    print(\"Mean: \", end=\"\");                print(data[col].mean())\n",
    "    print(\"Median: \", end=\"\");              print(data[col].median())\n",
    "    print(\"Standard deviation: \", end=\"\");  print(data[col].std())\n",
    "    print(\"Skewness: \", end=\"\");            print(data[col].skew())  \n",
    "    print(\"Variance: \", end=\"\");            print(data[col].var())\n",
    "    print(\"Kurtosis: \", end=\"\");            print(data[col].kurtosis())\n",
    "    print(\"Interquartile Range: \", end=\"\"); print(q3 - q1, end=\" | \"); print(\"Q1: {} | Q3: {}\".format(q1,q3))\n",
    "\n",
    "# var() method returns the unbiased variance\n",
    "# Medium-High std which indicates that the data is spread out and not clustered around the mean\n",
    "# Skewness > 1 => it is skewed to the right\n",
    "\n"
   ]
  },
  {
   "cell_type": "markdown",
   "metadata": {},
   "source": [
    "## Standard Deviation"
   ]
  },
  {
   "cell_type": "code",
   "execution_count": null,
   "metadata": {},
   "outputs": [],
   "source": [
    "outliers_std = {}\n",
    "for col in data.columns:\n",
    "    data_mean, data_std = data[col].mean(), data[col].std()\n",
    "    # identify outliers\n",
    "    cut_off = data_std * 4\n",
    "    lower, upper = data_mean - cut_off, data_mean + cut_off \n",
    "    outliers_std[col] = pd.concat([data.loc[data[col] < lower] , (data.loc[data[col] > upper])])\n",
    "\n",
    "for key in outliers_std.keys():\n",
    "    if (len(outliers_std[key]) > 0):\n",
    "        print(\"-\"*50)\n",
    "        print(f\"Outliers of {key} - mean: {data[key].mean()} - std: {data[key].std()}\")\n",
    "        print(\"-\"*50)\n",
    "        print(outliers_std[key][key])"
   ]
  },
  {
   "cell_type": "code",
   "execution_count": null,
   "metadata": {},
   "outputs": [],
   "source": [
    "outliers_ids_std = set([val for key in outliers_std.keys() for val in outliers_std[key]['Id']])\n",
    "outlier_ratio = len(outliers_ids_std) / len(data)\n",
    "outlier_ratio"
   ]
  },
  {
   "cell_type": "markdown",
   "metadata": {},
   "source": [
    "## Z-Score"
   ]
  },
  {
   "cell_type": "code",
   "execution_count": null,
   "metadata": {},
   "outputs": [],
   "source": [
    "outliers_z = {}\n",
    "for col in data.columns:\n",
    "    z_val = (data[col] - data[col].mean()) / data[col].std()\n",
    "    outliers_z[col] = data.loc[(z_val < -4) | (z_val > 4)]\n",
    "\n",
    "for key in outliers_z.keys():\n",
    "    if (len(outliers_z[key]) > 0):\n",
    "        print(\"-\"*50)\n",
    "        print(f\"Outliers of {key} - mean: {data[key].mean()} - std: {data[key].std()}\")\n",
    "        print(\"-\"*50)\n",
    "        print(outliers_z[key][key])"
   ]
  },
  {
   "cell_type": "code",
   "execution_count": null,
   "metadata": {},
   "outputs": [],
   "source": [
    "outliers_ids_z = set([val for key in outliers_z.keys() for val in outliers_z[key]['Id']])\n",
    "outlier_ratio = len(outliers_ids_z) / len(data)\n",
    "outlier_ratio"
   ]
  },
  {
   "cell_type": "markdown",
   "metadata": {},
   "source": [
    "# Dataset without Outliers"
   ]
  },
  {
   "cell_type": "code",
   "execution_count": null,
   "metadata": {},
   "outputs": [],
   "source": [
    "outliers_ids = outliers_ids_std.union(outliers_ids_z)\n",
    "manual_outlier_df = data.loc[~data['Id'].isin(outliers_ids)]\n",
    "manual_outlier_df"
   ]
  },
  {
   "cell_type": "markdown",
   "metadata": {},
   "source": [
    "# Save data"
   ]
  },
  {
   "cell_type": "code",
   "execution_count": null,
   "metadata": {},
   "outputs": [],
   "source": [
    "# manual_outlier_df.to_csv('output/loan_dev_without_outliers.csv', index=False)\n",
    "manual_outlier_df.to_csv('output/loan_dev_transformed_without_outliers.csv', index=False)"
   ]
  }
 ],
 "metadata": {
  "kernelspec": {
   "display_name": "Python 3.9.9 64-bit (microsoft store)",
   "language": "python",
   "name": "python3"
  },
  "language_info": {
   "codemirror_mode": {
    "name": "ipython",
    "version": 3
   },
   "file_extension": ".py",
   "mimetype": "text/x-python",
   "name": "python",
   "nbconvert_exporter": "python",
   "pygments_lexer": "ipython3",
   "version": "3.9.9"
  },
  "orig_nbformat": 4,
  "vscode": {
   "interpreter": {
    "hash": "adc3355e91baf0461ad8b3c623c29ed42566f3b300c2ab2eb824f5a66bdc7259"
   }
  }
 },
 "nbformat": 4,
 "nbformat_minor": 2
}
