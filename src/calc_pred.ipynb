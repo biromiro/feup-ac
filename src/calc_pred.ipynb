{
   "cells": [
      {
         "cell_type": "code",
         "execution_count": 1,
         "metadata": {},
         "outputs": [],
         "source": [
            "import pandas as pd\n",
            "from sklearn.tree import DecisionTreeClassifier\n",
            "\n",
            "from process_data import ProcessData, DataframeLabelEncoder"
         ]
      },
      {
         "cell_type": "code",
         "execution_count": 2,
         "metadata": {},
         "outputs": [
            {
               "name": "stderr",
               "output_type": "stream",
               "text": [
                  "C:\\Users\\nrtc\\AppData\\Local\\Temp\\ipykernel_34292\\840671309.py:3: DtypeWarning: Columns (8) have mixed types. Specify dtype option on import or set low_memory=False.\n",
                  "  trans_dev = pd.read_csv('data/trans_dev.csv', sep=';')\n"
               ]
            }
         ],
         "source": [
            "card_dev = pd.read_csv('data/card_dev.csv', sep=';')\n",
            "loan_dev = pd.read_csv('data/loan_dev.csv', sep=';')\n",
            "trans_dev = pd.read_csv('data/trans_dev.csv', sep=';')\n",
            "\n",
            "card_comp = pd.read_csv('data/card.csv', sep=';')\n",
            "loan_comp = pd.read_csv('data/loan_comp.csv', sep=';')\n",
            "trans_comp = pd.read_csv('data/trans.csv', sep=';')"
         ]
      },
      {
         "cell_type": "code",
         "execution_count": 3,
         "metadata": {},
         "outputs": [],
         "source": [
            "train_pd = ProcessData(card_dev, loan_dev, trans_dev)\n",
            "train_df = train_pd.transform()\n"
         ]
      },
      {
         "cell_type": "code",
         "execution_count": 4,
         "metadata": {},
         "outputs": [],
         "source": [
            "test_pd = ProcessData(card_comp, loan_comp, trans_comp)\n",
            "test_df = test_pd.transform()"
         ]
      },
      {
         "cell_type": "code",
         "execution_count": 5,
         "metadata": {},
         "outputs": [],
         "source": [
            "labelEncoder = DataframeLabelEncoder(train_df)\n",
            "labelEncoder.fit()"
         ]
      },
      {
         "cell_type": "code",
         "execution_count": 6,
         "metadata": {},
         "outputs": [],
         "source": [
            "train_df = labelEncoder.transform(train_df)\n",
            "test_df = labelEncoder.transform(test_df)"
         ]
      },
      {
         "cell_type": "code",
         "execution_count": 7,
         "metadata": {},
         "outputs": [],
         "source": [
            "train_df.to_csv('output/loan_train.csv', index=False)\n",
            "test_df.to_csv('output/loan_test.csv', index=False)"
         ]
      },
      {
         "cell_type": "code",
         "execution_count": 8,
         "metadata": {},
         "outputs": [],
         "source": [
            "# These columns will be used as the inputs of the models\n",
            "input_cols = [\n",
            "    #'duration_loan', \n",
            "    'payments_loan', \n",
            "    #'account_district', \n",
            "    #'account_frequency', \n",
            "    #'account_date', \n",
            "    'owner_male',\n",
            "    #'owner_birthdate',\n",
            "    #'owner_district', \n",
            "    #'owner_card_type', \n",
            "    #'owner_card_issued',\n",
            "    #'disponent_male',\n",
            "    #'disponent_birthdate',\n",
            "    #'disponent_district',\n",
            "    'disponent_card_type', \n",
            "    #'disponent_card_issued', \n",
            "    #'count_trans_credits',\n",
            "    #'count_trans_withdrawals', \n",
            "    #'count_trans_credit_cash',\n",
            "    #'count_trans_withdrawal_cash', \n",
            "    #'count_trans_withdrawal_card',\n",
            "    'count_trans_collection_other_bank',\n",
            "    #'count_trans_remittance_other_bank',\n",
            "    'count_trans_ksymbol_interest_credited',\n",
            "    #'count_trans_ksymbol_household',\n",
            "    #'count_trans_ksymbol_payment_for_statement',\n",
            "    'count_trans_ksymbol_insurance_payment',\n",
            "    #'count_trans_ksymbol_sanction_interest_if_negative_balance',\n",
            "    'count_trans_ksymbol_oldage_pension', \n",
            "    'last_trans_balance',\n",
            "    'mean_trans_balance', \n",
            "    #'mean_trans_amount_absolute',\n",
            "    'mean_trans_amount_credit', \n",
            "    #'mean_trans_amount_withdrawal',\n",
            "    #'mean_trans_amount_signed'\n",
            "    ]\n",
            "\n",
            "# The output columns are the genres\n",
            "output_cols = ['status']"
         ]
      },
      {
         "cell_type": "code",
         "execution_count": 9,
         "metadata": {},
         "outputs": [
            {
               "data": {
                  "text/html": [
                     "<div>\n",
                     "<style scoped>\n",
                     "    .dataframe tbody tr th:only-of-type {\n",
                     "        vertical-align: middle;\n",
                     "    }\n",
                     "\n",
                     "    .dataframe tbody tr th {\n",
                     "        vertical-align: top;\n",
                     "    }\n",
                     "\n",
                     "    .dataframe thead th {\n",
                     "        text-align: right;\n",
                     "    }\n",
                     "</style>\n",
                     "<table border=\"1\" class=\"dataframe\">\n",
                     "  <thead>\n",
                     "    <tr style=\"text-align: right;\">\n",
                     "      <th></th>\n",
                     "      <th>loan_id</th>\n",
                     "      <th>date_loan</th>\n",
                     "      <th>duration_loan</th>\n",
                     "      <th>payments_loan</th>\n",
                     "      <th>status</th>\n",
                     "      <th>account_district</th>\n",
                     "      <th>account_frequency</th>\n",
                     "      <th>account_date</th>\n",
                     "      <th>owner_district</th>\n",
                     "      <th>owner_card_type</th>\n",
                     "      <th>...</th>\n",
                     "      <th>last_trans_balance</th>\n",
                     "      <th>mean_trans_balance</th>\n",
                     "      <th>mean_trans_amount_absolute</th>\n",
                     "      <th>mean_trans_amount_credit</th>\n",
                     "      <th>mean_trans_amount_withdrawal</th>\n",
                     "      <th>mean_trans_amount_signed</th>\n",
                     "      <th>owner_male</th>\n",
                     "      <th>owner_birthdate</th>\n",
                     "      <th>disponent_male</th>\n",
                     "      <th>disponent_birthdate</th>\n",
                     "    </tr>\n",
                     "  </thead>\n",
                     "  <tbody>\n",
                     "    <tr>\n",
                     "      <th>0</th>\n",
                     "      <td>5895</td>\n",
                     "      <td>970103</td>\n",
                     "      <td>60</td>\n",
                     "      <td>1566</td>\n",
                     "      <td>1</td>\n",
                     "      <td>45</td>\n",
                     "      <td>1</td>\n",
                     "      <td>951009</td>\n",
                     "      <td>45</td>\n",
                     "      <td>3</td>\n",
                     "      <td>...</td>\n",
                     "      <td>49548.5</td>\n",
                     "      <td>54520.202247</td>\n",
                     "      <td>8051.737079</td>\n",
                     "      <td>12769.220000</td>\n",
                     "      <td>5653.016949</td>\n",
                     "      <td>556.725843</td>\n",
                     "      <td>1</td>\n",
                     "      <td>620601</td>\n",
                     "      <td>NaN</td>\n",
                     "      <td>NaN</td>\n",
                     "    </tr>\n",
                     "    <tr>\n",
                     "      <th>1</th>\n",
                     "      <td>7122</td>\n",
                     "      <td>970104</td>\n",
                     "      <td>36</td>\n",
                     "      <td>7240</td>\n",
                     "      <td>1</td>\n",
                     "      <td>22</td>\n",
                     "      <td>1</td>\n",
                     "      <td>950902</td>\n",
                     "      <td>22</td>\n",
                     "      <td>3</td>\n",
                     "      <td>...</td>\n",
                     "      <td>11565.4</td>\n",
                     "      <td>31518.182051</td>\n",
                     "      <td>6935.733333</td>\n",
                     "      <td>9526.772414</td>\n",
                     "      <td>5402.261224</td>\n",
                     "      <td>148.276923</td>\n",
                     "      <td>0</td>\n",
                     "      <td>490121</td>\n",
                     "      <td>NaN</td>\n",
                     "      <td>NaN</td>\n",
                     "    </tr>\n",
                     "    <tr>\n",
                     "      <th>2</th>\n",
                     "      <td>6173</td>\n",
                     "      <td>970108</td>\n",
                     "      <td>48</td>\n",
                     "      <td>4845</td>\n",
                     "      <td>1</td>\n",
                     "      <td>14</td>\n",
                     "      <td>0</td>\n",
                     "      <td>950419</td>\n",
                     "      <td>14</td>\n",
                     "      <td>3</td>\n",
                     "      <td>...</td>\n",
                     "      <td>45754.0</td>\n",
                     "      <td>40175.612500</td>\n",
                     "      <td>7217.385795</td>\n",
                     "      <td>15302.486047</td>\n",
                     "      <td>4603.406015</td>\n",
                     "      <td>259.965341</td>\n",
                     "      <td>0</td>\n",
                     "      <td>390427</td>\n",
                     "      <td>NaN</td>\n",
                     "      <td>NaN</td>\n",
                     "    </tr>\n",
                     "    <tr>\n",
                     "      <th>3</th>\n",
                     "      <td>6142</td>\n",
                     "      <td>970121</td>\n",
                     "      <td>60</td>\n",
                     "      <td>3698</td>\n",
                     "      <td>1</td>\n",
                     "      <td>9</td>\n",
                     "      <td>1</td>\n",
                     "      <td>960316</td>\n",
                     "      <td>9</td>\n",
                     "      <td>3</td>\n",
                     "      <td>...</td>\n",
                     "      <td>38913.4</td>\n",
                     "      <td>44440.912676</td>\n",
                     "      <td>6430.809859</td>\n",
                     "      <td>11797.642857</td>\n",
                     "      <td>4176.740000</td>\n",
                     "      <td>548.077465</td>\n",
                     "      <td>0</td>\n",
                     "      <td>430929</td>\n",
                     "      <td>1.0</td>\n",
                     "      <td>460604.0</td>\n",
                     "    </tr>\n",
                     "    <tr>\n",
                     "      <th>4</th>\n",
                     "      <td>5358</td>\n",
                     "      <td>970121</td>\n",
                     "      <td>12</td>\n",
                     "      <td>3210</td>\n",
                     "      <td>1</td>\n",
                     "      <td>42</td>\n",
                     "      <td>1</td>\n",
                     "      <td>950604</td>\n",
                     "      <td>42</td>\n",
                     "      <td>3</td>\n",
                     "      <td>...</td>\n",
                     "      <td>18914.3</td>\n",
                     "      <td>20231.313158</td>\n",
                     "      <td>2373.266667</td>\n",
                     "      <td>2736.026923</td>\n",
                     "      <td>2069.016129</td>\n",
                     "      <td>122.757895</td>\n",
                     "      <td>1</td>\n",
                     "      <td>391206</td>\n",
                     "      <td>NaN</td>\n",
                     "      <td>NaN</td>\n",
                     "    </tr>\n",
                     "  </tbody>\n",
                     "</table>\n",
                     "<p>5 rows × 37 columns</p>\n",
                     "</div>"
                  ],
                  "text/plain": [
                     "   loan_id  date_loan  duration_loan  payments_loan  status  account_district  \\\n",
                     "0     5895     970103             60           1566       1                45   \n",
                     "1     7122     970104             36           7240       1                22   \n",
                     "2     6173     970108             48           4845       1                14   \n",
                     "3     6142     970121             60           3698       1                 9   \n",
                     "4     5358     970121             12           3210       1                42   \n",
                     "\n",
                     "   account_frequency  account_date  owner_district  owner_card_type  ...  \\\n",
                     "0                  1        951009              45                3  ...   \n",
                     "1                  1        950902              22                3  ...   \n",
                     "2                  0        950419              14                3  ...   \n",
                     "3                  1        960316               9                3  ...   \n",
                     "4                  1        950604              42                3  ...   \n",
                     "\n",
                     "   last_trans_balance  mean_trans_balance  mean_trans_amount_absolute  \\\n",
                     "0             49548.5        54520.202247                 8051.737079   \n",
                     "1             11565.4        31518.182051                 6935.733333   \n",
                     "2             45754.0        40175.612500                 7217.385795   \n",
                     "3             38913.4        44440.912676                 6430.809859   \n",
                     "4             18914.3        20231.313158                 2373.266667   \n",
                     "\n",
                     "   mean_trans_amount_credit  mean_trans_amount_withdrawal  \\\n",
                     "0              12769.220000                   5653.016949   \n",
                     "1               9526.772414                   5402.261224   \n",
                     "2              15302.486047                   4603.406015   \n",
                     "3              11797.642857                   4176.740000   \n",
                     "4               2736.026923                   2069.016129   \n",
                     "\n",
                     "   mean_trans_amount_signed  owner_male  owner_birthdate  disponent_male  \\\n",
                     "0                556.725843           1           620601             NaN   \n",
                     "1                148.276923           0           490121             NaN   \n",
                     "2                259.965341           0           390427             NaN   \n",
                     "3                548.077465           0           430929             1.0   \n",
                     "4                122.757895           1           391206             NaN   \n",
                     "\n",
                     "   disponent_birthdate  \n",
                     "0                  NaN  \n",
                     "1                  NaN  \n",
                     "2                  NaN  \n",
                     "3             460604.0  \n",
                     "4                  NaN  \n",
                     "\n",
                     "[5 rows x 37 columns]"
                  ]
               },
               "execution_count": 9,
               "metadata": {},
               "output_type": "execute_result"
            }
         ],
         "source": [
            "test_df.head()"
         ]
      },
      {
         "cell_type": "code",
         "execution_count": 10,
         "metadata": {},
         "outputs": [],
         "source": [
            "def calc_pred(model):\n",
            "    print(input_cols)\n",
            "    print(train_df.columns)\n",
            "    inputs = train_df[input_cols].values\n",
            "    classes = train_df[output_cols].values\n",
            "    resclf = model.fit(inputs, classes)\n",
            "    return resclf.predict_proba(test_df[input_cols].values)[:,1]"
         ]
      },
      {
         "cell_type": "code",
         "execution_count": 11,
         "metadata": {},
         "outputs": [],
         "source": [
            "def save_model_results(name, results):\n",
            "    pred = pd.DataFrame(results, columns=['status'])\n",
            "    sub = pd.concat([test_df.loan_id,pred],axis=1)\n",
            "    sub.rename(columns={\"loan_id\": \"Id\", \"status\": \"Predicted\"}, inplace=True)\n",
            "    sub.set_index('Id',inplace=True)\n",
            "    sub.to_csv(f'{name}.csv')"
         ]
      },
      {
         "cell_type": "markdown",
         "metadata": {},
         "source": [
            "### Decision Tree\n",
            "\n",
            "Best params for DecisionTreeClassifier: \n",
            "```json\n",
            "{\n",
            "    'splitter': 'best',\n",
            "    'min_samples_split': 6,\n",
            "    'min_samples_leaf': 5,\n",
            "    'max_features': 6,\n",
            "    'max_depth': 41,\n",
            "    'criterion': 'gini'\n",
            "}\n",
            "```"
         ]
      },
      {
         "cell_type": "code",
         "execution_count": 12,
         "metadata": {},
         "outputs": [],
         "source": [
            "model = DecisionTreeClassifier(splitter='best', min_samples_split=6, min_samples_leaf=5, max_features=6, max_depth=41, criterion='gini')"
         ]
      },
      {
         "cell_type": "code",
         "execution_count": 13,
         "metadata": {},
         "outputs": [
            {
               "name": "stdout",
               "output_type": "stream",
               "text": [
                  "['payments_loan', 'owner_male', 'disponent_card_type', 'count_trans_collection_other_bank', 'count_trans_ksymbol_interest_credited', 'count_trans_ksymbol_insurance_payment', 'count_trans_ksymbol_oldage_pension', 'last_trans_balance', 'mean_trans_balance', 'mean_trans_amount_credit']\n",
                  "Index(['loan_id', 'date_loan', 'duration_loan', 'payments_loan', 'status',\n",
                  "       'account_district', 'account_frequency', 'account_date',\n",
                  "       'owner_district', 'owner_card_type', 'owner_card_issued',\n",
                  "       'disponent_district', 'disponent_card_type', 'disponent_card_issued',\n",
                  "       'count_trans_credits', 'count_trans_withdrawals',\n",
                  "       'count_trans_credit_cash', 'count_trans_withdrawal_cash',\n",
                  "       'count_trans_withdrawal_card', 'count_trans_collection_other_bank',\n",
                  "       'count_trans_remittance_other_bank',\n",
                  "       'count_trans_ksymbol_interest_credited',\n",
                  "       'count_trans_ksymbol_household',\n",
                  "       'count_trans_ksymbol_payment_for_statement',\n",
                  "       'count_trans_ksymbol_insurance_payment',\n",
                  "       'count_trans_ksymbol_sanction_interest_if_negative_balance',\n",
                  "       'count_trans_ksymbol_oldage_pension', 'last_trans_balance',\n",
                  "       'mean_trans_balance', 'mean_trans_amount_absolute',\n",
                  "       'mean_trans_amount_credit', 'mean_trans_amount_withdrawal',\n",
                  "       'mean_trans_amount_signed', 'owner_male', 'owner_birthdate',\n",
                  "       'disponent_male', 'disponent_birthdate'],\n",
                  "      dtype='object')\n"
               ]
            }
         ],
         "source": [
            "res = calc_pred(model)\n",
            "save_model_results('decision_tree_pred', res)\n"
         ]
      },
      {
         "cell_type": "markdown",
         "metadata": {},
         "source": [
            "### Stacking Classifier\n",
            "\n",
            "No hyperparameters defined yet"
         ]
      },
      {
         "cell_type": "code",
         "execution_count": 14,
         "metadata": {},
         "outputs": [
            {
               "name": "stderr",
               "output_type": "stream",
               "text": [
                  "c:\\Users\\nrtc\\AppData\\Local\\Programs\\Python\\Python311\\Lib\\site-packages\\xgboost\\sklearn.py:1421: UserWarning: `use_label_encoder` is deprecated in 1.7.0.\n",
                  "  warnings.warn(\"`use_label_encoder` is deprecated in 1.7.0.\")\n"
               ]
            }
         ],
         "source": [
            "#from catboost import CatBoostRegressor\n",
            "from sklearn.linear_model import LogisticRegression\n",
            "from sklearn.tree import DecisionTreeClassifier\n",
            "from sklearn.ensemble import RandomForestClassifier, StackingClassifier, ExtraTreesClassifier\n",
            "from lightgbm import LGBMClassifier\n",
            "from xgboost import XGBClassifier\n",
            "\n",
            "\n",
            "level0 = list()\n",
            "level0.append(('logreg', LogisticRegression() ))\n",
            "level0.append(('forest', DecisionTreeClassifier()))\n",
            "level0.append(('xgboost', XGBClassifier(use_label_encoder=False, eval_metric='logloss')))\n",
            "level0.append(('lgbm', LGBMClassifier()))\n",
            "level0.append(('xtrees', ExtraTreesClassifier()))\n",
            "\n",
            "\n",
            "level1 = RandomForestClassifier()\n",
            "clf = StackingClassifier(estimators=level0, final_estimator=level1, cv=4)"
         ]
      },
      {
         "cell_type": "code",
         "execution_count": 15,
         "metadata": {},
         "outputs": [
            {
               "name": "stdout",
               "output_type": "stream",
               "text": [
                  "['payments_loan', 'owner_male', 'disponent_card_type', 'count_trans_collection_other_bank', 'count_trans_ksymbol_interest_credited', 'count_trans_ksymbol_insurance_payment', 'count_trans_ksymbol_oldage_pension', 'last_trans_balance', 'mean_trans_balance', 'mean_trans_amount_credit']\n",
                  "Index(['loan_id', 'date_loan', 'duration_loan', 'payments_loan', 'status',\n",
                  "       'account_district', 'account_frequency', 'account_date',\n",
                  "       'owner_district', 'owner_card_type', 'owner_card_issued',\n",
                  "       'disponent_district', 'disponent_card_type', 'disponent_card_issued',\n",
                  "       'count_trans_credits', 'count_trans_withdrawals',\n",
                  "       'count_trans_credit_cash', 'count_trans_withdrawal_cash',\n",
                  "       'count_trans_withdrawal_card', 'count_trans_collection_other_bank',\n",
                  "       'count_trans_remittance_other_bank',\n",
                  "       'count_trans_ksymbol_interest_credited',\n",
                  "       'count_trans_ksymbol_household',\n",
                  "       'count_trans_ksymbol_payment_for_statement',\n",
                  "       'count_trans_ksymbol_insurance_payment',\n",
                  "       'count_trans_ksymbol_sanction_interest_if_negative_balance',\n",
                  "       'count_trans_ksymbol_oldage_pension', 'last_trans_balance',\n",
                  "       'mean_trans_balance', 'mean_trans_amount_absolute',\n",
                  "       'mean_trans_amount_credit', 'mean_trans_amount_withdrawal',\n",
                  "       'mean_trans_amount_signed', 'owner_male', 'owner_birthdate',\n",
                  "       'disponent_male', 'disponent_birthdate'],\n",
                  "      dtype='object')\n"
               ]
            }
         ],
         "source": [
            "res = calc_pred(model)\n",
            "save_model_results('stack_classifier_pred', res)"
         ]
      }
   ],
   "metadata": {
      "kernelspec": {
         "display_name": "Python 3.11.0 64-bit",
         "language": "python",
         "name": "python3"
      },
      "language_info": {
         "codemirror_mode": {
            "name": "ipython",
            "version": 3
         },
         "file_extension": ".py",
         "mimetype": "text/x-python",
         "name": "python",
         "nbconvert_exporter": "python",
         "pygments_lexer": "ipython3",
         "version": "3.11.0"
      },
      "orig_nbformat": 4,
      "vscode": {
         "interpreter": {
            "hash": "70ed614c5bea7b2b9d9651bc06acb6fe772f41b2677a5ba6176aecf0d612d118"
         }
      }
   },
   "nbformat": 4,
   "nbformat_minor": 2
}
