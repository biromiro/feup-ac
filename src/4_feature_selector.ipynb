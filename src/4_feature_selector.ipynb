{
 "cells": [
  {
   "cell_type": "markdown",
   "metadata": {},
   "source": [
    "# Load imports and data"
   ]
  },
  {
   "cell_type": "code",
   "execution_count": null,
   "metadata": {},
   "outputs": [],
   "source": [
    "from sklearn.feature_selection import RFECV\n",
    "from sklearn.model_selection import TimeSeriesSplit\n",
    "from sklearn.feature_selection import SequentialFeatureSelector\n",
    "%matplotlib inline\n",
    "import matplotlib.pyplot as plt\n",
    "import pandas as pd\n",
    "from sklearn.tree import DecisionTreeClassifier\n",
    "import numpy as np\n",
    "import seaborn as sns"
   ]
  },
  {
   "cell_type": "code",
   "execution_count": null,
   "metadata": {},
   "outputs": [],
   "source": [
    "data = pd.read_csv('output/loan_dev_transformed.csv')\n",
    "data.columns"
   ]
  },
  {
   "cell_type": "code",
   "execution_count": null,
   "metadata": {},
   "outputs": [],
   "source": [
    "input_cols = [\n",
    "#'Id',\n",
    "'loan_date',\n",
    "'loan_duration',\n",
    "'loan_payments',\n",
    "'Predicted',\n",
    "'account_frequency',\n",
    "'account_district_region',\n",
    "'account_district_no_inhabitants',\n",
    "'account_district_no_municipalities_0_499',\n",
    "'account_district_no_municipalities_500_1999',\n",
    "'account_district_no_municipalities_2000_9999',\n",
    "'account_district_no_municipalities_10000_plus',\n",
    "'account_district_no_cities',\n",
    "'account_district_ratio_urban_inhabitants',\n",
    "'account_district_average_salary',\n",
    "'account_district_unemployment_rate_95',\n",
    "'account_district_unemployment_rate_96',\n",
    "'account_district_no_enterpreneurs_per_1000_inhabitants',\n",
    "'account_district_no_crimes_95',\n",
    "'account_district_no_crimes_96',\n",
    "'owner_card_type',\n",
    "# 'owner_district_region',\n",
    "# 'owner_district_no_inhabitants',\n",
    "# 'owner_district_no_municipalities_0_499',\n",
    "# 'owner_district_no_municipalities_500_1999',\n",
    "# 'owner_district_no_municipalities_2000_9999',\n",
    "# 'owner_district_no_municipalities_10000_plus',\n",
    "# 'owner_district_no_cities',\n",
    "# 'owner_district_ratio_urban_inhabitants',\n",
    "# 'owner_district_average_salary',\n",
    "# 'owner_district_unemployment_rate_95',\n",
    "# 'owner_district_unemployment_rate_96',\n",
    "# 'owner_district_no_enterpreneurs_per_1000_inhabitants',\n",
    "# 'owner_district_no_crimes_95',\n",
    "# 'owner_district_no_crimes_96',\n",
    "'count_trans_credits',\n",
    "'count_trans_withdrawals',\n",
    "'count_trans_credit_cash',\n",
    "'count_trans_withdrawal_cash',\n",
    "'count_trans_withdrawal_card',\n",
    "'count_trans_collection_other_bank',\n",
    "'count_trans_remittance_other_bank',\n",
    "'count_trans_ksymbol_interest_credited',\n",
    "'count_trans_ksymbol_household',\n",
    "'count_trans_ksymbol_payment_for_statement',\n",
    "#'count_trans_ksymbol_insurance_payment',\n",
    "'count_trans_ksymbol_sanction_interest_if_negative_balance',\n",
    "#'count_trans_ksymbol_oldage_pension',\n",
    "'last_trans_balance',\n",
    "'mean_trans_balance',\n",
    "'mean_trans_amount_absolute',\n",
    "'mean_trans_amount_credit',\n",
    "'mean_trans_amount_withdrawal',\n",
    "'mean_trans_amount_signed',\n",
    "'owner_male',\n",
    "'owner_age',\n",
    "'account_age_months',\n",
    "'has_disponent',\n",
    "]"
   ]
  },
  {
   "cell_type": "code",
   "execution_count": null,
   "metadata": {},
   "outputs": [],
   "source": [
    "data = data[input_cols]"
   ]
  },
  {
   "cell_type": "markdown",
   "metadata": {},
   "source": [
    "# Feature selection"
   ]
  },
  {
   "cell_type": "code",
   "execution_count": null,
   "metadata": {},
   "outputs": [],
   "source": [
    "with_nulls = []\n",
    "for i in data.isna().any().iteritems():\n",
    "    if i[1]:\n",
    "        with_nulls.append(i[0])\n",
    "        print(i[0])"
   ]
  },
  {
   "cell_type": "code",
   "execution_count": null,
   "metadata": {},
   "outputs": [],
   "source": [
    "def corr_plot(corr):\n",
    "\n",
    "    # Generate a mask for the upper triangle\n",
    "    mask = np.triu(np.ones_like(corr, dtype=bool))\n",
    "\n",
    "    # Set up the matplotlib figure\n",
    "    f, ax = plt.subplots(figsize=(11, 9))\n",
    "\n",
    "    # Generate a custom diverging colormap\n",
    "    cmap = sns.diverging_palette(230, 20, as_cmap=True)\n",
    "\n",
    "    # Draw the heatmap with the mask and correct aspect ratio\n",
    "    sns.heatmap(corr, mask=mask, cmap=cmap, vmin=-1, vmax=1, center=0,\n",
    "                square=True, linewidths=.5, cbar_kws={\"shrink\": .5})"
   ]
  },
  {
   "cell_type": "code",
   "execution_count": null,
   "metadata": {},
   "outputs": [],
   "source": [
    "cor_matrix = data[input_cols].corr().abs()\n",
    "corr_plot(cor_matrix)"
   ]
  },
  {
   "cell_type": "code",
   "execution_count": null,
   "metadata": {},
   "outputs": [],
   "source": [
    "val = cor_matrix['Predicted'].sort_values(ascending=True)\n",
    "sorted_columns = val.index.values\n",
    "sorted_columns"
   ]
  },
  {
   "cell_type": "code",
   "execution_count": null,
   "metadata": {},
   "outputs": [],
   "source": [
    "upper_tri = cor_matrix.where(np.triu(np.ones(cor_matrix.shape),k=1).astype(np.bool))\n",
    "upper_tri"
   ]
  },
  {
   "cell_type": "code",
   "execution_count": null,
   "metadata": {},
   "outputs": [],
   "source": [
    "corr = data.corr().abs()\n",
    "columns = np.full((corr.shape[0],), True, dtype=bool)\n",
    "for i in range(corr.shape[0]):\n",
    "    for j in range(i+1, corr.shape[0]):\n",
    "        if corr.iloc[i,j] >= 0.8:\n",
    "            if columns[j]:\n",
    "                columns[j] = False\n",
    "selected_columns = data.columns[columns]\n"
   ]
  },
  {
   "cell_type": "code",
   "execution_count": null,
   "metadata": {},
   "outputs": [],
   "source": [
    "selected_columns = selected_columns[1:].values\n",
    "selected_columns.shape"
   ]
  },
  {
   "cell_type": "code",
   "execution_count": null,
   "metadata": {},
   "outputs": [],
   "source": [
    "selected_columns"
   ]
  },
  {
   "cell_type": "code",
   "execution_count": null,
   "metadata": {},
   "outputs": [],
   "source": [
    "print(f'Removed {len(data.columns) - len(selected_columns)} columns')"
   ]
  },
  {
   "cell_type": "code",
   "execution_count": null,
   "metadata": {},
   "outputs": [],
   "source": [
    "data = data[selected_columns]\n",
    "corr_plot(data.corr().abs())"
   ]
  },
  {
   "cell_type": "code",
   "execution_count": null,
   "metadata": {},
   "outputs": [],
   "source": [
    "fig = plt.figure(figsize = (20, 25))\n",
    "j = 0\n",
    "for i in data.columns:\n",
    "    plt.subplot(6, 4, j+1)\n",
    "    j += 1\n",
    "    sns.distplot(data[i][data['Predicted']==0], color='g', label = 'approved')\n",
    "    sns.distplot(data[i][data['Predicted']==1], color='r', label = 'rejected')\n",
    "    plt.legend(loc='best')\n",
    "fig.suptitle('Credit Card Approval Analysis')\n",
    "fig.tight_layout()\n",
    "fig.subplots_adjust(top=0.95)\n",
    "plt.show()"
   ]
  },
  {
   "cell_type": "code",
   "execution_count": null,
   "metadata": {},
   "outputs": [],
   "source": [
    "Y = data[\"Predicted\"].values\n",
    "X = data.drop([\"Predicted\", \"Id\", \"loan_date\"], axis=1).values"
   ]
  },
  {
   "cell_type": "code",
   "execution_count": null,
   "metadata": {},
   "outputs": [],
   "source": [
    "\n",
    "estimator = DecisionTreeClassifier(splitter='best', min_samples_split=6, min_samples_leaf=5, max_features='sqrt', max_depth=41, criterion='gini')\n",
    "selector = RFECV(estimator, cv=TimeSeriesSplit(), scoring='roc_auc')\n",
    "selector.fit(X, Y)\n"
   ]
  },
  {
   "cell_type": "code",
   "execution_count": null,
   "metadata": {},
   "outputs": [],
   "source": [
    "plt.figure( figsize=(16, 6))\n",
    "plt.title('Total features selected versus roc_auc score')\n",
    "plt.xlabel('Total features selected')\n",
    "plt.ylabel('Model accuracy')\n",
    "plt.plot(range(1, len(selector.grid_scores_) + 1), selector.grid_scores_)\n",
    "plt.show()\n"
   ]
  },
  {
   "cell_type": "code",
   "execution_count": null,
   "metadata": {},
   "outputs": [],
   "source": [
    "df_features = pd.DataFrame(columns = ['feature', 'support', 'ranking'])\n",
    "\n",
    "for i in range(X.shape[1]):\n",
    "    row = {'feature': i, 'support': selector.support_[i], 'ranking': selector.ranking_[i]}\n",
    "    df_features = df_features.append(row, ignore_index=True)\n",
    "    \n",
    "df_features.sort_values(by='ranking').head(10)\n"
   ]
  },
  {
   "cell_type": "code",
   "execution_count": null,
   "metadata": {},
   "outputs": [],
   "source": [
    "sfs = SequentialFeatureSelector(clf, scoring=\"roc_auc\", direction=\"backward\", n_features_to_select='auto', tol=0.05, cv=5, n_jobs=-1)\n",
    "sfs.fit(data[input_cols], data[output_cols])\n",
    "sfs.get_feature_names_out()"
   ]
  },
  {
   "cell_type": "code",
   "execution_count": null,
   "metadata": {},
   "outputs": [],
   "source": [
    "selected_features = selector.get_support(1)\n",
    "selected_features"
   ]
  },
  {
   "cell_type": "code",
   "execution_count": null,
   "metadata": {},
   "outputs": [],
   "source": [
    "new_inputs = data[data.columns[selected_features]]\n",
    "new_inputs.columns"
   ]
  }
 ],
 "metadata": {
  "kernelspec": {
   "display_name": "Python 3.9.9 64-bit (microsoft store)",
   "language": "python",
   "name": "python3"
  },
  "language_info": {
   "codemirror_mode": {
    "name": "ipython",
    "version": 3
   },
   "file_extension": ".py",
   "mimetype": "text/x-python",
   "name": "python",
   "nbconvert_exporter": "python",
   "pygments_lexer": "ipython3",
   "version": "3.9.9"
  },
  "orig_nbformat": 4,
  "vscode": {
   "interpreter": {
    "hash": "adc3355e91baf0461ad8b3c623c29ed42566f3b300c2ab2eb824f5a66bdc7259"
   }
  }
 },
 "nbformat": 4,
 "nbformat_minor": 2
}
