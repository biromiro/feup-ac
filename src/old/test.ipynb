{
 "cells": [
  {
   "cell_type": "code",
   "execution_count": 34,
   "metadata": {},
   "outputs": [],
   "source": [
    "import pandas as pd\n",
    "import numpy as np\n",
    "\n",
    "all = pd.read_csv('../output/ALL_PART_DEV.csv')\n",
    "comp = pd.read_csv('../output/DEV_PART_DEV.csv')\n"
   ]
  },
  {
   "cell_type": "code",
   "execution_count": 30,
   "metadata": {},
   "outputs": [
    {
     "name": "stdout",
     "output_type": "stream",
     "text": [
      "Predicted nan nan\n"
     ]
    }
   ],
   "source": [
    "allrow = all[all['Id'] == 5895]\n",
    "comprow = comp[comp['Id'] == 5895]\n"
   ]
  },
  {
   "cell_type": "code",
   "execution_count": 35,
   "metadata": {},
   "outputs": [],
   "source": [
    "for row in all.itertuples():\n",
    "    comprow = comp[comp['Id'] == row.Id]\n",
    "    allrow = all[all['Id'] == row.Id]\n",
    "    for column in allrow.columns:\n",
    "        if not allrow[column].values[0] == comprow[column].values[0]:\n",
    "            # not NaN\n",
    "            if not np.isnan(allrow[column].values[0]):\n",
    "                print(column, allrow[column].values[0], comprow[column].values[0])\n"
   ]
  }
 ],
 "metadata": {
  "kernelspec": {
   "display_name": "Python 3.9.9 64-bit (microsoft store)",
   "language": "python",
   "name": "python3"
  },
  "language_info": {
   "codemirror_mode": {
    "name": "ipython",
    "version": 3
   },
   "file_extension": ".py",
   "mimetype": "text/x-python",
   "name": "python",
   "nbconvert_exporter": "python",
   "pygments_lexer": "ipython3",
   "version": "3.9.9"
  },
  "orig_nbformat": 4,
  "vscode": {
   "interpreter": {
    "hash": "adc3355e91baf0461ad8b3c623c29ed42566f3b300c2ab2eb824f5a66bdc7259"
   }
  }
 },
 "nbformat": 4,
 "nbformat_minor": 2
}
