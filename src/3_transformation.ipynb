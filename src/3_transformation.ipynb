{
 "cells": [
  {
   "cell_type": "markdown",
   "metadata": {},
   "source": [
    "# Load imports and data"
   ]
  },
  {
   "cell_type": "code",
   "execution_count": null,
   "metadata": {},
   "outputs": [],
   "source": [
    "import pandas as pd\n",
    "import seaborn as sns\n",
    "import matplotlib.pyplot as plt\n",
    "from sklearn.preprocessing import StandardScaler, PowerTransformer, Binarizer\n"
   ]
  },
  {
   "cell_type": "code",
   "execution_count": null,
   "metadata": {},
   "outputs": [],
   "source": [
    "dev = pd.read_csv('output/loan_dev.csv')\n",
    "# dev = pd.read_csv('output/loan_dev_without_outliers.csv')\n",
    "comp = pd.read_csv('output/loan_comp.csv')\n",
    "all = pd.read_csv('output/loan.csv')\n",
    "\n",
    "list(dev.columns)\n"
   ]
  },
  {
   "cell_type": "markdown",
   "metadata": {},
   "source": [
    "# Transformation Utils"
   ]
  },
  {
   "cell_type": "code",
   "execution_count": null,
   "metadata": {},
   "outputs": [],
   "source": [
    "def show_hist(columns, trend=True):\n",
    "    for column in columns:\n",
    "        sns.histplot(dev[column], kde=trend)\n",
    "        plt.show()\n",
    "\n",
    "\n",
    "def transform(columns, scaler):\n",
    "    scaler = scaler.fit(dev[columns])\n",
    "    dev[columns] = scaler.transform(dev[columns])\n",
    "    comp[columns] = scaler.transform(comp[columns])\n",
    "    all[columns] = scaler.transform(all[columns])\n"
   ]
  },
  {
   "cell_type": "markdown",
   "metadata": {},
   "source": [
    "# Account & Owner\n",
    "#### (most dists are exactly the same)"
   ]
  },
  {
   "cell_type": "code",
   "execution_count": null,
   "metadata": {},
   "outputs": [],
   "source": [
    "[col for col in dev if col.startswith('account') or col.startswith('owner')]\n"
   ]
  },
  {
   "cell_type": "code",
   "execution_count": null,
   "metadata": {},
   "outputs": [],
   "source": [
    "log_attrs = ['_district_no_inhabitants']\n",
    "\n",
    "\n",
    "show_hist(['account' + attr for attr in log_attrs])\n"
   ]
  },
  {
   "cell_type": "code",
   "execution_count": null,
   "metadata": {},
   "outputs": [],
   "source": [
    "log_cols = [subject + attr for subject in ['account', 'owner']\n",
    "            for attr in log_attrs]\n",
    "\n",
    "transform(log_cols, PowerTransformer())\n",
    "\n",
    "show_hist(['account' + attr for attr in log_attrs])\n"
   ]
  },
  {
   "cell_type": "code",
   "execution_count": null,
   "metadata": {},
   "outputs": [],
   "source": [
    "norm_attrs = ['_district_no_municipalities_0_499',\n",
    "              '_district_no_municipalities_500_1999', '_district_no_municipalities_2000_9999', '_district_no_cities', '_district_ratio_urban_inhabitants', '_district_average_salary',\n",
    "              '_district_unemployment_rate_95', '_district_unemployment_rate_96', '_district_no_enterpreneurs_per_1000_inhabitants', '_district_no_crimes_95', '_district_no_crimes_96']\n",
    "\n",
    "# '_age_months' only occurs on account\n",
    "show_hist(['account' + attr for attr in norm_attrs] +\n",
    "          ['account_age_months', 'owner_age'])\n"
   ]
  },
  {
   "cell_type": "code",
   "execution_count": null,
   "metadata": {},
   "outputs": [],
   "source": [
    "norm_cols = [subject + attr for subject in ['account', 'owner']\n",
    "             for attr in norm_attrs]\n",
    "\n",
    "norm_cols.append('account_age_months')\n",
    "norm_cols.append('owner_age')\n",
    "\n",
    "transform(norm_cols, StandardScaler())\n",
    "\n",
    "show_hist(['account' + attr for attr in norm_attrs] +\n",
    "          ['account_age_months', 'owner_age'])\n"
   ]
  },
  {
   "cell_type": "markdown",
   "metadata": {},
   "source": [
    "# Transactions"
   ]
  },
  {
   "cell_type": "code",
   "execution_count": null,
   "metadata": {},
   "outputs": [],
   "source": [
    "trans_cols = ['loan_payments',\n",
    "              'count_trans_credits',\n",
    "              'count_trans_withdrawals',\n",
    "              'count_trans_credit_cash',\n",
    "              'count_trans_withdrawal_cash',\n",
    "              'count_trans_withdrawal_card',\n",
    "              'count_trans_collection_other_bank',\n",
    "              'count_trans_remittance_other_bank',\n",
    "              'count_trans_ksymbol_interest_credited',\n",
    "              'count_trans_ksymbol_household',\n",
    "              'count_trans_ksymbol_payment_for_statement',\n",
    "              'count_trans_ksymbol_sanction_interest_if_negative_balance',\n",
    "              'last_trans_balance',\n",
    "              'mean_trans_balance',\n",
    "              'mean_trans_amount_absolute',\n",
    "              'mean_trans_amount_credit',\n",
    "              'mean_trans_amount_withdrawal',\n",
    "              'mean_trans_amount_signed']\n",
    "\n",
    "show_hist(trans_cols)\n"
   ]
  },
  {
   "cell_type": "code",
   "execution_count": null,
   "metadata": {},
   "outputs": [],
   "source": [
    "log_cols = ['count_trans_credits',\n",
    "            'count_trans_withdrawals',\n",
    "            'count_trans_withdrawal_cash',\n",
    "            'count_trans_ksymbol_interest_credited',\n",
    "            'last_trans_balance',\n",
    "            'mean_trans_amount_absolute',\n",
    "            'mean_trans_amount_withdrawal',\n",
    "            'mean_trans_amount_signed']\n",
    "\n",
    "transform(log_cols, PowerTransformer())\n",
    "\n",
    "show_hist(log_cols)\n"
   ]
  },
  {
   "cell_type": "code",
   "execution_count": null,
   "metadata": {},
   "outputs": [],
   "source": [
    "bin_cols = ['count_trans_collection_other_bank',\n",
    "            'count_trans_remittance_other_bank',\n",
    "            'count_trans_ksymbol_household',\n",
    "            'count_trans_ksymbol_sanction_interest_if_negative_balance']\n",
    "\n",
    "transform(bin_cols, Binarizer())\n",
    "\n",
    "show_hist(bin_cols, trend=False)\n"
   ]
  },
  {
   "cell_type": "code",
   "execution_count": null,
   "metadata": {},
   "outputs": [],
   "source": [
    "norm_cols = [col for col in trans_cols if col not in log_cols +\n",
    "             bin_cols and col != 'count_trans_withdrawal_card']\n",
    "\n",
    "transform(norm_cols, StandardScaler())\n",
    "\n",
    "show_hist(norm_cols)\n"
   ]
  },
  {
   "cell_type": "markdown",
   "metadata": {},
   "source": [
    "# Save data"
   ]
  },
  {
   "cell_type": "code",
   "execution_count": null,
   "metadata": {},
   "outputs": [],
   "source": [
    "dev.to_csv('output/loan_dev_transformed.csv', index=False)\n",
    "# dev = pd.read_csv('output/loan_dev_without_outliers_transformed.csv')\n",
    "comp.to_csv('output/loan_comp_transformed.csv', index=False)\n",
    "all.to_csv('output/loan_transformed.csv', index=False)"
   ]
  }
 ],
 "metadata": {
  "kernelspec": {
   "display_name": "Python 3.10.7 64-bit",
   "language": "python",
   "name": "python3"
  },
  "language_info": {
   "codemirror_mode": {
    "name": "ipython",
    "version": 3
   },
   "file_extension": ".py",
   "mimetype": "text/x-python",
   "name": "python",
   "nbconvert_exporter": "python",
   "pygments_lexer": "ipython3",
   "version": "3.10.7"
  },
  "orig_nbformat": 4,
  "vscode": {
   "interpreter": {
    "hash": "26de051ba29f2982a8de78e945f0abaf191376122a1563185a90213a26c5da77"
   }
  }
 },
 "nbformat": 4,
 "nbformat_minor": 2
}
