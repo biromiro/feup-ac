{
 "cells": [
  {
   "cell_type": "code",
   "execution_count": 2,
   "metadata": {},
   "outputs": [],
   "source": [
    "import os\n",
    "import uuid\n",
    "import numpy as np \n",
    "import pandas as pd\n",
    "#import tensorflow as tf\n",
    "import matplotlib.pyplot as plt\n",
    "import seaborn as sns\n",
    "# This is used in order to show the plotted figures within this notebook\n",
    "%matplotlib inline \n",
    "# This is used in order to show the tensorboard within this notebook             \n",
    "#%load_ext tensorboard  \n",
    "from sklearn.preprocessing import OneHotEncoder, LabelEncoder\n",
    "from sklearn.neighbors import KNeighborsClassifier\n",
    "\n",
    "from sklearn.metrics import accuracy_score, roc_auc_score\n",
    "from sklearn.preprocessing import LabelEncoder, StandardScaler\n",
    "from collections import Counter\n",
    "from math import ceil\n",
    "import numpy as np\n",
    "import seaborn as sns\n",
    "%matplotlib inline\n",
    "import matplotlib.pyplot as plt\n",
    "from sklearn.tree import DecisionTreeClassifier, plot_tree\n",
    "from sklearn.ensemble import RandomForestClassifier, GradientBoostingClassifier, AdaBoostClassifier\n",
    "from sklearn.neural_network import MLPClassifier\n",
    "from sklearn.neighbors import KNeighborsClassifier\n",
    "from sklearn.svm import SVC\n",
    "from sklearn.linear_model import LogisticRegression\n",
    "from sklearn.naive_bayes import GaussianNB\n",
    "from sklearn.model_selection import train_test_split, RandomizedSearchCV, GridSearchCV, TimeSeriesSplit\n",
    "from sklearn.metrics import accuracy_score, classification_report, confusion_matrix, plot_roc_curve\n",
    "from sklearn.model_selection import learning_curve\n",
    "from sklearn.multioutput import MultiOutputClassifier\n",
    "from imblearn.combine import SMOTETomek\n",
    "from imblearn.under_sampling import TomekLinks\n",
    "from evaluate import run\n",
    "import datetime\n",
    "import numpy as np\n",
    "import pandas as pd\n",
    "import seaborn as sns"
   ]
  },
  {
   "cell_type": "code",
   "execution_count": 3,
   "metadata": {},
   "outputs": [
    {
     "data": {
      "text/html": [
       "<div>\n",
       "<style scoped>\n",
       "    .dataframe tbody tr th:only-of-type {\n",
       "        vertical-align: middle;\n",
       "    }\n",
       "\n",
       "    .dataframe tbody tr th {\n",
       "        vertical-align: top;\n",
       "    }\n",
       "\n",
       "    .dataframe thead th {\n",
       "        text-align: right;\n",
       "    }\n",
       "</style>\n",
       "<table border=\"1\" class=\"dataframe\">\n",
       "  <thead>\n",
       "    <tr style=\"text-align: right;\">\n",
       "      <th></th>\n",
       "      <th>Id</th>\n",
       "      <th>loan_date</th>\n",
       "      <th>loan_duration</th>\n",
       "      <th>loan_payments</th>\n",
       "      <th>Predicted</th>\n",
       "      <th>account_frequency</th>\n",
       "      <th>account_district_region</th>\n",
       "      <th>account_district_no_inhabitants</th>\n",
       "      <th>account_district_no_municipalities_0_499</th>\n",
       "      <th>account_district_no_municipalities_500_1999</th>\n",
       "      <th>...</th>\n",
       "      <th>mean_trans_balance</th>\n",
       "      <th>mean_trans_amount_absolute</th>\n",
       "      <th>mean_trans_amount_credit</th>\n",
       "      <th>mean_trans_amount_withdrawal</th>\n",
       "      <th>mean_trans_amount_signed</th>\n",
       "      <th>owner_male</th>\n",
       "      <th>owner_age</th>\n",
       "      <th>account_age_months</th>\n",
       "      <th>has_disponent</th>\n",
       "      <th>owner_profile</th>\n",
       "    </tr>\n",
       "  </thead>\n",
       "  <tbody>\n",
       "    <tr>\n",
       "      <th>0</th>\n",
       "      <td>5314</td>\n",
       "      <td>930705</td>\n",
       "      <td>12</td>\n",
       "      <td>1.772411</td>\n",
       "      <td>1.0</td>\n",
       "      <td>1</td>\n",
       "      <td>7</td>\n",
       "      <td>-0.555052</td>\n",
       "      <td>-0.696637</td>\n",
       "      <td>-0.532164</td>\n",
       "      <td>...</td>\n",
       "      <td>-2.341062</td>\n",
       "      <td>-1.095832</td>\n",
       "      <td>-1.277012</td>\n",
       "      <td>-3.548971</td>\n",
       "      <td>2.064417</td>\n",
       "      <td>0</td>\n",
       "      <td>0.738673</td>\n",
       "      <td>-1.637968</td>\n",
       "      <td>0</td>\n",
       "      <td>2</td>\n",
       "    </tr>\n",
       "    <tr>\n",
       "      <th>1</th>\n",
       "      <td>5316</td>\n",
       "      <td>930711</td>\n",
       "      <td>36</td>\n",
       "      <td>0.209593</td>\n",
       "      <td>0.0</td>\n",
       "      <td>2</td>\n",
       "      <td>3</td>\n",
       "      <td>-0.276803</td>\n",
       "      <td>0.251722</td>\n",
       "      <td>-0.103896</td>\n",
       "      <td>...</td>\n",
       "      <td>0.662960</td>\n",
       "      <td>0.445111</td>\n",
       "      <td>0.304714</td>\n",
       "      <td>0.259442</td>\n",
       "      <td>0.870102</td>\n",
       "      <td>1</td>\n",
       "      <td>-0.939421</td>\n",
       "      <td>-1.451810</td>\n",
       "      <td>0</td>\n",
       "      <td>2</td>\n",
       "    </tr>\n",
       "    <tr>\n",
       "      <th>2</th>\n",
       "      <td>6863</td>\n",
       "      <td>930728</td>\n",
       "      <td>60</td>\n",
       "      <td>-0.928164</td>\n",
       "      <td>0.0</td>\n",
       "      <td>2</td>\n",
       "      <td>3</td>\n",
       "      <td>-0.907746</td>\n",
       "      <td>1.315032</td>\n",
       "      <td>-0.165077</td>\n",
       "      <td>...</td>\n",
       "      <td>-0.997871</td>\n",
       "      <td>-0.973106</td>\n",
       "      <td>-1.279854</td>\n",
       "      <td>-0.405514</td>\n",
       "      <td>0.362060</td>\n",
       "      <td>1</td>\n",
       "      <td>1.697584</td>\n",
       "      <td>-1.265651</td>\n",
       "      <td>0</td>\n",
       "      <td>2</td>\n",
       "    </tr>\n",
       "    <tr>\n",
       "      <th>3</th>\n",
       "      <td>5325</td>\n",
       "      <td>930803</td>\n",
       "      <td>36</td>\n",
       "      <td>-0.553325</td>\n",
       "      <td>0.0</td>\n",
       "      <td>2</td>\n",
       "      <td>2</td>\n",
       "      <td>-0.344741</td>\n",
       "      <td>1.286294</td>\n",
       "      <td>0.446734</td>\n",
       "      <td>...</td>\n",
       "      <td>-0.150482</td>\n",
       "      <td>-0.193451</td>\n",
       "      <td>-0.489775</td>\n",
       "      <td>-0.135044</td>\n",
       "      <td>0.842490</td>\n",
       "      <td>0</td>\n",
       "      <td>1.377947</td>\n",
       "      <td>-1.079493</td>\n",
       "      <td>0</td>\n",
       "      <td>2</td>\n",
       "    </tr>\n",
       "    <tr>\n",
       "      <th>4</th>\n",
       "      <td>7240</td>\n",
       "      <td>930906</td>\n",
       "      <td>60</td>\n",
       "      <td>0.195440</td>\n",
       "      <td>0.0</td>\n",
       "      <td>1</td>\n",
       "      <td>4</td>\n",
       "      <td>1.729778</td>\n",
       "      <td>-1.127709</td>\n",
       "      <td>-1.327519</td>\n",
       "      <td>...</td>\n",
       "      <td>1.047898</td>\n",
       "      <td>1.926310</td>\n",
       "      <td>1.743982</td>\n",
       "      <td>1.716445</td>\n",
       "      <td>0.944229</td>\n",
       "      <td>1</td>\n",
       "      <td>-1.738513</td>\n",
       "      <td>-1.079493</td>\n",
       "      <td>0</td>\n",
       "      <td>0</td>\n",
       "    </tr>\n",
       "    <tr>\n",
       "      <th>...</th>\n",
       "      <td>...</td>\n",
       "      <td>...</td>\n",
       "      <td>...</td>\n",
       "      <td>...</td>\n",
       "      <td>...</td>\n",
       "      <td>...</td>\n",
       "      <td>...</td>\n",
       "      <td>...</td>\n",
       "      <td>...</td>\n",
       "      <td>...</td>\n",
       "      <td>...</td>\n",
       "      <td>...</td>\n",
       "      <td>...</td>\n",
       "      <td>...</td>\n",
       "      <td>...</td>\n",
       "      <td>...</td>\n",
       "      <td>...</td>\n",
       "      <td>...</td>\n",
       "      <td>...</td>\n",
       "      <td>...</td>\n",
       "      <td>...</td>\n",
       "    </tr>\n",
       "    <tr>\n",
       "      <th>323</th>\n",
       "      <td>6818</td>\n",
       "      <td>961212</td>\n",
       "      <td>48</td>\n",
       "      <td>-0.414986</td>\n",
       "      <td>0.0</td>\n",
       "      <td>2</td>\n",
       "      <td>1</td>\n",
       "      <td>0.598928</td>\n",
       "      <td>-0.208089</td>\n",
       "      <td>1.731539</td>\n",
       "      <td>...</td>\n",
       "      <td>0.068220</td>\n",
       "      <td>-1.137214</td>\n",
       "      <td>-1.012047</td>\n",
       "      <td>-1.070137</td>\n",
       "      <td>-0.537260</td>\n",
       "      <td>0</td>\n",
       "      <td>-0.859512</td>\n",
       "      <td>1.899044</td>\n",
       "      <td>1</td>\n",
       "      <td>2</td>\n",
       "    </tr>\n",
       "    <tr>\n",
       "      <th>324</th>\n",
       "      <td>5625</td>\n",
       "      <td>961215</td>\n",
       "      <td>60</td>\n",
       "      <td>-0.204510</td>\n",
       "      <td>1.0</td>\n",
       "      <td>2</td>\n",
       "      <td>7</td>\n",
       "      <td>-2.110760</td>\n",
       "      <td>0.366674</td>\n",
       "      <td>-0.715708</td>\n",
       "      <td>...</td>\n",
       "      <td>0.900256</td>\n",
       "      <td>0.595847</td>\n",
       "      <td>0.285059</td>\n",
       "      <td>0.536220</td>\n",
       "      <td>0.540540</td>\n",
       "      <td>1</td>\n",
       "      <td>1.697584</td>\n",
       "      <td>0.037459</td>\n",
       "      <td>0</td>\n",
       "      <td>2</td>\n",
       "    </tr>\n",
       "    <tr>\n",
       "      <th>325</th>\n",
       "      <td>6805</td>\n",
       "      <td>961221</td>\n",
       "      <td>48</td>\n",
       "      <td>-1.466909</td>\n",
       "      <td>0.0</td>\n",
       "      <td>2</td>\n",
       "      <td>1</td>\n",
       "      <td>0.822776</td>\n",
       "      <td>-1.127709</td>\n",
       "      <td>-1.205157</td>\n",
       "      <td>...</td>\n",
       "      <td>-0.097886</td>\n",
       "      <td>-0.313022</td>\n",
       "      <td>-0.621863</td>\n",
       "      <td>-0.182382</td>\n",
       "      <td>0.514984</td>\n",
       "      <td>0</td>\n",
       "      <td>0.259218</td>\n",
       "      <td>-0.893334</td>\n",
       "      <td>0</td>\n",
       "      <td>2</td>\n",
       "    </tr>\n",
       "    <tr>\n",
       "      <th>326</th>\n",
       "      <td>7233</td>\n",
       "      <td>961225</td>\n",
       "      <td>36</td>\n",
       "      <td>-0.426400</td>\n",
       "      <td>0.0</td>\n",
       "      <td>2</td>\n",
       "      <td>6</td>\n",
       "      <td>-0.570905</td>\n",
       "      <td>0.998913</td>\n",
       "      <td>-0.042715</td>\n",
       "      <td>...</td>\n",
       "      <td>1.007047</td>\n",
       "      <td>0.910852</td>\n",
       "      <td>0.869015</td>\n",
       "      <td>0.695252</td>\n",
       "      <td>-0.583636</td>\n",
       "      <td>1</td>\n",
       "      <td>0.578855</td>\n",
       "      <td>1.340569</td>\n",
       "      <td>0</td>\n",
       "      <td>2</td>\n",
       "    </tr>\n",
       "    <tr>\n",
       "      <th>327</th>\n",
       "      <td>7308</td>\n",
       "      <td>961227</td>\n",
       "      <td>24</td>\n",
       "      <td>0.566626</td>\n",
       "      <td>0.0</td>\n",
       "      <td>2</td>\n",
       "      <td>1</td>\n",
       "      <td>-0.371503</td>\n",
       "      <td>-0.035660</td>\n",
       "      <td>0.202010</td>\n",
       "      <td>...</td>\n",
       "      <td>-0.936874</td>\n",
       "      <td>-1.250832</td>\n",
       "      <td>-0.572199</td>\n",
       "      <td>-1.374658</td>\n",
       "      <td>-1.012774</td>\n",
       "      <td>0</td>\n",
       "      <td>-0.140328</td>\n",
       "      <td>0.409776</td>\n",
       "      <td>0</td>\n",
       "      <td>2</td>\n",
       "    </tr>\n",
       "  </tbody>\n",
       "</table>\n",
       "<p>328 rows × 59 columns</p>\n",
       "</div>"
      ],
      "text/plain": [
       "       Id  loan_date  loan_duration  loan_payments  Predicted  \\\n",
       "0    5314     930705             12       1.772411        1.0   \n",
       "1    5316     930711             36       0.209593        0.0   \n",
       "2    6863     930728             60      -0.928164        0.0   \n",
       "3    5325     930803             36      -0.553325        0.0   \n",
       "4    7240     930906             60       0.195440        0.0   \n",
       "..    ...        ...            ...            ...        ...   \n",
       "323  6818     961212             48      -0.414986        0.0   \n",
       "324  5625     961215             60      -0.204510        1.0   \n",
       "325  6805     961221             48      -1.466909        0.0   \n",
       "326  7233     961225             36      -0.426400        0.0   \n",
       "327  7308     961227             24       0.566626        0.0   \n",
       "\n",
       "     account_frequency  account_district_region  \\\n",
       "0                    1                        7   \n",
       "1                    2                        3   \n",
       "2                    2                        3   \n",
       "3                    2                        2   \n",
       "4                    1                        4   \n",
       "..                 ...                      ...   \n",
       "323                  2                        1   \n",
       "324                  2                        7   \n",
       "325                  2                        1   \n",
       "326                  2                        6   \n",
       "327                  2                        1   \n",
       "\n",
       "     account_district_no_inhabitants  \\\n",
       "0                          -0.555052   \n",
       "1                          -0.276803   \n",
       "2                          -0.907746   \n",
       "3                          -0.344741   \n",
       "4                           1.729778   \n",
       "..                               ...   \n",
       "323                         0.598928   \n",
       "324                        -2.110760   \n",
       "325                         0.822776   \n",
       "326                        -0.570905   \n",
       "327                        -0.371503   \n",
       "\n",
       "     account_district_no_municipalities_0_499  \\\n",
       "0                                   -0.696637   \n",
       "1                                    0.251722   \n",
       "2                                    1.315032   \n",
       "3                                    1.286294   \n",
       "4                                   -1.127709   \n",
       "..                                        ...   \n",
       "323                                 -0.208089   \n",
       "324                                  0.366674   \n",
       "325                                 -1.127709   \n",
       "326                                  0.998913   \n",
       "327                                 -0.035660   \n",
       "\n",
       "     account_district_no_municipalities_500_1999  ...  mean_trans_balance  \\\n",
       "0                                      -0.532164  ...           -2.341062   \n",
       "1                                      -0.103896  ...            0.662960   \n",
       "2                                      -0.165077  ...           -0.997871   \n",
       "3                                       0.446734  ...           -0.150482   \n",
       "4                                      -1.327519  ...            1.047898   \n",
       "..                                           ...  ...                 ...   \n",
       "323                                     1.731539  ...            0.068220   \n",
       "324                                    -0.715708  ...            0.900256   \n",
       "325                                    -1.205157  ...           -0.097886   \n",
       "326                                    -0.042715  ...            1.007047   \n",
       "327                                     0.202010  ...           -0.936874   \n",
       "\n",
       "     mean_trans_amount_absolute  mean_trans_amount_credit  \\\n",
       "0                     -1.095832                 -1.277012   \n",
       "1                      0.445111                  0.304714   \n",
       "2                     -0.973106                 -1.279854   \n",
       "3                     -0.193451                 -0.489775   \n",
       "4                      1.926310                  1.743982   \n",
       "..                          ...                       ...   \n",
       "323                   -1.137214                 -1.012047   \n",
       "324                    0.595847                  0.285059   \n",
       "325                   -0.313022                 -0.621863   \n",
       "326                    0.910852                  0.869015   \n",
       "327                   -1.250832                 -0.572199   \n",
       "\n",
       "     mean_trans_amount_withdrawal  mean_trans_amount_signed  owner_male  \\\n",
       "0                       -3.548971                  2.064417           0   \n",
       "1                        0.259442                  0.870102           1   \n",
       "2                       -0.405514                  0.362060           1   \n",
       "3                       -0.135044                  0.842490           0   \n",
       "4                        1.716445                  0.944229           1   \n",
       "..                            ...                       ...         ...   \n",
       "323                     -1.070137                 -0.537260           0   \n",
       "324                      0.536220                  0.540540           1   \n",
       "325                     -0.182382                  0.514984           0   \n",
       "326                      0.695252                 -0.583636           1   \n",
       "327                     -1.374658                 -1.012774           0   \n",
       "\n",
       "     owner_age  account_age_months  has_disponent  owner_profile  \n",
       "0     0.738673           -1.637968              0              2  \n",
       "1    -0.939421           -1.451810              0              2  \n",
       "2     1.697584           -1.265651              0              2  \n",
       "3     1.377947           -1.079493              0              2  \n",
       "4    -1.738513           -1.079493              0              0  \n",
       "..         ...                 ...            ...            ...  \n",
       "323  -0.859512            1.899044              1              2  \n",
       "324   1.697584            0.037459              0              2  \n",
       "325   0.259218           -0.893334              0              2  \n",
       "326   0.578855            1.340569              0              2  \n",
       "327  -0.140328            0.409776              0              2  \n",
       "\n",
       "[328 rows x 59 columns]"
      ]
     },
     "execution_count": 3,
     "metadata": {},
     "output_type": "execute_result"
    }
   ],
   "source": [
    "data = pd.read_csv('output/loan_dev.csv')\n",
    "data_comp = pd.read_csv('output/loan_comp.csv')\n",
    "data"
   ]
  },
  {
   "cell_type": "markdown",
   "metadata": {},
   "source": [
    "# Outlier Detection\n",
    "\n",
    "- Standard Deviation\n",
    "- Z-Score"
   ]
  },
  {
   "cell_type": "code",
   "execution_count": 21,
   "metadata": {},
   "outputs": [
    {
     "name": "stdout",
     "output_type": "stream",
     "text": [
      "--------------------------------------------------\n",
      "Statistics of Id\n",
      "--------------------------------------------------\n",
      "Min: 4959\n",
      "Max: 7308\n",
      "Mean: 6205.658536585366\n",
      "Median: 6227.5\n",
      "Standard deviation: 667.985674726219\n",
      "Skewness: -0.126359735421936\n",
      "Variance: 446204.86163944204\n",
      "Kurtosis: -1.168537695082133\n",
      "Interquartile Range: 1133.0 | Q1: 5604.25 | Q3: 6737.25\n"
     ]
    },
    {
     "data": {
      "image/png": "[encoded data removed]",
      "text/plain": [
       "<Figure size 640x480 with 1 Axes>"
      ]
     },
     "metadata": {},
     "output_type": "display_data"
    },
    {
     "data": {
      "text/plain": [
       "<Figure size 1000x700 with 0 Axes>"
      ]
     },
     "metadata": {},
     "output_type": "display_data"
    },
    {
     "name": "stdout",
     "output_type": "stream",
     "text": [
      "--------------------------------------------------\n",
      "Statistics of loan_date\n",
      "--------------------------------------------------\n",
      "Min: 930705\n",
      "Max: 961227\n",
      "Mean: 949989.125\n",
      "Median: 950565.5\n",
      "Standard deviation: 9495.504646353156\n",
      "Skewness: -0.2574182118951275\n",
      "Variance: 90164608.48891437\n",
      "Kurtosis: -1.1466194893417647\n",
      "Interquartile Range: 19716.0 | Q1: 940809.25 | Q3: 960525.25\n"
     ]
    },
    {
     "data": {
      "image/png": "[encoded data removed]",
      "text/plain": [
       "<Figure size 640x480 with 1 Axes>"
      ]
     },
     "metadata": {},
     "output_type": "display_data"
    },
    {
     "data": {
      "text/plain": [
       "<Figure size 1000x700 with 0 Axes>"
      ]
     },
     "metadata": {},
     "output_type": "display_data"
    },
    {
     "name": "stdout",
     "output_type": "stream",
     "text": [
      "--------------------------------------------------\n",
      "Statistics of loan_duration\n",
      "--------------------------------------------------\n",
      "Min: 12\n",
      "Max: 60\n",
      "Mean: 35.853658536585364\n",
      "Median: 36.0\n",
      "Standard deviation: 16.73475166172723\n",
      "Skewness: 0.05589223008522359\n",
      "Variance: 280.0519131796823\n",
      "Kurtosis: -1.267191280387405\n",
      "Interquartile Range: 24.0 | Q1: 24.0 | Q3: 48.0\n"
     ]
    },
    {
     "data": {
      "image/png": "[encoded data removed]",
      "text/plain": [
       "<Figure size 640x480 with 1 Axes>"
      ]
     },
     "metadata": {},
     "output_type": "display_data"
    },
    {
     "data": {
      "text/plain": [
       "<Figure size 1000x700 with 0 Axes>"
      ]
     },
     "metadata": {},
     "output_type": "display_data"
    },
    {
     "name": "stdout",
     "output_type": "stream",
     "text": [
      "--------------------------------------------------\n",
      "Statistics of loan_payments\n",
      "--------------------------------------------------\n",
      "Min: -1.7495217719223348\n",
      "Max: 2.528480822574191\n",
      "Mean: -1.4622449592624014e-16\n",
      "Median: -0.12438300616882525\n",
      "Standard deviation: 1.0015278847718296\n",
      "Skewness: 0.2693393857351612\n",
      "Variance: 1.003058103975535\n",
      "Kurtosis: -0.8465605235895719\n",
      "Interquartile Range: 1.6157792083162439 | Q1: -0.8136801691401305 | Q3: 0.8020990391761134\n"
     ]
    },
    {
     "data": {
      "image/png": "[encoded data removed]",
      "text/plain": [
       "<Figure size 640x480 with 1 Axes>"
      ]
     },
     "metadata": {},
     "output_type": "display_data"
    },
    {
     "data": {
      "text/plain": [
       "<Figure size 1000x700 with 0 Axes>"
      ]
     },
     "metadata": {},
     "output_type": "display_data"
    },
    {
     "name": "stdout",
     "output_type": "stream",
     "text": [
      "--------------------------------------------------\n",
      "Statistics of Predicted\n",
      "--------------------------------------------------\n",
      "Min: 0.0\n",
      "Max: 1.0\n",
      "Mean: 0.1402439024390244\n",
      "Median: 0.0\n",
      "Standard deviation: 0.3477704456064715\n",
      "Skewness: 2.0816213381952395\n",
      "Variance: 0.12094428283732378\n",
      "Kurtosis: 2.3474239284321956\n",
      "Interquartile Range: 0.0 | Q1: 0.0 | Q3: 0.0\n"
     ]
    },
    {
     "data": {
      "image/png": "[encoded data removed]",
      "text/plain": [
       "<Figure size 640x480 with 1 Axes>"
      ]
     },
     "metadata": {},
     "output_type": "display_data"
    },
    {
     "data": {
      "text/plain": [
       "<Figure size 1000x700 with 0 Axes>"
      ]
     },
     "metadata": {},
     "output_type": "display_data"
    },
    {
     "name": "stdout",
     "output_type": "stream",
     "text": [
      "--------------------------------------------------\n",
      "Statistics of account_frequency\n",
      "--------------------------------------------------\n",
      "Min: 0\n",
      "Max: 2\n",
      "Mean: 1.7347560975609757\n",
      "Median: 2.0\n",
      "Standard deviation: 0.5527904760035754\n",
      "Skewness: -1.992102848776567\n",
      "Variance: 0.30557731036025954\n",
      "Kurtosis: 2.948430966811482\n",
      "Interquartile Range: 0.0 | Q1: 2.0 | Q3: 2.0\n"
     ]
    },
    {
     "data": {
      "image/png": "[encoded data removed]",
      "text/plain": [
       "<Figure size 640x480 with 1 Axes>"
      ]
     },
     "metadata": {},
     "output_type": "display_data"
    },
    {
     "data": {
      "text/plain": [
       "<Figure size 1000x700 with 0 Axes>"
      ]
     },
     "metadata": {},
     "output_type": "display_data"
    },
    {
     "name": "stdout",
     "output_type": "stream",
     "text": [
      "--------------------------------------------------\n",
      "Statistics of account_district_region\n",
      "--------------------------------------------------\n",
      "Min: 0\n",
      "Max: 7\n",
      "Mean: 2.951219512195122\n",
      "Median: 3.0\n",
      "Standard deviation: 2.3115317294764783\n",
      "Skewness: 0.2869188721277375\n",
      "Variance: 5.343178936376519\n",
      "Kurtosis: -1.1604025800414484\n",
      "Interquartile Range: 4.0 | Q1: 1.0 | Q3: 5.0\n"
     ]
    },
    {
     "data": {
      "image/png": "[encoded data removed]",
      "text/plain": [
       "<Figure size 640x480 with 1 Axes>"
      ]
     },
     "metadata": {},
     "output_type": "display_data"
    },
    {
     "data": {
      "text/plain": [
       "<Figure size 1000x700 with 0 Axes>"
      ]
     },
     "metadata": {},
     "output_type": "display_data"
    },
    {
     "name": "stdout",
     "output_type": "stream",
     "text": [
      "--------------------------------------------------\n",
      "Statistics of account_district_no_inhabitants\n",
      "--------------------------------------------------\n",
      "Min: -2.2878599521138283\n",
      "Max: 1.7297780049882752\n",
      "Mean: -4.34263717668675e-09\n",
      "Median: -0.1206245719730472\n",
      "Standard deviation: 1.0015278847718296\n",
      "Skewness: 0.10222420672802587\n",
      "Variance: 1.003058103975535\n",
      "Kurtosis: -0.40869992585674453\n",
      "Interquartile Range: 1.206911929003199 | Q1: -0.6049226338409734 | Q3: 0.6019892951622258\n"
     ]
    },
    {
     "data": {
      "image/png": "[encoded data removed]",
      "text/plain": [
       "<Figure size 640x480 with 1 Axes>"
      ]
     },
     "metadata": {},
     "output_type": "display_data"
    },
    {
     "data": {
      "text/plain": [
       "<Figure size 1000x700 with 0 Axes>"
      ]
     },
     "metadata": {},
     "output_type": "display_data"
    },
    {
     "name": "stdout",
     "output_type": "stream",
     "text": [
      "--------------------------------------------------\n",
      "Statistics of account_district_no_municipalities_0_499\n",
      "--------------------------------------------------\n",
      "Min: -1.1277088962137816\n",
      "Max: 3.2117492819911884\n",
      "Mean: -2.166288828536891e-17\n",
      "Median: -0.1506123527769008\n",
      "Standard deviation: 1.0015278847718296\n",
      "Skewness: 0.8336320112638349\n",
      "Variance: 1.003058103975535\n",
      "Kurtosis: 0.5133208170929926\n",
      "Interquartile Range: 1.6668117505687967 | Q1: -0.9840182280612992 | Q3: 0.6827935225074975\n"
     ]
    },
    {
     "data": {
      "image/png": "[encoded data removed]",
      "text/plain": [
       "<Figure size 640x480 with 1 Axes>"
      ]
     },
     "metadata": {},
     "output_type": "display_data"
    },
    {
     "data": {
      "text/plain": [
       "<Figure size 1000x700 with 0 Axes>"
      ]
     },
     "metadata": {},
     "output_type": "display_data"
    },
    {
     "name": "stdout",
     "output_type": "stream",
     "text": [
      "--------------------------------------------------\n",
      "Statistics of account_district_no_municipalities_500_1999\n",
      "--------------------------------------------------\n",
      "Min: -1.327519097830525\n",
      "Max: 2.9551615943415763\n",
      "Mean: -9.206727521281785e-17\n",
      "Median: 0.0796474153117371\n",
      "Standard deviation: 1.0015278847718296\n",
      "Skewness: 0.29245967470850165\n",
      "Variance: 1.003058103975535\n",
      "Kurtosis: -0.4387791204903646\n",
      "Interquartile Range: 1.7130722768688402 | Q1: -0.8992510286133144 | Q3: 0.8138212482555259\n"
     ]
    },
    {
     "data": {
      "image/png": "[encoded data removed]",
      "text/plain": [
       "<Figure size 640x480 with 1 Axes>"
      ]
     },
     "metadata": {},
     "output_type": "display_data"
    },
    {
     "data": {
      "text/plain": [
       "<Figure size 1000x700 with 0 Axes>"
      ]
     },
     "metadata": {},
     "output_type": "display_data"
    },
    {
     "name": "stdout",
     "output_type": "stream",
     "text": [
      "--------------------------------------------------\n",
      "Statistics of account_district_no_municipalities_2000_9999\n",
      "--------------------------------------------------\n",
      "Min: -1.2251048720751436\n",
      "Max: 3.284821031860289\n",
      "Mean: 3.791005449939559e-17\n",
      "Median: -0.0976233960912852\n",
      "Standard deviation: 1.0015278847718299\n",
      "Skewness: 0.8556854929742536\n",
      "Variance: 1.0030581039755355\n",
      "Kurtosis: 0.7722079693016441\n",
      "Interquartile Range: 1.35297777118063 | Q1: -0.7741122816816002 | Q3: 0.5788654894990297\n"
     ]
    },
    {
     "data": {
      "image/png": "[encoded data removed]",
      "text/plain": [
       "<Figure size 640x480 with 1 Axes>"
      ]
     },
     "metadata": {},
     "output_type": "display_data"
    },
    {
     "data": {
      "text/plain": [
       "<Figure size 1000x700 with 0 Axes>"
      ]
     },
     "metadata": {},
     "output_type": "display_data"
    },
    {
     "name": "stdout",
     "output_type": "stream",
     "text": [
      "--------------------------------------------------\n",
      "Statistics of account_district_no_municipalities_10000_plus\n",
      "--------------------------------------------------\n",
      "Min: 0\n",
      "Max: 5\n",
      "Mean: 1.649390243902439\n",
      "Median: 1.0\n",
      "Standard deviation: 1.0704251606786939\n",
      "Skewness: 1.217285588191101\n",
      "Variance: 1.1458100246140075\n",
      "Kurtosis: 1.3523008239536378\n",
      "Interquartile Range: 1.0 | Q1: 1.0 | Q3: 2.0\n"
     ]
    },
    {
     "data": {
      "image/png": "[encoded data removed]",
      "text/plain": [
       "<Figure size 640x480 with 1 Axes>"
      ]
     },
     "metadata": {},
     "output_type": "display_data"
    },
    {
     "data": {
      "text/plain": [
       "<Figure size 1000x700 with 0 Axes>"
      ]
     },
     "metadata": {},
     "output_type": "display_data"
    },
    {
     "name": "stdout",
     "output_type": "stream",
     "text": [
      "--------------------------------------------------\n",
      "Statistics of account_district_no_cities\n",
      "--------------------------------------------------\n",
      "Min: -1.4641314273610573\n",
      "Max: 2.0057754236102343\n",
      "Mean: -7.040438692744895e-17\n",
      "Median: -0.0761686869725406\n",
      "Standard deviation: 1.0015278847718296\n",
      "Skewness: -0.011958016794837953\n",
      "Variance: 1.003058103975535\n",
      "Kurtosis: -0.9696877864885018\n",
      "Interquartile Range: 1.0409720552913875 | Q1: -0.4231593720696698 | Q3: 0.6178126832217177\n"
     ]
    },
    {
     "data": {
      "image/png": "[encoded data removed]",
      "text/plain": [
       "<Figure size 640x480 with 1 Axes>"
      ]
     },
     "metadata": {},
     "output_type": "display_data"
    },
    {
     "data": {
      "text/plain": [
       "<Figure size 1000x700 with 0 Axes>"
      ]
     },
     "metadata": {},
     "output_type": "display_data"
    },
    {
     "name": "stdout",
     "output_type": "stream",
     "text": [
      "--------------------------------------------------\n",
      "Statistics of account_district_ratio_urban_inhabitants\n",
      "--------------------------------------------------\n",
      "Min: -1.6916207813530115\n",
      "Max: 1.5261661456292452\n",
      "Mean: -1.408087738548979e-16\n",
      "Median: -0.3236962329687237\n",
      "Standard deviation: 1.0015278847718296\n",
      "Skewness: 0.34076282492223237\n",
      "Variance: 1.003058103975535\n",
      "Kurtosis: -1.1662927154161014\n",
      "Interquartile Range: 1.7159907590941685 | Q1: -0.7618215331629794 | Q3: 0.9541692259311891\n"
     ]
    },
    {
     "data": {
      "image/png": "[encoded data removed]",
      "text/plain": [
       "<Figure size 640x480 with 1 Axes>"
      ]
     },
     "metadata": {},
     "output_type": "display_data"
    },
    {
     "data": {
      "text/plain": [
       "<Figure size 1000x700 with 0 Axes>"
      ]
     },
     "metadata": {},
     "output_type": "display_data"
    },
    {
     "name": "stdout",
     "output_type": "stream",
     "text": [
      "--------------------------------------------------\n",
      "Statistics of account_district_average_salary\n",
      "--------------------------------------------------\n",
      "Min: -1.2040562327776758\n",
      "Max: 2.099853903320019\n",
      "Mean: 4.874149864208005e-15\n",
      "Median: -0.398462159369655\n",
      "Standard deviation: 1.0015278847718296\n",
      "Skewness: 1.0770921471734831\n",
      "Variance: 1.003058103975535\n",
      "Kurtosis: 0.04327901610050011\n",
      "Interquartile Range: 1.1481994798467654 | Q1: -0.8016157506553312 | Q3: 0.3465837291914343\n"
     ]
    },
    {
     "data": {
      "image/png": "[encoded data removed]",
      "text/plain": [
       "<Figure size 640x480 with 1 Axes>"
      ]
     },
     "metadata": {},
     "output_type": "display_data"
    },
    {
     "data": {
      "text/plain": [
       "<Figure size 1000x700 with 0 Axes>"
      ]
     },
     "metadata": {},
     "output_type": "display_data"
    },
    {
     "name": "stdout",
     "output_type": "stream",
     "text": [
      "--------------------------------------------------\n",
      "Statistics of account_district_unemployment_rate_95\n",
      "--------------------------------------------------\n",
      "Min: -1.3279361370900062\n",
      "Max: 2.324299562815868\n",
      "Mean: 8.12358310701334e-17\n",
      "Median: -0.0431780469103491\n",
      "Standard deviation: 1.0015278847718296\n",
      "Skewness: 0.5215025631294232\n",
      "Variance: 1.003058103975535\n",
      "Kurtosis: -0.5054389350630801\n",
      "Interquartile Range: 1.258855709329266 | Q1: -0.7425423298710547 | Q3: 0.5163133794582112\n"
     ]
    },
    {
     "data": {
      "image/png": "[encoded data removed]",
      "text/plain": [
       "<Figure size 640x480 with 1 Axes>"
      ]
     },
     "metadata": {},
     "output_type": "display_data"
    },
    {
     "data": {
      "text/plain": [
       "<Figure size 1000x700 with 0 Axes>"
      ]
     },
     "metadata": {},
     "output_type": "display_data"
    },
    {
     "name": "stdout",
     "output_type": "stream",
     "text": [
      "--------------------------------------------------\n",
      "Statistics of account_district_unemployment_rate_96\n",
      "--------------------------------------------------\n",
      "Min: -1.3784542912505005\n",
      "Max: 2.682945974672684\n",
      "Mean: -2.0579743871100464e-16\n",
      "Median: 0.0070401138470406\n",
      "Standard deviation: 1.0015278847718296\n",
      "Skewness: 0.47530237148558674\n",
      "Variance: 1.003058103975535\n",
      "Kurtosis: -0.32251540276695767\n",
      "Interquartile Range: 1.3266335316783644 | Q1: -0.730984683639558 | Q3: 0.5956488480388064\n"
     ]
    },
    {
     "data": {
      "image/png": "[encoded data removed]",
      "text/plain": [
       "<Figure size 640x480 with 1 Axes>"
      ]
     },
     "metadata": {},
     "output_type": "display_data"
    },
    {
     "data": {
      "text/plain": [
       "<Figure size 1000x700 with 0 Axes>"
      ]
     },
     "metadata": {},
     "output_type": "display_data"
    },
    {
     "name": "stdout",
     "output_type": "stream",
     "text": [
      "--------------------------------------------------\n",
      "Statistics of account_district_no_enterpreneurs_per_1000_inhabitants\n",
      "--------------------------------------------------\n",
      "Min: -1.7461401312183678\n",
      "Max: 1.8499116189026608\n",
      "Mean: 1.7330310628295127e-16\n",
      "Median: -0.3035379756465598\n",
      "Standard deviation: 1.0015278847718296\n",
      "Skewness: 0.5916848426357392\n",
      "Variance: 1.003058103975535\n",
      "Kurtosis: -0.6495980694707728\n",
      "Interquartile Range: 1.3798803227208603 | Q1: -0.6589616951352664 | Q3: 0.7209186275855939\n"
     ]
    },
    {
     "data": {
      "image/png": "[encoded data removed]",
      "text/plain": [
       "<Figure size 640x480 with 1 Axes>"
      ]
     },
     "metadata": {},
     "output_type": "display_data"
    },
    {
     "data": {
      "text/plain": [
       "<Figure size 1000x700 with 0 Axes>"
      ]
     },
     "metadata": {},
     "output_type": "display_data"
    },
    {
     "name": "stdout",
     "output_type": "stream",
     "text": [
      "--------------------------------------------------\n",
      "Statistics of account_district_no_crimes_95\n",
      "--------------------------------------------------\n",
      "Min: -1.288162045909741\n",
      "Max: 1.98248123283734\n",
      "Mean: 1.624716621402668e-16\n",
      "Median: -0.3018031572151901\n",
      "Standard deviation: 1.0015278847718296\n",
      "Skewness: 0.8940653066788892\n",
      "Variance: 1.003058103975535\n",
      "Kurtosis: -0.42120490477917993\n",
      "Interquartile Range: 1.325058455491622 | Q1: -0.8005491354142982 | Q3: 0.5245093200773239\n"
     ]
    },
    {
     "data": {
      "image/png": "[encoded data removed]",
      "text/plain": [
       "<Figure size 640x480 with 1 Axes>"
      ]
     },
     "metadata": {},
     "output_type": "display_data"
    },
    {
     "data": {
      "text/plain": [
       "<Figure size 1000x700 with 0 Axes>"
      ]
     },
     "metadata": {},
     "output_type": "display_data"
    },
    {
     "name": "stdout",
     "output_type": "stream",
     "text": [
      "--------------------------------------------------\n",
      "Statistics of account_district_no_crimes_96\n",
      "--------------------------------------------------\n",
      "Min: -1.0994291268201748\n",
      "Max: 2.151829530568983\n",
      "Mean: -4.332577657073782e-17\n",
      "Median: -0.2809574424272856\n",
      "Standard deviation: 1.0015278847718296\n",
      "Skewness: 1.1952369174403192\n",
      "Variance: 1.003058103975535\n",
      "Kurtosis: 0.272805277408521\n",
      "Interquartile Range: 1.217558601239056 | Q1: -0.8110468384409626 | Q3: 0.4065117627980935\n"
     ]
    },
    {
     "data": {
      "image/png": "[encoded data removed]",
      "text/plain": [
       "<Figure size 640x480 with 1 Axes>"
      ]
     },
     "metadata": {},
     "output_type": "display_data"
    },
    {
     "data": {
      "text/plain": [
       "<Figure size 1000x700 with 0 Axes>"
      ]
     },
     "metadata": {},
     "output_type": "display_data"
    },
    {
     "name": "stdout",
     "output_type": "stream",
     "text": [
      "--------------------------------------------------\n",
      "Statistics of owner_card_type\n",
      "--------------------------------------------------\n",
      "Min: 0\n",
      "Max: 3\n",
      "Mean: 0.0701219512195122\n",
      "Median: 0.0\n",
      "Standard deviation: 0.3886272992765306\n",
      "Skewness: 5.687591792502146\n",
      "Variance: 0.1510311777429701\n",
      "Kurtosis: 32.352447970416584\n",
      "Interquartile Range: 0.0 | Q1: 0.0 | Q3: 0.0\n"
     ]
    },
    {
     "data": {
      "image/png": "[encoded data removed]",
      "text/plain": [
       "<Figure size 640x480 with 1 Axes>"
      ]
     },
     "metadata": {},
     "output_type": "display_data"
    },
    {
     "data": {
      "text/plain": [
       "<Figure size 1000x700 with 0 Axes>"
      ]
     },
     "metadata": {},
     "output_type": "display_data"
    },
    {
     "name": "stdout",
     "output_type": "stream",
     "text": [
      "--------------------------------------------------\n",
      "Statistics of owner_district_region\n",
      "--------------------------------------------------\n",
      "Min: 0\n",
      "Max: 7\n",
      "Mean: 2.9115853658536586\n",
      "Median: 3.0\n",
      "Standard deviation: 2.3268384764402272\n",
      "Skewness: 0.2996346679662918\n",
      "Variance: 5.414177295442678\n",
      "Kurtosis: -1.176324234067887\n",
      "Interquartile Range: 4.0 | Q1: 1.0 | Q3: 5.0\n"
     ]
    },
    {
     "data": {
      "image/png": "[encoded data removed]",
      "text/plain": [
       "<Figure size 640x480 with 1 Axes>"
      ]
     },
     "metadata": {},
     "output_type": "display_data"
    },
    {
     "data": {
      "text/plain": [
       "<Figure size 1000x700 with 0 Axes>"
      ]
     },
     "metadata": {},
     "output_type": "display_data"
    },
    {
     "name": "stdout",
     "output_type": "stream",
     "text": [
      "--------------------------------------------------\n",
      "Statistics of owner_district_no_inhabitants\n",
      "--------------------------------------------------\n",
      "Min: -2.2578547651771337\n",
      "Max: 1.7937416548851923\n",
      "Mean: 2.6807824253144024e-14\n",
      "Median: -0.1074678032376033\n",
      "Standard deviation: 1.0015278847718296\n",
      "Skewness: 0.11485386481540125\n",
      "Variance: 1.003058103975535\n",
      "Kurtosis: -0.35569779803591794\n",
      "Interquartile Range: 1.2961005353056712 | Q1: -0.6446260469629915 | Q3: 0.6514744883426796\n"
     ]
    },
    {
     "data": {
      "image/png": "[encoded data removed]",
      "text/plain": [
       "<Figure size 640x480 with 1 Axes>"
      ]
     },
     "metadata": {},
     "output_type": "display_data"
    },
    {
     "data": {
      "text/plain": [
       "<Figure size 1000x700 with 0 Axes>"
      ]
     },
     "metadata": {},
     "output_type": "display_data"
    },
    {
     "name": "stdout",
     "output_type": "stream",
     "text": [
      "--------------------------------------------------\n",
      "Statistics of owner_district_no_municipalities_0_499\n",
      "--------------------------------------------------\n",
      "Min: -1.1631458869244553\n",
      "Max: 3.1800604978459326\n",
      "Mean: 3.791005449939559e-17\n",
      "Median: -0.1852053764463547\n",
      "Standard deviation: 1.0015278847718296\n",
      "Skewness: 0.7991391184788172\n",
      "Variance: 1.003058103975535\n",
      "Kurtosis: 0.4547152728576447\n",
      "Interquartile Range: 1.5963440685745467 | Q1: -0.9330422374001964 | Q3: 0.6633018311743502\n"
     ]
    },
    {
     "data": {
      "image/png": "[encoded data removed]",
      "text/plain": [
       "<Figure size 640x480 with 1 Axes>"
      ]
     },
     "metadata": {},
     "output_type": "display_data"
    },
    {
     "data": {
      "text/plain": [
       "<Figure size 1000x700 with 0 Axes>"
      ]
     },
     "metadata": {},
     "output_type": "display_data"
    },
    {
     "name": "stdout",
     "output_type": "stream",
     "text": [
      "--------------------------------------------------\n",
      "Statistics of owner_district_no_municipalities_500_1999\n",
      "--------------------------------------------------\n",
      "Min: -1.346904839175736\n",
      "Max: 2.9304029211942364\n",
      "Mean: 4.332577657073782e-17\n",
      "Median: -0.0026081144880304\n",
      "Standard deviation: 1.0015278847718296\n",
      "Skewness: 0.34593730457102784\n",
      "Variance: 1.003058103975535\n",
      "Kurtosis: -0.28245853723059655\n",
      "Interquartile Range: 1.542886013562026 | Q1: -0.7358608734085973 | Q3: 0.8070251401534286\n"
     ]
    },
    {
     "data": {
      "image/png": "[encoded data removed]",
      "text/plain": [
       "<Figure size 640x480 with 1 Axes>"
      ]
     },
     "metadata": {},
     "output_type": "display_data"
    },
    {
     "data": {
      "text/plain": [
       "<Figure size 1000x700 with 0 Axes>"
      ]
     },
     "metadata": {},
     "output_type": "display_data"
    },
    {
     "name": "stdout",
     "output_type": "stream",
     "text": [
      "--------------------------------------------------\n",
      "Statistics of owner_district_no_municipalities_2000_9999\n",
      "--------------------------------------------------\n",
      "Min: -1.2506443394302509\n",
      "Max: 3.2033333297676023\n",
      "Mean: -6.498866485610672e-17\n",
      "Median: -0.1371499221307876\n",
      "Standard deviation: 1.0015278847718299\n",
      "Skewness: 0.9276375616077919\n",
      "Variance: 1.0030581039755355\n",
      "Kurtosis: 1.0322046318703682\n",
      "Interquartile Range: 1.1134944172994632 | Q1: -0.582547689050573 | Q3: 0.5309467282488903\n"
     ]
    },
    {
     "data": {
      "image/png": "[encoded data removed]",
      "text/plain": [
       "<Figure size 640x480 with 1 Axes>"
      ]
     },
     "metadata": {},
     "output_type": "display_data"
    },
    {
     "data": {
      "text/plain": [
       "<Figure size 1000x700 with 0 Axes>"
      ]
     },
     "metadata": {},
     "output_type": "display_data"
    },
    {
     "name": "stdout",
     "output_type": "stream",
     "text": [
      "--------------------------------------------------\n",
      "Statistics of owner_district_no_municipalities_10000_plus\n",
      "--------------------------------------------------\n",
      "Min: 0\n",
      "Max: 5\n",
      "Mean: 1.673780487804878\n",
      "Median: 1.0\n",
      "Standard deviation: 1.092222311884515\n",
      "Skewness: 1.1716388401327196\n",
      "Variance: 1.1929495785783546\n",
      "Kurtosis: 1.1561680259186056\n",
      "Interquartile Range: 1.0 | Q1: 1.0 | Q3: 2.0\n"
     ]
    },
    {
     "data": {
      "image/png": "[encoded data removed]",
      "text/plain": [
       "<Figure size 640x480 with 1 Axes>"
      ]
     },
     "metadata": {},
     "output_type": "display_data"
    },
    {
     "data": {
      "text/plain": [
       "<Figure size 1000x700 with 0 Axes>"
      ]
     },
     "metadata": {},
     "output_type": "display_data"
    },
    {
     "name": "stdout",
     "output_type": "stream",
     "text": [
      "--------------------------------------------------\n",
      "Statistics of owner_district_no_cities\n",
      "--------------------------------------------------\n",
      "Min: -1.5035169584508248\n",
      "Max: 1.991547268139328\n",
      "Mean: 2.7078610356711135e-17\n",
      "Median: -0.1054912678147637\n",
      "Standard deviation: 1.0015278847718296\n",
      "Skewness: -0.004885489702675284\n",
      "Variance: 1.003058103975535\n",
      "Kurtosis: -0.9115689698877913\n",
      "Interquartile Range: 1.0485192679770456 | Q1: -0.4549976904737789 | Q3: 0.5935215775032668\n"
     ]
    },
    {
     "data": {
      "image/png": "[encoded data removed]",
      "text/plain": [
       "<Figure size 640x480 with 1 Axes>"
      ]
     },
     "metadata": {},
     "output_type": "display_data"
    },
    {
     "data": {
      "text/plain": [
       "<Figure size 1000x700 with 0 Axes>"
      ]
     },
     "metadata": {},
     "output_type": "display_data"
    },
    {
     "name": "stdout",
     "output_type": "stream",
     "text": [
      "--------------------------------------------------\n",
      "Statistics of owner_district_ratio_urban_inhabitants\n",
      "--------------------------------------------------\n",
      "Min: -1.6815634150064382\n",
      "Max: 1.5853087590532748\n",
      "Mean: 1.9496599456832017e-16\n",
      "Median: -0.297714385147558\n",
      "Standard deviation: 1.0015278847718299\n",
      "Skewness: 0.3836903577660631\n",
      "Variance: 1.0030581039755355\n",
      "Kurtosis: -1.0825587351672674\n",
      "Interquartile Range: 1.6223158716113473 | Q1: -0.7524076378154756 | Q3: 0.8699082337958717\n"
     ]
    },
    {
     "data": {
      "image/png": "[encoded data removed]",
      "text/plain": [
       "<Figure size 640x480 with 1 Axes>"
      ]
     },
     "metadata": {},
     "output_type": "display_data"
    },
    {
     "data": {
      "text/plain": [
       "<Figure size 1000x700 with 0 Axes>"
      ]
     },
     "metadata": {},
     "output_type": "display_data"
    },
    {
     "name": "stdout",
     "output_type": "stream",
     "text": [
      "--------------------------------------------------\n",
      "Statistics of owner_district_average_salary\n",
      "--------------------------------------------------\n",
      "Min: -1.0725892731925193\n",
      "Max: 2.29056758929303\n",
      "Mean: -6.498866485610672e-16\n",
      "Median: -0.401627714529187\n",
      "Standard deviation: 1.0015278847718296\n",
      "Skewness: 1.3374941120938693\n",
      "Variance: 1.003058103975535\n",
      "Kurtosis: 0.6971647454885632\n",
      "Interquartile Range: 1.0252277436249955 | Q1: -0.7414727800173171 | Q3: 0.2837549636076785\n"
     ]
    },
    {
     "data": {
      "image/png": "[encoded data removed]",
      "text/plain": [
       "<Figure size 640x480 with 1 Axes>"
      ]
     },
     "metadata": {},
     "output_type": "display_data"
    },
    {
     "data": {
      "text/plain": [
       "<Figure size 1000x700 with 0 Axes>"
      ]
     },
     "metadata": {},
     "output_type": "display_data"
    },
    {
     "name": "stdout",
     "output_type": "stream",
     "text": [
      "--------------------------------------------------\n",
      "Statistics of owner_district_unemployment_rate_95\n",
      "--------------------------------------------------\n",
      "Min: -1.368067523105559\n",
      "Max: 2.350972107096865\n",
      "Mean: 3.5202193463724476e-17\n",
      "Median: -0.0598096106371867\n",
      "Standard deviation: 1.0015278847718296\n",
      "Skewness: 0.5460146521601154\n",
      "Variance: 1.003058103975535\n",
      "Kurtosis: -0.37969268269309175\n",
      "Interquartile Range: 1.226491792939099 | Q1: -0.724489033907408 | Q3: 0.502002759031691\n"
     ]
    },
    {
     "data": {
      "image/png": "[encoded data removed]",
      "text/plain": [
       "<Figure size 640x480 with 1 Axes>"
      ]
     },
     "metadata": {},
     "output_type": "display_data"
    },
    {
     "data": {
      "text/plain": [
       "<Figure size 1000x700 with 0 Axes>"
      ]
     },
     "metadata": {},
     "output_type": "display_data"
    },
    {
     "name": "stdout",
     "output_type": "stream",
     "text": [
      "--------------------------------------------------\n",
      "Statistics of owner_district_unemployment_rate_96\n",
      "--------------------------------------------------\n",
      "Min: -1.4078353558619816\n",
      "Max: 2.675522824112868\n",
      "Mean: -1.1373016349818677e-16\n",
      "Median: -0.0148502911213972\n",
      "Standard deviation: 1.0015278847718296\n",
      "Skewness: 0.5199169308730937\n",
      "Variance: 1.003058103975535\n",
      "Kurtosis: -0.20275542288297554\n",
      "Interquartile Range: 1.2882835729463573 | Q1: -0.7113428234916893 | Q3: 0.5769407494546679\n"
     ]
    },
    {
     "data": {
      "image/png": "[encoded data removed]",
      "text/plain": [
       "<Figure size 640x480 with 1 Axes>"
      ]
     },
     "metadata": {},
     "output_type": "display_data"
    },
    {
     "data": {
      "text/plain": [
       "<Figure size 1000x700 with 0 Axes>"
      ]
     },
     "metadata": {},
     "output_type": "display_data"
    },
    {
     "name": "stdout",
     "output_type": "stream",
     "text": [
      "--------------------------------------------------\n",
      "Statistics of owner_district_no_enterpreneurs_per_1000_inhabitants\n",
      "--------------------------------------------------\n",
      "Min: -1.7398836869327132\n",
      "Max: 1.9599760221511908\n",
      "Mean: 1.8819634197914238e-16\n",
      "Median: -0.2771484531088443\n",
      "Standard deviation: 1.0015278847718296\n",
      "Skewness: 0.6788818744308167\n",
      "Variance: 1.003058103975535\n",
      "Kurtosis: -0.410865597399221\n",
      "Interquartile Range: 1.2046054866784808 | Q1: -0.6213214493026961 | Q3: 0.5832840373757847\n"
     ]
    },
    {
     "data": {
      "image/png": "[encoded data removed]",
      "text/plain": [
       "<Figure size 640x480 with 1 Axes>"
      ]
     },
     "metadata": {},
     "output_type": "display_data"
    },
    {
     "data": {
      "text/plain": [
       "<Figure size 1000x700 with 0 Axes>"
      ]
     },
     "metadata": {},
     "output_type": "display_data"
    },
    {
     "name": "stdout",
     "output_type": "stream",
     "text": [
      "--------------------------------------------------\n",
      "Statistics of owner_district_no_crimes_95\n",
      "--------------------------------------------------\n",
      "Min: -1.258344629066115\n",
      "Max: 2.0990368493415663\n",
      "Mean: 7.040438692744895e-17\n",
      "Median: -0.3207550361238351\n",
      "Standard deviation: 1.0015278847718296\n",
      "Skewness: 1.0052306928294086\n",
      "Variance: 1.003058103975535\n",
      "Kurtosis: -0.14680944072396063\n",
      "Interquartile Range: 1.2043938233834641 | Q1: -0.7578001138730661 | Q3: 0.4465937095103979\n"
     ]
    },
    {
     "data": {
      "image/png": "[encoded data removed]",
      "text/plain": [
       "<Figure size 640x480 with 1 Axes>"
      ]
     },
     "metadata": {},
     "output_type": "display_data"
    },
    {
     "data": {
      "text/plain": [
       "<Figure size 1000x700 with 0 Axes>"
      ]
     },
     "metadata": {},
     "output_type": "display_data"
    },
    {
     "name": "stdout",
     "output_type": "stream",
     "text": [
      "--------------------------------------------------\n",
      "Statistics of owner_district_no_crimes_96\n",
      "--------------------------------------------------\n",
      "Min: -1.0681945174771117\n",
      "Max: 2.2851732027053906\n",
      "Mean: -9.748299728416009e-17\n",
      "Median: -0.2687135337949984\n",
      "Standard deviation: 1.0015278847718296\n",
      "Skewness: 1.3203077555788083\n",
      "Variance: 1.003058103975535\n",
      "Kurtosis: 0.6737856391737096\n",
      "Interquartile Range: 1.071279754582817 | Q1: -0.7707552919865815 | Q3: 0.3005244625962355\n"
     ]
    },
    {
     "data": {
      "image/png": "[encoded data removed]",
      "text/plain": [
       "<Figure size 640x480 with 1 Axes>"
      ]
     },
     "metadata": {},
     "output_type": "display_data"
    },
    {
     "data": {
      "text/plain": [
       "<Figure size 1000x700 with 0 Axes>"
      ]
     },
     "metadata": {},
     "output_type": "display_data"
    },
    {
     "name": "stdout",
     "output_type": "stream",
     "text": [
      "--------------------------------------------------\n",
      "Statistics of count_trans_credits\n",
      "--------------------------------------------------\n",
      "Min: -2.672533200237576\n",
      "Max: 2.4989678023444086\n",
      "Mean: -2.951568528881514e-16\n",
      "Median: 0.0157141748539086\n",
      "Standard deviation: 1.0015278847718296\n",
      "Skewness: -0.03026060640137436\n",
      "Variance: 1.003058103975535\n",
      "Kurtosis: -0.5593077972731444\n",
      "Interquartile Range: 1.4276469448829365 | Q1: -0.6967666606205787 | Q3: 0.7308802842623577\n"
     ]
    },
    {
     "data": {
      "image/png": "[encoded data removed]",
      "text/plain": [
       "<Figure size 640x480 with 1 Axes>"
      ]
     },
     "metadata": {},
     "output_type": "display_data"
    },
    {
     "data": {
      "text/plain": [
       "<Figure size 1000x700 with 0 Axes>"
      ]
     },
     "metadata": {},
     "output_type": "display_data"
    },
    {
     "name": "stdout",
     "output_type": "stream",
     "text": [
      "--------------------------------------------------\n",
      "Statistics of count_trans_withdrawals\n",
      "--------------------------------------------------\n",
      "Min: -2.247923634751168\n",
      "Max: 2.2573947775659877\n",
      "Mean: -1.597638011045957e-16\n",
      "Median: 0.0697260624610644\n",
      "Standard deviation: 1.0015278847718294\n",
      "Skewness: -0.11614686693173235\n",
      "Variance: 1.0030581039755349\n",
      "Kurtosis: -0.6389688990225739\n",
      "Interquartile Range: 1.3768218098905605 | Q1: -0.6811309380087948 | Q3: 0.6956908718817656\n"
     ]
    },
    {
     "data": {
      "image/png": "[encoded data removed]",
      "text/plain": [
       "<Figure size 640x480 with 1 Axes>"
      ]
     },
     "metadata": {},
     "output_type": "display_data"
    },
    {
     "data": {
      "text/plain": [
       "<Figure size 1000x700 with 0 Axes>"
      ]
     },
     "metadata": {},
     "output_type": "display_data"
    },
    {
     "name": "stdout",
     "output_type": "stream",
     "text": [
      "--------------------------------------------------\n",
      "Statistics of count_trans_credit_cash\n",
      "--------------------------------------------------\n",
      "Min: -1.1412617163976535\n",
      "Max: 3.24896286616412\n",
      "Mean: -1.3539305178355567e-17\n",
      "Median: -0.1557010958225616\n",
      "Standard deviation: 1.0015278847718296\n",
      "Skewness: 0.818497189915036\n",
      "Variance: 1.003058103975535\n",
      "Kurtosis: 0.17760961845172574\n",
      "Interquartile Range: 1.6127355609410592 | Q1: -0.9620688762930912 | Q3: 0.6506666846479681\n"
     ]
    },
    {
     "data": {
      "image/png": "[encoded data removed]",
      "text/plain": [
       "<Figure size 640x480 with 1 Axes>"
      ]
     },
     "metadata": {},
     "output_type": "display_data"
    },
    {
     "data": {
      "text/plain": [
       "<Figure size 1000x700 with 0 Axes>"
      ]
     },
     "metadata": {},
     "output_type": "display_data"
    },
    {
     "name": "stdout",
     "output_type": "stream",
     "text": [
      "--------------------------------------------------\n",
      "Statistics of count_trans_withdrawal_cash\n",
      "--------------------------------------------------\n",
      "Min: -2.202826364869002\n",
      "Max: 2.25413469358204\n",
      "Mean: 3.791005449939559e-17\n",
      "Median: 0.035402925287636\n",
      "Standard deviation: 1.0015278847718296\n",
      "Skewness: -0.15186225345771298\n",
      "Variance: 1.003058103975535\n",
      "Kurtosis: -0.7916772999880215\n",
      "Interquartile Range: 1.5303781808341967 | Q1: -0.7595232988605065 | Q3: 0.7708548819736902\n"
     ]
    },
    {
     "data": {
      "image/png": "[encoded data removed]",
      "text/plain": [
       "<Figure size 640x480 with 1 Axes>"
      ]
     },
     "metadata": {},
     "output_type": "display_data"
    },
    {
     "data": {
      "text/plain": [
       "<Figure size 1000x700 with 0 Axes>"
      ]
     },
     "metadata": {},
     "output_type": "display_data"
    },
    {
     "name": "stdout",
     "output_type": "stream",
     "text": [
      "--------------------------------------------------\n",
      "Statistics of count_trans_withdrawal_card\n",
      "--------------------------------------------------\n",
      "Min: 0\n",
      "Max: 8\n",
      "Mean: 0.0701219512195122\n",
      "Median: 0.0\n",
      "Standard deviation: 0.5888546783181915\n",
      "Skewness: 10.473461059169317\n",
      "Variance: 0.34674983217722083\n",
      "Kurtosis: 121.64663817445185\n",
      "Interquartile Range: 0.0 | Q1: 0.0 | Q3: 0.0\n"
     ]
    },
    {
     "data": {
      "image/png": "[encoded data removed]",
      "text/plain": [
       "<Figure size 640x480 with 1 Axes>"
      ]
     },
     "metadata": {},
     "output_type": "display_data"
    },
    {
     "data": {
      "text/plain": [
       "<Figure size 1000x700 with 0 Axes>"
      ]
     },
     "metadata": {},
     "output_type": "display_data"
    },
    {
     "name": "stdout",
     "output_type": "stream",
     "text": [
      "--------------------------------------------------\n",
      "Statistics of count_trans_collection_other_bank\n",
      "--------------------------------------------------\n",
      "Min: 0\n",
      "Max: 1\n",
      "Mean: 0.29573170731707316\n",
      "Median: 0.0\n",
      "Standard deviation: 0.4570682548292009\n",
      "Skewness: 0.8993032013104397\n",
      "Variance: 0.20891138957261132\n",
      "Kurtosis: -1.1985997179090588\n",
      "Interquartile Range: 1.0 | Q1: 0.0 | Q3: 1.0\n"
     ]
    },
    {
     "data": {
      "image/png": "[encoded data removed]",
      "text/plain": [
       "<Figure size 640x480 with 1 Axes>"
      ]
     },
     "metadata": {},
     "output_type": "display_data"
    },
    {
     "data": {
      "text/plain": [
       "<Figure size 1000x700 with 0 Axes>"
      ]
     },
     "metadata": {},
     "output_type": "display_data"
    },
    {
     "name": "stdout",
     "output_type": "stream",
     "text": [
      "--------------------------------------------------\n",
      "Statistics of count_trans_remittance_other_bank\n",
      "--------------------------------------------------\n",
      "Min: 0\n",
      "Max: 1\n",
      "Mean: 0.5670731707317073\n",
      "Median: 1.0\n",
      "Standard deviation: 0.4962378038122684\n",
      "Skewness: -0.2719851734722619\n",
      "Variance: 0.24625195793242338\n",
      "Kurtosis: -1.9378779091146312\n",
      "Interquartile Range: 1.0 | Q1: 0.0 | Q3: 1.0\n"
     ]
    },
    {
     "data": {
      "image/png": "[encoded data removed]",
      "text/plain": [
       "<Figure size 640x480 with 1 Axes>"
      ]
     },
     "metadata": {},
     "output_type": "display_data"
    },
    {
     "data": {
      "text/plain": [
       "<Figure size 1000x700 with 0 Axes>"
      ]
     },
     "metadata": {},
     "output_type": "display_data"
    },
    {
     "name": "stdout",
     "output_type": "stream",
     "text": [
      "--------------------------------------------------\n",
      "Statistics of count_trans_ksymbol_interest_credited\n",
      "--------------------------------------------------\n",
      "Min: -3.5213202531915546\n",
      "Max: 3.39256846083638\n",
      "Mean: 1.8007275887212906e-16\n",
      "Median: 0.0319060858497449\n",
      "Standard deviation: 1.0015278847718296\n",
      "Skewness: 0.030046100519060977\n",
      "Variance: 1.0030581039755353\n",
      "Kurtosis: 0.6435062791838417\n",
      "Interquartile Range: 1.2860474442781964 | Q1: -0.6232940788088502 | Q3: 0.6627533654693462\n"
     ]
    },
    {
     "data": {
      "image/png": "[encoded data removed]",
      "text/plain": [
       "<Figure size 640x480 with 1 Axes>"
      ]
     },
     "metadata": {},
     "output_type": "display_data"
    },
    {
     "data": {
      "text/plain": [
       "<Figure size 1000x700 with 0 Axes>"
      ]
     },
     "metadata": {},
     "output_type": "display_data"
    },
    {
     "name": "stdout",
     "output_type": "stream",
     "text": [
      "--------------------------------------------------\n",
      "Statistics of count_trans_ksymbol_household\n",
      "--------------------------------------------------\n",
      "Min: 0\n",
      "Max: 1\n",
      "Mean: 0.6067073170731707\n",
      "Median: 1.0\n",
      "Standard deviation: 0.4892272003111421\n",
      "Skewness: -0.438904309171294\n",
      "Variance: 0.23934325352427832\n",
      "Kurtosis: -1.818488855484993\n",
      "Interquartile Range: 1.0 | Q1: 0.0 | Q3: 1.0\n"
     ]
    },
    {
     "data": {
      "image/png": "[encoded data removed]",
      "text/plain": [
       "<Figure size 640x480 with 1 Axes>"
      ]
     },
     "metadata": {},
     "output_type": "display_data"
    },
    {
     "data": {
      "text/plain": [
       "<Figure size 1000x700 with 0 Axes>"
      ]
     },
     "metadata": {},
     "output_type": "display_data"
    },
    {
     "name": "stdout",
     "output_type": "stream",
     "text": [
      "--------------------------------------------------\n",
      "Statistics of count_trans_ksymbol_payment_for_statement\n",
      "--------------------------------------------------\n",
      "Min: -1.4210969134051137\n",
      "Max: 2.6353252887829006\n",
      "Mean: 2.7078610356711135e-17\n",
      "Median: -0.1304171217998363\n",
      "Standard deviation: 1.0015278847718296\n",
      "Skewness: 0.3241873351115071\n",
      "Variance: 1.003058103975535\n",
      "Kurtosis: -0.7784529339255828\n",
      "Interquartile Range: 1.659445446349642 | Q1: -0.8679484312885661 | Q3: 0.791497015061076\n"
     ]
    },
    {
     "data": {
      "image/png": "[encoded data removed]",
      "text/plain": [
       "<Figure size 640x480 with 1 Axes>"
      ]
     },
     "metadata": {},
     "output_type": "display_data"
    },
    {
     "data": {
      "text/plain": [
       "<Figure size 1000x700 with 0 Axes>"
      ]
     },
     "metadata": {},
     "output_type": "display_data"
    },
    {
     "name": "stdout",
     "output_type": "stream",
     "text": [
      "--------------------------------------------------\n",
      "Statistics of count_trans_ksymbol_insurance_payment\n",
      "--------------------------------------------------\n",
      "Min: 0\n",
      "Max: 0\n",
      "Mean: 0.0\n",
      "Median: 0.0\n",
      "Standard deviation: 0.0\n",
      "Skewness: 0\n",
      "Variance: 0.0\n",
      "Kurtosis: 0\n",
      "Interquartile Range: 0.0 | Q1: 0.0 | Q3: 0.0\n"
     ]
    },
    {
     "data": {
      "image/png": "[encoded data removed]",
      "text/plain": [
       "<Figure size 640x480 with 1 Axes>"
      ]
     },
     "metadata": {},
     "output_type": "display_data"
    },
    {
     "data": {
      "text/plain": [
       "<Figure size 1000x700 with 0 Axes>"
      ]
     },
     "metadata": {},
     "output_type": "display_data"
    },
    {
     "name": "stdout",
     "output_type": "stream",
     "text": [
      "--------------------------------------------------\n",
      "Statistics of count_trans_ksymbol_sanction_interest_if_negative_balance\n",
      "--------------------------------------------------\n",
      "Min: 0\n",
      "Max: 1\n",
      "Mean: 0.042682926829268296\n",
      "Median: 0.0\n",
      "Standard deviation: 0.20245012240637317\n",
      "Skewness: 4.545541330549654\n",
      "Variance: 0.040986052062355484\n",
      "Kurtosis: 18.776401078504154\n",
      "Interquartile Range: 0.0 | Q1: 0.0 | Q3: 0.0\n"
     ]
    },
    {
     "data": {
      "image/png": "[encoded data removed]",
      "text/plain": [
       "<Figure size 640x480 with 1 Axes>"
      ]
     },
     "metadata": {},
     "output_type": "display_data"
    },
    {
     "data": {
      "text/plain": [
       "<Figure size 1000x700 with 0 Axes>"
      ]
     },
     "metadata": {},
     "output_type": "display_data"
    },
    {
     "name": "stdout",
     "output_type": "stream",
     "text": [
      "--------------------------------------------------\n",
      "Statistics of count_trans_ksymbol_oldage_pension\n",
      "--------------------------------------------------\n",
      "Min: 0\n",
      "Max: 0\n",
      "Mean: 0.0\n",
      "Median: 0.0\n",
      "Standard deviation: 0.0\n",
      "Skewness: 0\n",
      "Variance: 0.0\n",
      "Kurtosis: 0\n",
      "Interquartile Range: 0.0 | Q1: 0.0 | Q3: 0.0\n"
     ]
    },
    {
     "data": {
      "image/png": "[encoded data removed]",
      "text/plain": [
       "<Figure size 640x480 with 1 Axes>"
      ]
     },
     "metadata": {},
     "output_type": "display_data"
    },
    {
     "data": {
      "text/plain": [
       "<Figure size 1000x700 with 0 Axes>"
      ]
     },
     "metadata": {},
     "output_type": "display_data"
    },
    {
     "name": "stdout",
     "output_type": "stream",
     "text": [
      "--------------------------------------------------\n",
      "Statistics of last_trans_balance\n",
      "--------------------------------------------------\n",
      "Min: -3.4258456466942317\n",
      "Max: 2.691696087741237\n",
      "Mean: -9.31504196270863e-16\n",
      "Median: 0.018277691368628498\n",
      "Standard deviation: 1.0015278847718296\n",
      "Skewness: 0.008626612298968968\n",
      "Variance: 1.003058103975535\n",
      "Kurtosis: 0.1783706644386811\n",
      "Interquartile Range: 1.3591870082914546 | Q1: -0.7335902973963707 | Q3: 0.625596710895084\n"
     ]
    },
    {
     "data": {
      "image/png": "[encoded data removed]",
      "text/plain": [
       "<Figure size 640x480 with 1 Axes>"
      ]
     },
     "metadata": {},
     "output_type": "display_data"
    },
    {
     "data": {
      "text/plain": [
       "<Figure size 1000x700 with 0 Axes>"
      ]
     },
     "metadata": {},
     "output_type": "display_data"
    },
    {
     "name": "stdout",
     "output_type": "stream",
     "text": [
      "--------------------------------------------------\n",
      "Statistics of mean_trans_balance\n",
      "--------------------------------------------------\n",
      "Min: -2.34106231723474\n",
      "Max: 2.4841151533478936\n",
      "Mean: 4.8741498642080043e-17\n",
      "Median: -0.08365628092814781\n",
      "Standard deviation: 1.0015278847718296\n",
      "Skewness: 0.2339246346962322\n",
      "Variance: 1.003058103975535\n",
      "Kurtosis: -0.7022090368578726\n",
      "Interquartile Range: 1.5399810410361057 | Q1: -0.8069826179502906 | Q3: 0.7329984230858151\n"
     ]
    },
    {
     "data": {
      "image/png": "[encoded data removed]",
      "text/plain": [
       "<Figure size 640x480 with 1 Axes>"
      ]
     },
     "metadata": {},
     "output_type": "display_data"
    },
    {
     "data": {
      "text/plain": [
       "<Figure size 1000x700 with 0 Axes>"
      ]
     },
     "metadata": {},
     "output_type": "display_data"
    },
    {
     "name": "stdout",
     "output_type": "stream",
     "text": [
      "--------------------------------------------------\n",
      "Statistics of mean_trans_amount_absolute\n",
      "--------------------------------------------------\n",
      "Min: -2.5019402128299046\n",
      "Max: 2.847465332447264\n",
      "Mean: -5.95729427847645e-17\n",
      "Median: 0.00241697826205925\n",
      "Standard deviation: 1.0015278847718296\n",
      "Skewness: -0.05597822070516782\n",
      "Variance: 1.003058103975535\n",
      "Kurtosis: -0.6026032332740914\n",
      "Interquartile Range: 1.510725074830936 | Q1: -0.7175930861900329 | Q3: 0.7931319886409032\n"
     ]
    },
    {
     "data": {
      "image/png": "[encoded data removed]",
      "text/plain": [
       "<Figure size 640x480 with 1 Axes>"
      ]
     },
     "metadata": {},
     "output_type": "display_data"
    },
    {
     "data": {
      "text/plain": [
       "<Figure size 1000x700 with 0 Axes>"
      ]
     },
     "metadata": {},
     "output_type": "display_data"
    },
    {
     "name": "stdout",
     "output_type": "stream",
     "text": [
      "--------------------------------------------------\n",
      "Statistics of mean_trans_amount_credit\n",
      "--------------------------------------------------\n",
      "Min: -1.7302093013055424\n",
      "Max: 2.79583331634268\n",
      "Mean: 1.624716621402668e-17\n",
      "Median: -0.07096880584129209\n",
      "Standard deviation: 1.0015278847718296\n",
      "Skewness: 0.3906793930781971\n",
      "Variance: 1.003058103975535\n",
      "Kurtosis: -0.5976578184596693\n",
      "Interquartile Range: 1.52647674694677 | Q1: -0.7752687549308734 | Q3: 0.7512079920158965\n"
     ]
    },
    {
     "data": {
      "image/png": "[encoded data removed]",
      "text/plain": [
       "<Figure size 640x480 with 1 Axes>"
      ]
     },
     "metadata": {},
     "output_type": "display_data"
    },
    {
     "data": {
      "text/plain": [
       "<Figure size 1000x700 with 0 Axes>"
      ]
     },
     "metadata": {},
     "output_type": "display_data"
    },
    {
     "name": "stdout",
     "output_type": "stream",
     "text": [
      "--------------------------------------------------\n",
      "Statistics of mean_trans_amount_withdrawal\n",
      "--------------------------------------------------\n",
      "Min: -3.548971418863623\n",
      "Max: 3.4737040021112184\n",
      "Mean: 4.657520981354315e-16\n",
      "Median: -0.009829221826685448\n",
      "Standard deviation: 1.0015278847718296\n",
      "Skewness: 0.06892600672032827\n",
      "Variance: 1.003058103975535\n",
      "Kurtosis: 0.8052296806772854\n",
      "Interquartile Range: 1.357389961962854 | Q1: -0.6737666211342002 | Q3: 0.6836233408286538\n"
     ]
    },
    {
     "data": {
      "image/png": "[encoded data removed]",
      "text/plain": [
       "<Figure size 640x480 with 1 Axes>"
      ]
     },
     "metadata": {},
     "output_type": "display_data"
    },
    {
     "data": {
      "text/plain": [
       "<Figure size 1000x700 with 0 Axes>"
      ]
     },
     "metadata": {},
     "output_type": "display_data"
    },
    {
     "name": "stdout",
     "output_type": "stream",
     "text": [
      "--------------------------------------------------\n",
      "Statistics of mean_trans_amount_signed\n",
      "--------------------------------------------------\n",
      "Min: -3.5622844602901247\n",
      "Max: 2.163723442612882\n",
      "Mean: -8.990098638428097e-16\n",
      "Median: -0.11634137252063326\n",
      "Standard deviation: 1.0015278847718296\n",
      "Skewness: 0.003925365354279242\n",
      "Variance: 1.003058103975535\n",
      "Kurtosis: -0.14826919942944317\n",
      "Interquartile Range: 1.339335542635748 | Q1: -0.6449029117657585 | Q3: 0.6944326308699894\n"
     ]
    },
    {
     "data": {
      "image/png": "[encoded data removed]",
      "text/plain": [
       "<Figure size 640x480 with 1 Axes>"
      ]
     },
     "metadata": {},
     "output_type": "display_data"
    },
    {
     "data": {
      "text/plain": [
       "<Figure size 1000x700 with 0 Axes>"
      ]
     },
     "metadata": {},
     "output_type": "display_data"
    },
    {
     "name": "stdout",
     "output_type": "stream",
     "text": [
      "--------------------------------------------------\n",
      "Statistics of owner_male\n",
      "--------------------------------------------------\n",
      "Min: 0\n",
      "Max: 1\n",
      "Mean: 0.5060975609756098\n",
      "Median: 1.0\n",
      "Standard deviation: 0.5007267039443399\n",
      "Skewness: -0.024504262612026945\n",
      "Variance: 0.2507272320429626\n",
      "Kurtosis: -2.0117035495555706\n",
      "Interquartile Range: 1.0 | Q1: 0.0 | Q3: 1.0\n"
     ]
    },
    {
     "data": {
      "image/png": "[encoded data removed]",
      "text/plain": [
       "<Figure size 640x480 with 1 Axes>"
      ]
     },
     "metadata": {},
     "output_type": "display_data"
    },
    {
     "data": {
      "text/plain": [
       "<Figure size 1000x700 with 0 Axes>"
      ]
     },
     "metadata": {},
     "output_type": "display_data"
    },
    {
     "name": "stdout",
     "output_type": "stream",
     "text": [
      "--------------------------------------------------\n",
      "Statistics of owner_age\n",
      "--------------------------------------------------\n",
      "Min: -1.818422401901577\n",
      "Max: 1.9373117550805647\n",
      "Mean: -1.2185374660520012e-16\n",
      "Median: -0.060419179484404\n",
      "Standard deviation: 1.0015278847718296\n",
      "Skewness: 0.09592305526228671\n",
      "Variance: 1.003058103975535\n",
      "Kurtosis: -1.0987081322214314\n",
      "Interquartile Range: 1.6780939850345742 | Q1: -0.8595115533103918 | Q3: 0.8185824317241824\n"
     ]
    },
    {
     "data": {
      "image/png": "[encoded data removed]",
      "text/plain": [
       "<Figure size 640x480 with 1 Axes>"
      ]
     },
     "metadata": {},
     "output_type": "display_data"
    },
    {
     "data": {
      "text/plain": [
       "<Figure size 1000x700 with 0 Axes>"
      ]
     },
     "metadata": {},
     "output_type": "display_data"
    },
    {
     "name": "stdout",
     "output_type": "stream",
     "text": [
      "--------------------------------------------------\n",
      "Statistics of account_age_months\n",
      "--------------------------------------------------\n",
      "Min: -1.637968444584631\n",
      "Max: 1.8990444960430268\n",
      "Mean: -3.5202193463724476e-17\n",
      "Median: 0.0374587378179437\n",
      "Standard deviation: 1.0015278847718296\n",
      "Skewness: 0.2031662813019711\n",
      "Variance: 1.003058103975535\n",
      "Kurtosis: -1.0278988989319167\n",
      "Interquartile Range: 1.6754271824025748 | Q1: -0.8933341412945978 | Q3: 0.782093041107977\n"
     ]
    },
    {
     "data": {
      "image/png": "[encoded data removed]",
      "text/plain": [
       "<Figure size 640x480 with 1 Axes>"
      ]
     },
     "metadata": {},
     "output_type": "display_data"
    },
    {
     "data": {
      "text/plain": [
       "<Figure size 1000x700 with 0 Axes>"
      ]
     },
     "metadata": {},
     "output_type": "display_data"
    },
    {
     "name": "stdout",
     "output_type": "stream",
     "text": [
      "--------------------------------------------------\n",
      "Statistics of has_disponent\n",
      "--------------------------------------------------\n",
      "Min: 0\n",
      "Max: 1\n",
      "Mean: 0.22865853658536586\n",
      "Median: 0.0\n",
      "Standard deviation: 0.420610484512994\n",
      "Skewness: 1.2981423194213844\n",
      "Variance: 0.17691317968225556\n",
      "Kurtosis: -0.31679552925069077\n",
      "Interquartile Range: 0.0 | Q1: 0.0 | Q3: 0.0\n"
     ]
    },
    {
     "data": {
      "image/png": "[encoded data removed]",
      "text/plain": [
       "<Figure size 640x480 with 1 Axes>"
      ]
     },
     "metadata": {},
     "output_type": "display_data"
    },
    {
     "data": {
      "text/plain": [
       "<Figure size 1000x700 with 0 Axes>"
      ]
     },
     "metadata": {},
     "output_type": "display_data"
    },
    {
     "name": "stdout",
     "output_type": "stream",
     "text": [
      "--------------------------------------------------\n",
      "Statistics of owner_profile\n",
      "--------------------------------------------------\n",
      "Min: 0\n",
      "Max: 2\n",
      "Mean: 1.6341463414634145\n",
      "Median: 2.0\n",
      "Standard deviation: 0.7543909404658242\n",
      "Skewness: -1.6460809402436805\n",
      "Variance: 0.5691056910569107\n",
      "Kurtosis: 0.8050571865237246\n",
      "Interquartile Range: 0.0 | Q1: 2.0 | Q3: 2.0\n"
     ]
    },
    {
     "data": {
      "image/png": "[encoded data removed]",
      "text/plain": [
       "<Figure size 640x480 with 1 Axes>"
      ]
     },
     "metadata": {},
     "output_type": "display_data"
    },
    {
     "data": {
      "text/plain": [
       "<Figure size 1000x700 with 0 Axes>"
      ]
     },
     "metadata": {},
     "output_type": "display_data"
    }
   ],
   "source": [
    "for col in data.columns:\n",
    "    print(\"-\"*50)\n",
    "    print(f\"Statistics of {col}\")\n",
    "    print(\"-\"*50)\n",
    "    #data[col].plot.box();\n",
    "\n",
    "    q3, q1 = np.percentile(data[col], [75 ,25])\n",
    "\n",
    "    print(\"Min: \", end=\"\");                 print(data[col].min())\n",
    "    print(\"Max: \", end=\"\");                 print(data[col].max())\n",
    "    print(\"Mean: \", end=\"\");                print(data[col].mean())\n",
    "    print(\"Median: \", end=\"\");              print(data[col].median())\n",
    "    print(\"Standard deviation: \", end=\"\");  print(data[col].std())\n",
    "    print(\"Skewness: \", end=\"\");            print(data[col].skew())  \n",
    "    print(\"Variance: \", end=\"\");            print(data[col].var())\n",
    "    print(\"Kurtosis: \", end=\"\");            print(data[col].kurtosis())\n",
    "    print(\"Interquartile Range: \", end=\"\"); print(q3 - q1, end=\" | \"); print(\"Q1: {} | Q3: {}\".format(q1,q3))\n",
    "    plt.boxplot(data[col])\n",
    "    fig = plt.figure(figsize =(10, 7))\n",
    "    plt.show()\n",
    "\n",
    "# var() method returns the unbiased variance\n",
    "# Medium-High std which indicates that the data is spread out and not clustered around the mean\n",
    "# Skewness > 1 => it is skewed to the right\n",
    "\n"
   ]
  },
  {
   "cell_type": "markdown",
   "metadata": {},
   "source": [
    "## Standard Deviation"
   ]
  },
  {
   "cell_type": "code",
   "execution_count": 5,
   "metadata": {},
   "outputs": [
    {
     "name": "stdout",
     "output_type": "stream",
     "text": [
      "--------------------------------------------------\n",
      "Outliers of owner_card_type - mean: 0.0701219512195122 - std: 0.3886272992765306\n",
      "--------------------------------------------------\n",
      "33     2\n",
      "88     2\n",
      "201    2\n",
      "244    2\n",
      "252    2\n",
      "263    2\n",
      "271    2\n",
      "276    2\n",
      "321    3\n",
      "322    3\n",
      "Name: owner_card_type, dtype: int64\n",
      "--------------------------------------------------\n",
      "Outliers of count_trans_withdrawal_card - mean: 0.0701219512195122 - std: 0.5888546783181915\n",
      "--------------------------------------------------\n",
      "33     5\n",
      "252    8\n",
      "321    4\n",
      "Name: count_trans_withdrawal_card, dtype: int64\n",
      "--------------------------------------------------\n",
      "Outliers of count_trans_ksymbol_sanction_interest_if_negative_balance - mean: 0.042682926829268296 - std: 0.20245012240637317\n",
      "--------------------------------------------------\n",
      "55     1\n",
      "62     1\n",
      "95     1\n",
      "111    1\n",
      "123    1\n",
      "135    1\n",
      "140    1\n",
      "144    1\n",
      "158    1\n",
      "217    1\n",
      "223    1\n",
      "232    1\n",
      "251    1\n",
      "277    1\n",
      "Name: count_trans_ksymbol_sanction_interest_if_negative_balance, dtype: int64\n"
     ]
    }
   ],
   "source": [
    "outliers_std = {}\n",
    "for col in data.columns:\n",
    "    data_mean, data_std = data[col].mean(), data[col].std()\n",
    "    # identify outliers\n",
    "    cut_off = data_std * 4\n",
    "    lower, upper = data_mean - cut_off, data_mean + cut_off \n",
    "    outliers_std[col] = pd.concat([data.loc[data[col] < lower] , (data.loc[data[col] > upper])])\n",
    "\n",
    "for key in outliers_std.keys():\n",
    "    if (len(outliers_std[key]) > 0):\n",
    "        print(\"-\"*50)\n",
    "        print(f\"Outliers of {key} - mean: {data[key].mean()} - std: {data[key].std()}\")\n",
    "        print(\"-\"*50)\n",
    "        print(outliers_std[key][key])"
   ]
  },
  {
   "cell_type": "code",
   "execution_count": 6,
   "metadata": {},
   "outputs": [
    {
     "data": {
      "text/plain": [
       "0.07317073170731707"
      ]
     },
     "execution_count": 6,
     "metadata": {},
     "output_type": "execute_result"
    }
   ],
   "source": [
    "outliers_ids_std = set([val for key in outliers_std.keys() for val in outliers_std[key]['Id']])\n",
    "outlier_ratio = len(outliers_ids_std) / len(data)\n",
    "outlier_ratio"
   ]
  },
  {
   "cell_type": "markdown",
   "metadata": {},
   "source": [
    "## Z-Score"
   ]
  },
  {
   "cell_type": "code",
   "execution_count": 18,
   "metadata": {},
   "outputs": [
    {
     "name": "stdout",
     "output_type": "stream",
     "text": [
      "--------------------------------------------------\n",
      "Outliers of owner_card_type - mean: 0.0701219512195122 - std: 0.3886272992765306\n",
      "--------------------------------------------------\n",
      "33     2\n",
      "88     2\n",
      "201    2\n",
      "244    2\n",
      "252    2\n",
      "263    2\n",
      "271    2\n",
      "276    2\n",
      "321    3\n",
      "322    3\n",
      "Name: owner_card_type, dtype: int64\n"
     ]
    },
    {
     "data": {
      "image/png": "[encoded data removed]",
      "text/plain": [
       "<Figure size 640x480 with 1 Axes>"
      ]
     },
     "metadata": {},
     "output_type": "display_data"
    },
    {
     "data": {
      "text/plain": [
       "<Figure size 1000x700 with 0 Axes>"
      ]
     },
     "metadata": {},
     "output_type": "display_data"
    },
    {
     "name": "stdout",
     "output_type": "stream",
     "text": [
      "--------------------------------------------------\n",
      "Outliers of count_trans_withdrawal_card - mean: 0.0701219512195122 - std: 0.5888546783181915\n",
      "--------------------------------------------------\n",
      "33     5\n",
      "252    8\n",
      "321    4\n",
      "Name: count_trans_withdrawal_card, dtype: int64\n"
     ]
    },
    {
     "data": {
      "image/png": "[encoded data removed]",
      "text/plain": [
       "<Figure size 640x480 with 1 Axes>"
      ]
     },
     "metadata": {},
     "output_type": "display_data"
    },
    {
     "data": {
      "text/plain": [
       "<Figure size 1000x700 with 0 Axes>"
      ]
     },
     "metadata": {},
     "output_type": "display_data"
    },
    {
     "name": "stdout",
     "output_type": "stream",
     "text": [
      "--------------------------------------------------\n",
      "Outliers of count_trans_ksymbol_sanction_interest_if_negative_balance - mean: 0.042682926829268296 - std: 0.20245012240637317\n",
      "--------------------------------------------------\n",
      "55     1\n",
      "62     1\n",
      "95     1\n",
      "111    1\n",
      "123    1\n",
      "135    1\n",
      "140    1\n",
      "144    1\n",
      "158    1\n",
      "217    1\n",
      "223    1\n",
      "232    1\n",
      "251    1\n",
      "277    1\n",
      "Name: count_trans_ksymbol_sanction_interest_if_negative_balance, dtype: int64\n"
     ]
    },
    {
     "data": {
      "image/png": "[encoded data removed]",
      "text/plain": [
       "<Figure size 640x480 with 1 Axes>"
      ]
     },
     "metadata": {},
     "output_type": "display_data"
    },
    {
     "data": {
      "text/plain": [
       "<Figure size 1000x700 with 0 Axes>"
      ]
     },
     "metadata": {},
     "output_type": "display_data"
    }
   ],
   "source": [
    "outliers_z = {}\n",
    "for col in data.columns:\n",
    "    z_val = (data[col] - data[col].mean()) / data[col].std()\n",
    "    outliers_z[col] = data.loc[(z_val < -4) | (z_val > 4)]\n",
    "\n",
    "for key in outliers_z.keys():\n",
    "    if (len(outliers_z[key]) > 0):\n",
    "        print(\"-\"*50)\n",
    "        print(f\"Outliers of {key} - mean: {data[key].mean()} - std: {data[key].std()}\")\n",
    "        print(\"-\"*50)\n",
    "        print(f\"{outliers_z[key][key]}\")\n",
    "        plt.boxplot(data[key])\n",
    "        fig = plt.figure(figsize =(10, 7))\n",
    "        plt.show()\n"
   ]
  },
  {
   "cell_type": "code",
   "execution_count": 11,
   "metadata": {},
   "outputs": [
    {
     "data": {
      "text/plain": [
       "0.07317073170731707"
      ]
     },
     "execution_count": 11,
     "metadata": {},
     "output_type": "execute_result"
    }
   ],
   "source": [
    "outliers_ids_z = set([val for key in outliers_z.keys() for val in outliers_z[key]['Id']])\n",
    "outlier_ratio = len(outliers_ids_z) / len(data)\n",
    "outlier_ratio"
   ]
  },
  {
   "cell_type": "markdown",
   "metadata": {},
   "source": [
    "# Dataset without Outliers"
   ]
  },
  {
   "cell_type": "code",
   "execution_count": 9,
   "metadata": {},
   "outputs": [
    {
     "data": {
      "text/html": [
       "<div>\n",
       "<style scoped>\n",
       "    .dataframe tbody tr th:only-of-type {\n",
       "        vertical-align: middle;\n",
       "    }\n",
       "\n",
       "    .dataframe tbody tr th {\n",
       "        vertical-align: top;\n",
       "    }\n",
       "\n",
       "    .dataframe thead th {\n",
       "        text-align: right;\n",
       "    }\n",
       "</style>\n",
       "<table border=\"1\" class=\"dataframe\">\n",
       "  <thead>\n",
       "    <tr style=\"text-align: right;\">\n",
       "      <th></th>\n",
       "      <th>Id</th>\n",
       "      <th>loan_date</th>\n",
       "      <th>loan_duration</th>\n",
       "      <th>loan_payments</th>\n",
       "      <th>Predicted</th>\n",
       "      <th>account_frequency</th>\n",
       "      <th>account_district_region</th>\n",
       "      <th>account_district_no_inhabitants</th>\n",
       "      <th>account_district_no_municipalities_0_499</th>\n",
       "      <th>account_district_no_municipalities_500_1999</th>\n",
       "      <th>...</th>\n",
       "      <th>mean_trans_balance</th>\n",
       "      <th>mean_trans_amount_absolute</th>\n",
       "      <th>mean_trans_amount_credit</th>\n",
       "      <th>mean_trans_amount_withdrawal</th>\n",
       "      <th>mean_trans_amount_signed</th>\n",
       "      <th>owner_male</th>\n",
       "      <th>owner_age</th>\n",
       "      <th>account_age_months</th>\n",
       "      <th>has_disponent</th>\n",
       "      <th>owner_profile</th>\n",
       "    </tr>\n",
       "  </thead>\n",
       "  <tbody>\n",
       "    <tr>\n",
       "      <th>0</th>\n",
       "      <td>5314</td>\n",
       "      <td>930705</td>\n",
       "      <td>12</td>\n",
       "      <td>1.772411</td>\n",
       "      <td>1.0</td>\n",
       "      <td>1</td>\n",
       "      <td>7</td>\n",
       "      <td>-0.555052</td>\n",
       "      <td>-0.696637</td>\n",
       "      <td>-0.532164</td>\n",
       "      <td>...</td>\n",
       "      <td>-2.341062</td>\n",
       "      <td>-1.095832</td>\n",
       "      <td>-1.277012</td>\n",
       "      <td>-3.548971</td>\n",
       "      <td>2.064417</td>\n",
       "      <td>0</td>\n",
       "      <td>0.738673</td>\n",
       "      <td>-1.637968</td>\n",
       "      <td>0</td>\n",
       "      <td>2</td>\n",
       "    </tr>\n",
       "    <tr>\n",
       "      <th>1</th>\n",
       "      <td>5316</td>\n",
       "      <td>930711</td>\n",
       "      <td>36</td>\n",
       "      <td>0.209593</td>\n",
       "      <td>0.0</td>\n",
       "      <td>2</td>\n",
       "      <td>3</td>\n",
       "      <td>-0.276803</td>\n",
       "      <td>0.251722</td>\n",
       "      <td>-0.103896</td>\n",
       "      <td>...</td>\n",
       "      <td>0.662960</td>\n",
       "      <td>0.445111</td>\n",
       "      <td>0.304714</td>\n",
       "      <td>0.259442</td>\n",
       "      <td>0.870102</td>\n",
       "      <td>1</td>\n",
       "      <td>-0.939421</td>\n",
       "      <td>-1.451810</td>\n",
       "      <td>0</td>\n",
       "      <td>2</td>\n",
       "    </tr>\n",
       "    <tr>\n",
       "      <th>2</th>\n",
       "      <td>6863</td>\n",
       "      <td>930728</td>\n",
       "      <td>60</td>\n",
       "      <td>-0.928164</td>\n",
       "      <td>0.0</td>\n",
       "      <td>2</td>\n",
       "      <td>3</td>\n",
       "      <td>-0.907746</td>\n",
       "      <td>1.315032</td>\n",
       "      <td>-0.165077</td>\n",
       "      <td>...</td>\n",
       "      <td>-0.997871</td>\n",
       "      <td>-0.973106</td>\n",
       "      <td>-1.279854</td>\n",
       "      <td>-0.405514</td>\n",
       "      <td>0.362060</td>\n",
       "      <td>1</td>\n",
       "      <td>1.697584</td>\n",
       "      <td>-1.265651</td>\n",
       "      <td>0</td>\n",
       "      <td>2</td>\n",
       "    </tr>\n",
       "    <tr>\n",
       "      <th>3</th>\n",
       "      <td>5325</td>\n",
       "      <td>930803</td>\n",
       "      <td>36</td>\n",
       "      <td>-0.553325</td>\n",
       "      <td>0.0</td>\n",
       "      <td>2</td>\n",
       "      <td>2</td>\n",
       "      <td>-0.344741</td>\n",
       "      <td>1.286294</td>\n",
       "      <td>0.446734</td>\n",
       "      <td>...</td>\n",
       "      <td>-0.150482</td>\n",
       "      <td>-0.193451</td>\n",
       "      <td>-0.489775</td>\n",
       "      <td>-0.135044</td>\n",
       "      <td>0.842490</td>\n",
       "      <td>0</td>\n",
       "      <td>1.377947</td>\n",
       "      <td>-1.079493</td>\n",
       "      <td>0</td>\n",
       "      <td>2</td>\n",
       "    </tr>\n",
       "    <tr>\n",
       "      <th>4</th>\n",
       "      <td>7240</td>\n",
       "      <td>930906</td>\n",
       "      <td>60</td>\n",
       "      <td>0.195440</td>\n",
       "      <td>0.0</td>\n",
       "      <td>1</td>\n",
       "      <td>4</td>\n",
       "      <td>1.729778</td>\n",
       "      <td>-1.127709</td>\n",
       "      <td>-1.327519</td>\n",
       "      <td>...</td>\n",
       "      <td>1.047898</td>\n",
       "      <td>1.926310</td>\n",
       "      <td>1.743982</td>\n",
       "      <td>1.716445</td>\n",
       "      <td>0.944229</td>\n",
       "      <td>1</td>\n",
       "      <td>-1.738513</td>\n",
       "      <td>-1.079493</td>\n",
       "      <td>0</td>\n",
       "      <td>0</td>\n",
       "    </tr>\n",
       "    <tr>\n",
       "      <th>...</th>\n",
       "      <td>...</td>\n",
       "      <td>...</td>\n",
       "      <td>...</td>\n",
       "      <td>...</td>\n",
       "      <td>...</td>\n",
       "      <td>...</td>\n",
       "      <td>...</td>\n",
       "      <td>...</td>\n",
       "      <td>...</td>\n",
       "      <td>...</td>\n",
       "      <td>...</td>\n",
       "      <td>...</td>\n",
       "      <td>...</td>\n",
       "      <td>...</td>\n",
       "      <td>...</td>\n",
       "      <td>...</td>\n",
       "      <td>...</td>\n",
       "      <td>...</td>\n",
       "      <td>...</td>\n",
       "      <td>...</td>\n",
       "      <td>...</td>\n",
       "    </tr>\n",
       "    <tr>\n",
       "      <th>323</th>\n",
       "      <td>6818</td>\n",
       "      <td>961212</td>\n",
       "      <td>48</td>\n",
       "      <td>-0.414986</td>\n",
       "      <td>0.0</td>\n",
       "      <td>2</td>\n",
       "      <td>1</td>\n",
       "      <td>0.598928</td>\n",
       "      <td>-0.208089</td>\n",
       "      <td>1.731539</td>\n",
       "      <td>...</td>\n",
       "      <td>0.068220</td>\n",
       "      <td>-1.137214</td>\n",
       "      <td>-1.012047</td>\n",
       "      <td>-1.070137</td>\n",
       "      <td>-0.537260</td>\n",
       "      <td>0</td>\n",
       "      <td>-0.859512</td>\n",
       "      <td>1.899044</td>\n",
       "      <td>1</td>\n",
       "      <td>2</td>\n",
       "    </tr>\n",
       "    <tr>\n",
       "      <th>324</th>\n",
       "      <td>5625</td>\n",
       "      <td>961215</td>\n",
       "      <td>60</td>\n",
       "      <td>-0.204510</td>\n",
       "      <td>1.0</td>\n",
       "      <td>2</td>\n",
       "      <td>7</td>\n",
       "      <td>-2.110760</td>\n",
       "      <td>0.366674</td>\n",
       "      <td>-0.715708</td>\n",
       "      <td>...</td>\n",
       "      <td>0.900256</td>\n",
       "      <td>0.595847</td>\n",
       "      <td>0.285059</td>\n",
       "      <td>0.536220</td>\n",
       "      <td>0.540540</td>\n",
       "      <td>1</td>\n",
       "      <td>1.697584</td>\n",
       "      <td>0.037459</td>\n",
       "      <td>0</td>\n",
       "      <td>2</td>\n",
       "    </tr>\n",
       "    <tr>\n",
       "      <th>325</th>\n",
       "      <td>6805</td>\n",
       "      <td>961221</td>\n",
       "      <td>48</td>\n",
       "      <td>-1.466909</td>\n",
       "      <td>0.0</td>\n",
       "      <td>2</td>\n",
       "      <td>1</td>\n",
       "      <td>0.822776</td>\n",
       "      <td>-1.127709</td>\n",
       "      <td>-1.205157</td>\n",
       "      <td>...</td>\n",
       "      <td>-0.097886</td>\n",
       "      <td>-0.313022</td>\n",
       "      <td>-0.621863</td>\n",
       "      <td>-0.182382</td>\n",
       "      <td>0.514984</td>\n",
       "      <td>0</td>\n",
       "      <td>0.259218</td>\n",
       "      <td>-0.893334</td>\n",
       "      <td>0</td>\n",
       "      <td>2</td>\n",
       "    </tr>\n",
       "    <tr>\n",
       "      <th>326</th>\n",
       "      <td>7233</td>\n",
       "      <td>961225</td>\n",
       "      <td>36</td>\n",
       "      <td>-0.426400</td>\n",
       "      <td>0.0</td>\n",
       "      <td>2</td>\n",
       "      <td>6</td>\n",
       "      <td>-0.570905</td>\n",
       "      <td>0.998913</td>\n",
       "      <td>-0.042715</td>\n",
       "      <td>...</td>\n",
       "      <td>1.007047</td>\n",
       "      <td>0.910852</td>\n",
       "      <td>0.869015</td>\n",
       "      <td>0.695252</td>\n",
       "      <td>-0.583636</td>\n",
       "      <td>1</td>\n",
       "      <td>0.578855</td>\n",
       "      <td>1.340569</td>\n",
       "      <td>0</td>\n",
       "      <td>2</td>\n",
       "    </tr>\n",
       "    <tr>\n",
       "      <th>327</th>\n",
       "      <td>7308</td>\n",
       "      <td>961227</td>\n",
       "      <td>24</td>\n",
       "      <td>0.566626</td>\n",
       "      <td>0.0</td>\n",
       "      <td>2</td>\n",
       "      <td>1</td>\n",
       "      <td>-0.371503</td>\n",
       "      <td>-0.035660</td>\n",
       "      <td>0.202010</td>\n",
       "      <td>...</td>\n",
       "      <td>-0.936874</td>\n",
       "      <td>-1.250832</td>\n",
       "      <td>-0.572199</td>\n",
       "      <td>-1.374658</td>\n",
       "      <td>-1.012774</td>\n",
       "      <td>0</td>\n",
       "      <td>-0.140328</td>\n",
       "      <td>0.409776</td>\n",
       "      <td>0</td>\n",
       "      <td>2</td>\n",
       "    </tr>\n",
       "  </tbody>\n",
       "</table>\n",
       "<p>304 rows × 59 columns</p>\n",
       "</div>"
      ],
      "text/plain": [
       "       Id  loan_date  loan_duration  loan_payments  Predicted  \\\n",
       "0    5314     930705             12       1.772411        1.0   \n",
       "1    5316     930711             36       0.209593        0.0   \n",
       "2    6863     930728             60      -0.928164        0.0   \n",
       "3    5325     930803             36      -0.553325        0.0   \n",
       "4    7240     930906             60       0.195440        0.0   \n",
       "..    ...        ...            ...            ...        ...   \n",
       "323  6818     961212             48      -0.414986        0.0   \n",
       "324  5625     961215             60      -0.204510        1.0   \n",
       "325  6805     961221             48      -1.466909        0.0   \n",
       "326  7233     961225             36      -0.426400        0.0   \n",
       "327  7308     961227             24       0.566626        0.0   \n",
       "\n",
       "     account_frequency  account_district_region  \\\n",
       "0                    1                        7   \n",
       "1                    2                        3   \n",
       "2                    2                        3   \n",
       "3                    2                        2   \n",
       "4                    1                        4   \n",
       "..                 ...                      ...   \n",
       "323                  2                        1   \n",
       "324                  2                        7   \n",
       "325                  2                        1   \n",
       "326                  2                        6   \n",
       "327                  2                        1   \n",
       "\n",
       "     account_district_no_inhabitants  \\\n",
       "0                          -0.555052   \n",
       "1                          -0.276803   \n",
       "2                          -0.907746   \n",
       "3                          -0.344741   \n",
       "4                           1.729778   \n",
       "..                               ...   \n",
       "323                         0.598928   \n",
       "324                        -2.110760   \n",
       "325                         0.822776   \n",
       "326                        -0.570905   \n",
       "327                        -0.371503   \n",
       "\n",
       "     account_district_no_municipalities_0_499  \\\n",
       "0                                   -0.696637   \n",
       "1                                    0.251722   \n",
       "2                                    1.315032   \n",
       "3                                    1.286294   \n",
       "4                                   -1.127709   \n",
       "..                                        ...   \n",
       "323                                 -0.208089   \n",
       "324                                  0.366674   \n",
       "325                                 -1.127709   \n",
       "326                                  0.998913   \n",
       "327                                 -0.035660   \n",
       "\n",
       "     account_district_no_municipalities_500_1999  ...  mean_trans_balance  \\\n",
       "0                                      -0.532164  ...           -2.341062   \n",
       "1                                      -0.103896  ...            0.662960   \n",
       "2                                      -0.165077  ...           -0.997871   \n",
       "3                                       0.446734  ...           -0.150482   \n",
       "4                                      -1.327519  ...            1.047898   \n",
       "..                                           ...  ...                 ...   \n",
       "323                                     1.731539  ...            0.068220   \n",
       "324                                    -0.715708  ...            0.900256   \n",
       "325                                    -1.205157  ...           -0.097886   \n",
       "326                                    -0.042715  ...            1.007047   \n",
       "327                                     0.202010  ...           -0.936874   \n",
       "\n",
       "     mean_trans_amount_absolute  mean_trans_amount_credit  \\\n",
       "0                     -1.095832                 -1.277012   \n",
       "1                      0.445111                  0.304714   \n",
       "2                     -0.973106                 -1.279854   \n",
       "3                     -0.193451                 -0.489775   \n",
       "4                      1.926310                  1.743982   \n",
       "..                          ...                       ...   \n",
       "323                   -1.137214                 -1.012047   \n",
       "324                    0.595847                  0.285059   \n",
       "325                   -0.313022                 -0.621863   \n",
       "326                    0.910852                  0.869015   \n",
       "327                   -1.250832                 -0.572199   \n",
       "\n",
       "     mean_trans_amount_withdrawal  mean_trans_amount_signed  owner_male  \\\n",
       "0                       -3.548971                  2.064417           0   \n",
       "1                        0.259442                  0.870102           1   \n",
       "2                       -0.405514                  0.362060           1   \n",
       "3                       -0.135044                  0.842490           0   \n",
       "4                        1.716445                  0.944229           1   \n",
       "..                            ...                       ...         ...   \n",
       "323                     -1.070137                 -0.537260           0   \n",
       "324                      0.536220                  0.540540           1   \n",
       "325                     -0.182382                  0.514984           0   \n",
       "326                      0.695252                 -0.583636           1   \n",
       "327                     -1.374658                 -1.012774           0   \n",
       "\n",
       "     owner_age  account_age_months  has_disponent  owner_profile  \n",
       "0     0.738673           -1.637968              0              2  \n",
       "1    -0.939421           -1.451810              0              2  \n",
       "2     1.697584           -1.265651              0              2  \n",
       "3     1.377947           -1.079493              0              2  \n",
       "4    -1.738513           -1.079493              0              0  \n",
       "..         ...                 ...            ...            ...  \n",
       "323  -0.859512            1.899044              1              2  \n",
       "324   1.697584            0.037459              0              2  \n",
       "325   0.259218           -0.893334              0              2  \n",
       "326   0.578855            1.340569              0              2  \n",
       "327  -0.140328            0.409776              0              2  \n",
       "\n",
       "[304 rows x 59 columns]"
      ]
     },
     "execution_count": 9,
     "metadata": {},
     "output_type": "execute_result"
    }
   ],
   "source": [
    "outliers_ids = outliers_ids_std.union(outliers_ids_z)\n",
    "manual_outlier_df = data.loc[~data['Id'].isin(outliers_ids)]\n",
    "manual_outlier_df"
   ]
  },
  {
   "cell_type": "code",
   "execution_count": 20,
   "metadata": {},
   "outputs": [
    {
     "name": "stdout",
     "output_type": "stream",
     "text": [
      "--------------------------------------------------\n",
      "Outliers of owner_card_type - mean: 0.0701219512195122 - std: 0.3886272992765306\n",
      "--------------------------------------------------\n",
      "33     2\n",
      "88     2\n",
      "201    2\n",
      "244    2\n",
      "252    2\n",
      "263    2\n",
      "271    2\n",
      "276    2\n",
      "321    3\n",
      "322    3\n",
      "Name: owner_card_type, dtype: int64\n"
     ]
    },
    {
     "data": {
      "image/png": "[encoded data removed]",
      "text/plain": [
       "<Figure size 640x480 with 1 Axes>"
      ]
     },
     "metadata": {},
     "output_type": "display_data"
    },
    {
     "data": {
      "text/plain": [
       "<Figure size 1000x700 with 0 Axes>"
      ]
     },
     "metadata": {},
     "output_type": "display_data"
    },
    {
     "name": "stdout",
     "output_type": "stream",
     "text": [
      "--------------------------------------------------\n",
      "Outliers of count_trans_withdrawal_card - mean: 0.0701219512195122 - std: 0.5888546783181915\n",
      "--------------------------------------------------\n",
      "33     5\n",
      "252    8\n",
      "321    4\n",
      "Name: count_trans_withdrawal_card, dtype: int64\n"
     ]
    },
    {
     "data": {
      "image/png": "[encoded data removed]",
      "text/plain": [
       "<Figure size 640x480 with 1 Axes>"
      ]
     },
     "metadata": {},
     "output_type": "display_data"
    },
    {
     "data": {
      "text/plain": [
       "<Figure size 1000x700 with 0 Axes>"
      ]
     },
     "metadata": {},
     "output_type": "display_data"
    },
    {
     "name": "stdout",
     "output_type": "stream",
     "text": [
      "--------------------------------------------------\n",
      "Outliers of count_trans_ksymbol_sanction_interest_if_negative_balance - mean: 0.042682926829268296 - std: 0.20245012240637317\n",
      "--------------------------------------------------\n",
      "55     1\n",
      "62     1\n",
      "95     1\n",
      "111    1\n",
      "123    1\n",
      "135    1\n",
      "140    1\n",
      "144    1\n",
      "158    1\n",
      "217    1\n",
      "223    1\n",
      "232    1\n",
      "251    1\n",
      "277    1\n",
      "Name: count_trans_ksymbol_sanction_interest_if_negative_balance, dtype: int64\n"
     ]
    },
    {
     "data": {
      "image/png": "[encoded data removed]",
      "text/plain": [
       "<Figure size 640x480 with 1 Axes>"
      ]
     },
     "metadata": {},
     "output_type": "display_data"
    },
    {
     "data": {
      "text/plain": [
       "<Figure size 1000x700 with 0 Axes>"
      ]
     },
     "metadata": {},
     "output_type": "display_data"
    }
   ],
   "source": [
    "for key in outliers_z.keys():\n",
    "    if (len(outliers_z[key]) > 0):\n",
    "        print(\"-\"*50)\n",
    "        print(f\"Outliers of {key} - mean: {data[key].mean()} - std: {data[key].std()}\")\n",
    "        print(\"-\"*50)\n",
    "        print(f\"{outliers_z[key][key]}\")\n",
    "        plt.boxplot(manual_outlier_df[key])\n",
    "        fig = plt.figure(figsize =(10, 7))\n",
    "        plt.show()"
   ]
  },
  {
   "cell_type": "code",
   "execution_count": 10,
   "metadata": {},
   "outputs": [],
   "source": [
    "manual_outlier_df.to_csv('output/loan_dev_transformed_outliers.csv', index=False)"
   ]
  }
 ],
 "metadata": {
  "kernelspec": {
   "display_name": "Python 3.11.0 64-bit",
   "language": "python",
   "name": "python3"
  },
  "language_info": {
   "codemirror_mode": {
    "name": "ipython",
    "version": 3
   },
   "file_extension": ".py",
   "mimetype": "text/x-python",
   "name": "python",
   "nbconvert_exporter": "python",
   "pygments_lexer": "ipython3",
   "version": "3.11.0"
  },
  "orig_nbformat": 4,
  "vscode": {
   "interpreter": {
    "hash": "70ed614c5bea7b2b9d9651bc06acb6fe772f41b2677a5ba6176aecf0d612d118"
   }
  }
 },
 "nbformat": 4,
 "nbformat_minor": 2
}
