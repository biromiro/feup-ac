{
 "cells": [
  {
   "cell_type": "markdown",
   "metadata": {},
   "source": [
    "# Load imports and data"
   ]
  },
  {
   "cell_type": "code",
   "execution_count": null,
   "metadata": {},
   "outputs": [],
   "source": [
    "from sklearn.cluster import KMeans\n",
    "import numpy as np \n",
    "import pandas as pd\n",
    "import matplotlib.pyplot as plt\n",
    "import seaborn as sns\n",
    "%matplotlib inline  \n",
    "from sklearn.metrics import silhouette_score, calinski_harabasz_score, davies_bouldin_score, silhouette_samples\n",
    "from sklearn.cluster import KMeans, AgglomerativeClustering\n",
    "from sklearn_extra.cluster import KMedoids\n",
    "from yellowbrick.cluster import KElbowVisualizer\n",
    "from sklearn.preprocessing import StandardScaler\n",
    "from sklearn.decomposition import PCA"
   ]
  },
  {
   "cell_type": "code",
   "execution_count": null,
   "metadata": {},
   "outputs": [],
   "source": [
    "random_state = 42\n",
    "data = pd.read_csv('output/loan_transformed.csv')\n",
    "data"
   ]
  },
  {
   "cell_type": "code",
   "execution_count": null,
   "metadata": {},
   "outputs": [],
   "source": [
    "input_cols = [\n",
    "    'owner_male',\n",
    "    'owner_age',\n",
    "    'owner_district_no_inhabitants',\n",
    "    'owner_district_ratio_urban_inhabitants',\n",
    "    'owner_district_average_salary',\n",
    "    'owner_district_unemployment_rate_95',\n",
    "    # 'owner_district_unemployment_rate_96',\n",
    "    'owner_district_no_enterpreneurs_per_1000_inhabitants',\n",
    "    'owner_district_no_crimes_95',\n",
    "    # 'owner_district_no_crimes_96',\n",
    "]\n",
    "\n",
    "data[input_cols]"
   ]
  },
  {
   "cell_type": "markdown",
   "metadata": {},
   "source": [
    "# Descriptive problem\n",
    "\n",
    "## Finding socio-demographic profile of account owners who made loans"
   ]
  },
  {
   "cell_type": "code",
   "execution_count": null,
   "metadata": {},
   "outputs": [],
   "source": [
    "def calculate_inputs(pca=False):\n",
    "    inputs = data[input_cols].values\n",
    "\n",
    "    if pca:\n",
    "        pca = PCA(n_components=2, random_state=random_state)\n",
    "        pca.fit(inputs)\n",
    "        inputs = pca.transform(inputs)\n",
    "    \n",
    "    return inputs\n",
    "\n",
    "def run_model(model, params, metric='euclidean'):\n",
    "    inputs = calculate_inputs()\n",
    "    clf = model(**params)\n",
    "    clf = clf.fit(inputs)\n",
    "\n",
    "    labels = clf.labels_\n",
    "\n",
    "    silhouettes = silhouette_samples(inputs, labels, metric=metric)\n",
    "\n",
    "    # order inputs, labels, silhouettes by labels, then by silhouettes\n",
    "    inputs = inputs[np.lexsort((silhouettes, labels))]\n",
    "    labels = labels[np.lexsort((silhouettes, labels))]\n",
    "    silhouettes = silhouettes[np.lexsort((silhouettes, labels))]\n",
    "\n",
    "    # plot the silhouette scores for each sample\n",
    "    x = np.arange(len(inputs))\n",
    "    plt.figure(figsize=(20, 10))\n",
    "    plt.bar(x, silhouettes, width=0.5)\n",
    "    plt.title('Silhouette scores')\n",
    "    plt.show()\n",
    "\n",
    "    print(f\"Average silhouette score: { {i: silhouettes[labels == i].mean() for i in range(clf.n_clusters)} }\")\n",
    "    print(f\"Total average silhouette score: {np.mean(silhouettes)}\")\n",
    "\n",
    "    # The score is defined as ratio of the sum of between-cluster dispersion and of within-cluster dispersion.\n",
    "    print(f\"Variance Ratio Criterion: {calinski_harabasz_score(inputs, labels)}\") \n",
    "\n",
    "    # The score is defined as the average similarity measure of each cluster with its most similar cluster, \n",
    "    # where similarity is the ratio of within-cluster distances to between-cluster distances. \n",
    "    # Thus, clusters which are farther apart and less dispersed will result in a better score.\n",
    "    print(f\"Davies-Bouldin score: {davies_bouldin_score(inputs, labels)}\")\n",
    "    \n",
    "    return clf\n",
    "\n",
    "def figure_out_best_k(model, params, metric='euclidean', min_clusters=2, max_clusters=10):\n",
    "    \"\"\"\n",
    "    This unfortunately cannot be done automatically, must choose manually after interpreting the graphs.\n",
    "    \"\"\"    \n",
    "    inputs = calculate_inputs()\n",
    "\n",
    "    clf = model(**params)\n",
    "\n",
    "    visualizer = KElbowVisualizer(clf, k=(min_clusters, max_clusters), distance_metric=metric, timings=False)\n",
    "    visualizer.fit(inputs)\n",
    "    visualizer.show()\n",
    "\n",
    "    silhouettes = []\n",
    "    K = range(min_clusters, max_clusters)\n",
    "    for k in K:\n",
    "        clf = model(**params, n_clusters=k)\n",
    "        clf.fit(inputs)\n",
    "        silhouettes.append(silhouette_score(inputs, clf.labels_, metric=metric))\n",
    "\n",
    "    best_k_silhouette = np.argmax(silhouettes) + min_clusters\n",
    "\n",
    "    plt.figure(figsize=(4,2))\n",
    "    plt.plot(K, silhouettes, 'bx-')\n",
    "    plt.xlabel('k')\n",
    "    plt.ylabel('Average silhouette width')\n",
    "    plt.title('Silhouette-based Method showing the optimal k')\n",
    "    plt.show()\n",
    " \n",
    "    return visualizer.elbow_value_, best_k_silhouette\n",
    "\n",
    "def use_model(model, params=None, metric='euclidean', min_clusters=2, max_clusters=10):\n",
    "    if params is None:\n",
    "        params = {}\n",
    "    \n",
    "    print(\"Finding best k...\")\n",
    "    elbow, silhouette = figure_out_best_k(model, params, metric, min_clusters, max_clusters)\n",
    "    print(\"=========================================\")\n",
    "    print(f\"Using best k from elbow method: {elbow}\")\n",
    "    run_model(model, {**params, 'n_clusters': elbow}, metric)\n",
    "    print(\"=========================================\")\n",
    "    print(f\"Using best k from silhouette method: {silhouette}\")\n",
    "    run_model(model, {**params, 'n_clusters': silhouette}, metric)\n"
   ]
  },
  {
   "cell_type": "code",
   "execution_count": null,
   "metadata": {},
   "outputs": [],
   "source": [
    "use_model(KMeans, {'random_state': random_state}, metric='euclidean')\n"
   ]
  },
  {
   "cell_type": "code",
   "execution_count": null,
   "metadata": {},
   "outputs": [],
   "source": [
    "use_model(AgglomerativeClustering, {'linkage': 'average'}, metric='euclidean')"
   ]
  },
  {
   "cell_type": "code",
   "execution_count": null,
   "metadata": {},
   "outputs": [],
   "source": [
    "use_model(KMedoids, {'method': 'pam', 'init': 'heuristic', 'max_iter': 300}, metric='euclidean')"
   ]
  },
  {
   "cell_type": "markdown",
   "metadata": {},
   "source": [
    "# Use and plot best model"
   ]
  },
  {
   "cell_type": "code",
   "execution_count": null,
   "metadata": {},
   "outputs": [],
   "source": [
    "clf = run_model(AgglomerativeClustering, {'linkage': 'average', 'n_clusters': 2}, metric='euclidean')\n",
    "data['owner_profile'] = clf.labels_\n",
    "data"
   ]
  },
  {
   "cell_type": "code",
   "execution_count": null,
   "metadata": {},
   "outputs": [],
   "source": [
    "sns.scatterplot(data, x='owner_district_ratio_urban_inhabitants', y='owner_district_average_salary', hue='owner_profile', palette='Set1')"
   ]
  },
  {
   "cell_type": "code",
   "execution_count": null,
   "metadata": {},
   "outputs": [],
   "source": [
    "sns.scatterplot(data, x='owner_district_unemployment_rate_95', y='owner_district_no_crimes_95', hue='owner_profile', palette='Set1')"
   ]
  },
  {
   "cell_type": "code",
   "execution_count": null,
   "metadata": {},
   "outputs": [],
   "source": [
    "sns.scatterplot(data, x='owner_district_no_inhabitants', y='owner_district_no_cities', hue='owner_profile', palette='Set1')"
   ]
  },
  {
   "cell_type": "markdown",
   "metadata": {},
   "source": [
    "# Save data"
   ]
  },
  {
   "cell_type": "code",
   "execution_count": null,
   "metadata": {},
   "outputs": [],
   "source": [
    "data.to_csv('output/loan_transformed_with_cluster.csv', index=False)\n",
    "\n",
    "df = data.sort_values(by='loan_date')\n",
    "competition = df[df['Predicted'].isna()]\n",
    "data = df[~df['Predicted'].isna()]\n",
    "\n",
    "data.to_csv('output/loan_dev_transformed_with_cluster.csv', index=False)\n",
    "competition.to_csv('output/loan_comp_transformed_with_cluster.csv', index=False)"
   ]
  }
 ],
 "metadata": {
  "kernelspec": {
   "display_name": "Python 3.10.7 64-bit",
   "language": "python",
   "name": "python3"
  },
  "language_info": {
   "codemirror_mode": {
    "name": "ipython",
    "version": 3
   },
   "file_extension": ".py",
   "mimetype": "text/x-python",
   "name": "python",
   "nbconvert_exporter": "python",
   "pygments_lexer": "ipython3",
   "version": "3.10.7"
  },
  "orig_nbformat": 4,
  "vscode": {
   "interpreter": {
    "hash": "26de051ba29f2982a8de78e945f0abaf191376122a1563185a90213a26c5da77"
   }
  }
 },
 "nbformat": 4,
 "nbformat_minor": 2
}
